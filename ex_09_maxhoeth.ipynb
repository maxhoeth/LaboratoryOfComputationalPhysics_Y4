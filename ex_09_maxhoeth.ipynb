{
 "cells": [
  {
   "cell_type": "markdown",
   "id": "e9687bdf",
   "metadata": {},
   "source": [
    "# Exercise 9\n",
    "***"
   ]
  },
  {
   "cell_type": "code",
   "execution_count": 6,
   "id": "45baea26",
   "metadata": {},
   "outputs": [],
   "source": [
    "from scipy import stats as sp\n",
    "import numpy as np\n",
    "import matplotlib.pyplot as plt\n",
    "plt.style.use('dark_background')"
   ]
  },
  {
   "cell_type": "markdown",
   "id": "cd2597d8",
   "metadata": {},
   "source": [
    "## 1."
   ]
  },
  {
   "cell_type": "code",
   "execution_count": 47,
   "id": "aac3c9e0",
   "metadata": {},
   "outputs": [],
   "source": [
    "ave = 6.3\n",
    "ave_15 = 15\n",
    "x = np.arange(1, 30)"
   ]
  },
  {
   "cell_type": "code",
   "execution_count": 48,
   "id": "d7157276",
   "metadata": {},
   "outputs": [],
   "source": [
    "f = sp.poisson.pmf(x, ave)\n",
    "g = sp.poisson.pmf(ave_15, ave)"
   ]
  },
  {
   "cell_type": "code",
   "execution_count": 49,
   "id": "1883afde",
   "metadata": {},
   "outputs": [
    {
     "data": {
      "image/png": "[encoded data removed]",
      "text/plain": [
       "<Figure size 432x288 with 1 Axes>"
      ]
     },
     "metadata": {},
     "output_type": "display_data"
    }
   ],
   "source": [
    "plt.scatter(x, f, color='whitesmoke', marker='o')\n",
    "plt.scatter(ave_15, g, color='red', marker='o')\n",
    "plt.vlines(x,0, f, label='hist. average', color='whitesmoke', lw=1)\n",
    "plt.vlines(ave_15, 0,g, label='2015',color='red', lw=2)\n",
    "plt.show()"
   ]
  },
  {
   "cell_type": "code",
   "execution_count": 50,
   "id": "ed37687f",
   "metadata": {},
   "outputs": [],
   "source": [
    "Z = abs(ave - ave_15)/ave"
   ]
  },
  {
   "cell_type": "code",
   "execution_count": 51,
   "id": "6429f6a7",
   "metadata": {},
   "outputs": [
    {
     "data": {
      "text/plain": [
       "1.380952380952381"
      ]
     },
     "execution_count": 51,
     "metadata": {},
     "output_type": "execute_result"
    }
   ],
   "source": [
    "Z"
   ]
  },
  {
   "cell_type": "markdown",
   "id": "08d02971",
   "metadata": {},
   "source": [
    "Not a significant difference."
   ]
  },
  {
   "cell_type": "markdown",
   "id": "4f42e148",
   "metadata": {},
   "source": [
    "## 2."
   ]
  },
  {
   "cell_type": "code",
   "execution_count": 52,
   "id": "7266d3fa",
   "metadata": {},
   "outputs": [],
   "source": [
    "pre = np.array([120, 132, 120, 110, 115, 128, 120, 112, 110, 100])\n",
    "post = np.array([140, 156, 145, 130, 117, 148, 137, 119, 127, 135])"
   ]
  },
  {
   "cell_type": "code",
   "execution_count": 54,
   "id": "4db494bc",
   "metadata": {},
   "outputs": [],
   "source": [
    "sigma = np.sqrt((np.std(pre) ** 2 + np.std(post) ** 2)/2)\n",
    "T = (np.mean(pre) - np.mean(post))/(sigma * np.sqrt(2/len(pre)))"
   ]
  },
  {
   "cell_type": "code",
   "execution_count": 58,
   "id": "b90cbb91",
   "metadata": {},
   "outputs": [],
   "source": [
    "pvalue = sp.t.cdf(T, len(pre) - 1) + (1. - sp.t.cdf(-T, len(pre) - 1))"
   ]
  },
  {
   "cell_type": "code",
   "execution_count": 61,
   "id": "bb3ce597",
   "metadata": {},
   "outputs": [
    {
     "data": {
      "text/plain": [
       "0.0031489409354536393"
      ]
     },
     "execution_count": 61,
     "metadata": {},
     "output_type": "execute_result"
    }
   ],
   "source": [
    "pvalue"
   ]
  },
  {
   "cell_type": "markdown",
   "id": "ab348065",
   "metadata": {},
   "source": []
  }
 ],
 "metadata": {
  "kernelspec": {
   "display_name": "Python 3 (ipykernel)",
   "language": "python",
   "name": "python3"
  },
  "language_info": {
   "codemirror_mode": {
    "name": "ipython",
    "version": 3
   },
   "file_extension": ".py",
   "mimetype": "text/x-python",
   "name": "python",
   "nbconvert_exporter": "python",
   "pygments_lexer": "ipython3",
   "version": "3.8.8"
  }
 },
 "nbformat": 4,
 "nbformat_minor": 5
}
