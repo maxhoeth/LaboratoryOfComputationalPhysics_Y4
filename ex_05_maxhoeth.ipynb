{
 "cells": [
  {
   "cell_type": "markdown",
   "id": "d143dae8",
   "metadata": {},
   "source": [
    "# Exercise 5:\n",
    "***"
   ]
  },
  {
   "cell_type": "markdown",
   "id": "291d84ef",
   "metadata": {},
   "source": [
    "## 1. "
   ]
  },
  {
   "cell_type": "code",
   "execution_count": 1,
   "id": "f0415d48",
   "metadata": {},
   "outputs": [],
   "source": [
    "import numpy as np\n",
    "import pandas as pd"
   ]
  },
  {
   "cell_type": "code",
   "execution_count": 2,
   "id": "e8bef91a",
   "metadata": {},
   "outputs": [
    {
     "name": "stdout",
     "output_type": "stream",
     "text": [
      "--2021-11-27 15:05:24--  https://www.dropbox.com/s/xvjzaxzz3ysphme/data_000637.txt\n",
      "Resolving www.dropbox.com... 162.125.69.18\n",
      "Connecting to www.dropbox.com|162.125.69.18|:443... connected.\n",
      "HTTP request sent, awaiting response... 301 Moved Permanently\n",
      "Location: /s/raw/xvjzaxzz3ysphme/data_000637.txt [following]\n",
      "--2021-11-27 15:05:24--  https://www.dropbox.com/s/raw/xvjzaxzz3ysphme/data_000637.txt\n",
      "Reusing existing connection to www.dropbox.com:443.\n",
      "HTTP request sent, awaiting response... 302 Found\n",
      "Location: https://uc9ce6b93c29004d4340de7df64e.dl.dropboxusercontent.com/cd/0/inline/BawnYb5gYaQtnS-3ypXdMZ2F3D_EJnSGL3q9ChNT47h36haubtS-7TLYs8dmfLCxiGLQifPjy5-SqT67ieFTMDj7NOpEfrsL69RSdgG8XtncEYU-Syluq5MD9d6aMJsEQ5uGIEyhe1BaVXDfsgGEoYRF/file# [following]\n",
      "--2021-11-27 15:05:24--  https://uc9ce6b93c29004d4340de7df64e.dl.dropboxusercontent.com/cd/0/inline/BawnYb5gYaQtnS-3ypXdMZ2F3D_EJnSGL3q9ChNT47h36haubtS-7TLYs8dmfLCxiGLQifPjy5-SqT67ieFTMDj7NOpEfrsL69RSdgG8XtncEYU-Syluq5MD9d6aMJsEQ5uGIEyhe1BaVXDfsgGEoYRF/file\n",
      "Resolving uc9ce6b93c29004d4340de7df64e.dl.dropboxusercontent.com... 162.125.69.15\n",
      "Connecting to uc9ce6b93c29004d4340de7df64e.dl.dropboxusercontent.com|162.125.69.15|:443... connected.\n",
      "HTTP request sent, awaiting response... 200 OK\n",
      "Length: 33179236 (32M) [text/plain]\n",
      "Saving to: '/Users/max/data/data_000637.txt'\n",
      "\n",
      "data_000637.txt     100%[===================>]  31.64M  1.99MB/s    in 20s     \n",
      "\n",
      "2021-11-27 15:05:45 (1.58 MB/s) - '/Users/max/data/data_000637.txt' saved [33179236/33179236]\n",
      "\n"
     ]
    }
   ],
   "source": [
    "!wget https://www.dropbox.com/s/xvjzaxzz3ysphme/data_000637.txt -P ~/data/"
   ]
  },
  {
   "cell_type": "code",
   "execution_count": 2,
   "id": "d49add57",
   "metadata": {},
   "outputs": [
    {
     "name": "stdout",
     "output_type": "stream",
     "text": [
      "        HEAD  FPGA  TDC_CHANNEL   ORBIT_CNT  BX_COUNTER  TDC_MEAS\n",
      "0          1     0          123  3869200167        2374        26\n",
      "1          1     0          124  3869200167        2374        27\n",
      "2          1     0           63  3869200167        2553        28\n",
      "3          1     0           64  3869200167        2558        19\n",
      "4          1     0           64  3869200167        2760        25\n",
      "...      ...   ...          ...         ...         ...       ...\n",
      "708183     1     0           40  3869207044        2339        15\n",
      "708184     1     0           38  3869207044        2342        10\n",
      "708185     1     0          119  3869207044        2348        27\n",
      "708186     1     0           63  3869207044        2483        17\n",
      "708187     1     0           59  3869207044        2493        29\n",
      "\n",
      "[708188 rows x 6 columns]\n"
     ]
    }
   ],
   "source": [
    "counter = 0\n",
    "with open('/Users/max/data/data_000637.txt') as dat:\n",
    "    for line in dat:\n",
    "        counter += 1\n",
    "\n",
    "N = np.random.randint(10000, counter)\n",
    "data = pd.read_csv('/Users/max/data/data_000637.txt', nrows = N)\n",
    "\n",
    "print(data)"
   ]
  },
  {
   "cell_type": "markdown",
   "id": "240e4b91",
   "metadata": {},
   "source": [
    "## 2."
   ]
  },
  {
   "cell_type": "code",
   "execution_count": 3,
   "id": "cdebce33",
   "metadata": {},
   "outputs": [
    {
     "name": "stdout",
     "output_type": "stream",
     "text": [
      "3564\n"
     ]
    }
   ],
   "source": [
    "bx_max = data['BX_COUNTER'].max() + 1\n",
    "  \n",
    "print(bx_max)"
   ]
  },
  {
   "cell_type": "markdown",
   "id": "436ae7cb",
   "metadata": {},
   "source": [
    "## 3."
   ]
  },
  {
   "cell_type": "code",
   "execution_count": 4,
   "id": "196f7afd",
   "metadata": {},
   "outputs": [
    {
     "name": "stdout",
     "output_type": "stream",
     "text": [
      "612743677.5 ns = 0.6127436775 s\n"
     ]
    }
   ],
   "source": [
    "orbit = data['ORBIT_CNT'].min()\n",
    "\n",
    "\n",
    "time = []\n",
    "for x,y,z in zip(data['ORBIT_CNT'], data['BX_COUNTER'], data['TDC_MEAS']):\n",
    "    time.append((x - orbit) * 3564 * 25 + y * 25 + z * (25/30))\n",
    "time = np.array(time)   \n",
    "\n",
    "\n",
    "data.assign(time_in_ns=time)\n",
    "start_time = time.min()\n",
    "end_time = time.max()\n",
    "t = end_time-start_time\n",
    "print(t, 'ns =', t * 10 ** (-9), 's' )"
   ]
  },
  {
   "cell_type": "markdown",
   "id": "610119f6",
   "metadata": {},
   "source": [
    "## 4."
   ]
  },
  {
   "cell_type": "code",
   "execution_count": 5,
   "id": "d8efea7b",
   "metadata": {},
   "outputs": [],
   "source": [
    "data = data.assign(abs_time = (data['ORBIT_CNT'] * 3564 * 25 + data['BX_COUNTER'] * 25 + data['TDC_MEAS'] * (25/30)))"
   ]
  },
  {
   "cell_type": "code",
   "execution_count": 6,
   "id": "c22b74af",
   "metadata": {},
   "outputs": [
    {
     "name": "stdout",
     "output_type": "stream",
     "text": [
      "344745734939071.7 344745734939072.5\n"
     ]
    }
   ],
   "source": [
    "print(data['abs_time'][0], data['abs_time'][1])"
   ]
  },
  {
   "cell_type": "markdown",
   "id": "972c521e",
   "metadata": {},
   "source": [
    "## 5."
   ]
  },
  {
   "cell_type": "code",
   "execution_count": 9,
   "id": "f8dd60c8",
   "metadata": {},
   "outputs": [
    {
     "name": "stdout",
     "output_type": "stream",
     "text": [
      "    HEAD  FPGA  TDC_CHANNEL   ORBIT_CNT  BX_COUNTER  TDC_MEAS      abs_time\n",
      "0      0     0          123  3869200167        2374        26  3.447457e+14\n",
      "1      1     0          124  3869200167        2374        27  3.447457e+14\n",
      "2      1     0           63  3869200167        2553        28  3.447457e+14\n",
      "3      0     0           64  3869200167        2558        19  3.447457e+14\n",
      "4      0     0           64  3869200167        2760        25  3.447457e+14\n",
      "5      0     0           63  3869200167        2762         4  3.447457e+14\n",
      "6      1     0           61  3869200167        2772        14  3.447457e+14\n",
      "7      1     0          139  3869200167        2776         0  3.447457e+14\n",
      "8      0     0           62  3869200167        2774        21  3.447457e+14\n",
      "9      0     0           60  3869200167        2788         7  3.447457e+14\n",
      "10     0     1            7  3869200167        2785         4  3.447457e+14\n",
      "11     0     0           64  3869200167        2786        19  3.447457e+14\n",
      "12     0     1            6  3869200167        2792        18  3.447457e+14\n",
      "13     1     0           36  3869200167        2791        23  3.447457e+14\n",
      "14     0     0           56  3869200167        2789         3  3.447457e+14\n",
      "15     0     1          139  3869200167        2797         0  3.447457e+14\n",
      "16     0     1            8  3869200167        2787        14  3.447457e+14\n",
      "17     0     0           63  3869200167        2790        10  3.447457e+14\n",
      "18     0     1            5  3869200167        2795         4  3.447457e+14\n",
      "19     0     0           53  3869200167        2796        26  3.447457e+14\n"
     ]
    },
    {
     "name": "stderr",
     "output_type": "stream",
     "text": [
      "/var/folders/0c/s31t6sbs7x92vc54xc4x32n40000gn/T/ipykernel_80156/3146968573.py:4: SettingWithCopyWarning: \n",
      "A value is trying to be set on a copy of a slice from a DataFrame\n",
      "\n",
      "See the caveats in the documentation: https://pandas.pydata.org/pandas-docs/stable/user_guide/indexing.html#returning-a-view-versus-a-copy\n",
      "  data['HEAD'][i] = np.random.randint(0, 2)\n"
     ]
    },
    {
     "name": "stdout",
     "output_type": "stream",
     "text": [
      "    HEAD  FPGA  TDC_CHANNEL   ORBIT_CNT  BX_COUNTER  TDC_MEAS      abs_time\n",
      "0      0     0          123  3869200167        2374        26  3.447457e+14\n",
      "1      1     0          124  3869200167        2374        27  3.447457e+14\n",
      "2      0     0           63  3869200167        2553        28  3.447457e+14\n",
      "3      0     0           64  3869200167        2558        19  3.447457e+14\n",
      "4      0     0           64  3869200167        2760        25  3.447457e+14\n",
      "5      0     0           63  3869200167        2762         4  3.447457e+14\n",
      "6      0     0           61  3869200167        2772        14  3.447457e+14\n",
      "7      0     0          139  3869200167        2776         0  3.447457e+14\n",
      "8      0     0           62  3869200167        2774        21  3.447457e+14\n",
      "9      0     0           60  3869200167        2788         7  3.447457e+14\n",
      "10     0     1            7  3869200167        2785         4  3.447457e+14\n",
      "11     0     0           64  3869200167        2786        19  3.447457e+14\n",
      "12     0     1            6  3869200167        2792        18  3.447457e+14\n",
      "13     1     0           36  3869200167        2791        23  3.447457e+14\n",
      "14     0     0           56  3869200167        2789         3  3.447457e+14\n",
      "15     0     1          139  3869200167        2797         0  3.447457e+14\n",
      "16     0     1            8  3869200167        2787        14  3.447457e+14\n",
      "17     0     0           63  3869200167        2790        10  3.447457e+14\n",
      "18     0     1            5  3869200167        2795         4  3.447457e+14\n",
      "19     0     0           53  3869200167        2796        26  3.447457e+14\n"
     ]
    }
   ],
   "source": [
    "print(data[:20])\n",
    "for i in range(len(data['HEAD'])):\n",
    "        if data['HEAD'][i] == 1:\n",
    "            data['HEAD'][i] = np.random.randint(0, 2)\n",
    "print(data[:20])"
   ]
  },
  {
   "cell_type": "markdown",
   "id": "4d0106fd",
   "metadata": {},
   "source": [
    "## 6."
   ]
  },
  {
   "cell_type": "code",
   "execution_count": 10,
   "id": "dc34ee67",
   "metadata": {},
   "outputs": [
    {
     "name": "stdout",
     "output_type": "stream",
     "text": [
      "        HEAD  FPGA  TDC_CHANNEL   ORBIT_CNT  BX_COUNTER  TDC_MEAS  \\\n",
      "1          1     0          124  3869200167        2374        27   \n",
      "13         1     0           36  3869200167        2791        23   \n",
      "26         1     0           59  3869200167        2799        14   \n",
      "32         1     0           61  3869200167        3085        25   \n",
      "43         1     1            1  3869200168           7        18   \n",
      "...      ...   ...          ...         ...         ...       ...   \n",
      "708181     1     0           91  3869207044        2151        19   \n",
      "708182     1     0           92  3869207044        2150         4   \n",
      "708183     1     0           40  3869207044        2339        15   \n",
      "708185     1     0          119  3869207044        2348        27   \n",
      "708186     1     0           63  3869207044        2483        17   \n",
      "\n",
      "            abs_time  \n",
      "1       3.447457e+14  \n",
      "13      3.447457e+14  \n",
      "26      3.447457e+14  \n",
      "32      3.447457e+14  \n",
      "43      3.447457e+14  \n",
      "...              ...  \n",
      "708181  3.447463e+14  \n",
      "708182  3.447463e+14  \n",
      "708183  3.447463e+14  \n",
      "708185  3.447463e+14  \n",
      "708186  3.447463e+14  \n",
      "\n",
      "[232934 rows x 7 columns]\n"
     ]
    }
   ],
   "source": [
    "data_1 = data[data['HEAD'] == 1]\n",
    "print(data_1)"
   ]
  },
  {
   "cell_type": "markdown",
   "id": "66b18580",
   "metadata": {},
   "source": [
    "## 7."
   ]
  },
  {
   "cell_type": "code",
   "execution_count": 23,
   "id": "d167acfa",
   "metadata": {},
   "outputs": [
    {
     "name": "stderr",
     "output_type": "stream",
     "text": [
      "/var/folders/0c/s31t6sbs7x92vc54xc4x32n40000gn/T/ipykernel_80156/1015546453.py:4: SettingWithCopyWarning: \n",
      "A value is trying to be set on a copy of a slice from a DataFrame.\n",
      "Try using .loc[row_indexer,col_indexer] = value instead\n",
      "\n",
      "See the caveats in the documentation: https://pandas.pydata.org/pandas-docs/stable/user_guide/indexing.html#returning-a-view-versus-a-copy\n",
      "  fpga0['int'] = 1\n",
      "/var/folders/0c/s31t6sbs7x92vc54xc4x32n40000gn/T/ipykernel_80156/1015546453.py:5: SettingWithCopyWarning: \n",
      "A value is trying to be set on a copy of a slice from a DataFrame.\n",
      "Try using .loc[row_indexer,col_indexer] = value instead\n",
      "\n",
      "See the caveats in the documentation: https://pandas.pydata.org/pandas-docs/stable/user_guide/indexing.html#returning-a-view-versus-a-copy\n",
      "  fpga1['int'] = 1\n"
     ]
    }
   ],
   "source": [
    "fpga0 = data[data['FPGA'] == 0]\n",
    "fpga1 = data[data['FPGA'] == 1]\n",
    "\n",
    "fpga0['int'] = 1\n",
    "fpga1['int'] = 1\n",
    "\n",
    "x0 = []\n",
    "for i in range(fpga0['TDC_CHANNEL'].max() + 1):\n",
    "    x0.append(fpga0.loc[fpga0['TDC_CHANNEL'] == i, 'BX_COUNTER'].sum())\n",
    "    "
   ]
  },
  {
   "cell_type": "code",
   "execution_count": 24,
   "id": "48f7fe81",
   "metadata": {},
   "outputs": [],
   "source": [
    "x1 = []\n",
    "for i in range(fpga1['TDC_CHANNEL'].max() + 1):\n",
    "    x1.append(fpga1.loc[fpga1['TDC_CHANNEL'] == i, 'BX_COUNTER'].sum())"
   ]
  },
  {
   "cell_type": "code",
   "execution_count": 34,
   "id": "3625ff9e",
   "metadata": {},
   "outputs": [],
   "source": [
    "x1_2 = fpga0.groupby('TDC_CHANNEL').sum()\n",
    "x2_2 = fpga1.groupby('TDC_CHANNEL').sum()"
   ]
  },
  {
   "cell_type": "code",
   "execution_count": 35,
   "id": "32eef92d",
   "metadata": {},
   "outputs": [
    {
     "data": {
      "text/plain": [
       "<matplotlib.legend.Legend at 0x7fe09b35f070>"
      ]
     },
     "execution_count": 35,
     "metadata": {},
     "output_type": "execute_result"
    },
    {
     "data": {
      "image/png": "[encoded data removed]",
      "text/plain": [
       "<Figure size 432x288 with 1 Axes>"
      ]
     },
     "metadata": {
      "needs_background": "light"
     },
     "output_type": "display_data"
    },
    {
     "data": {
      "image/png": "[encoded data removed]",
      "text/plain": [
       "<Figure size 432x288 with 1 Axes>"
      ]
     },
     "metadata": {
      "needs_background": "light"
     },
     "output_type": "display_data"
    },
    {
     "data": {
      "image/png": "[encoded data removed]",
      "text/plain": [
       "<Figure size 432x288 with 1 Axes>"
      ]
     },
     "metadata": {
      "needs_background": "light"
     },
     "output_type": "display_data"
    }
   ],
   "source": [
    "import matplotlib.pyplot as plt\n",
    "\n",
    "x0 = np.array(x0)\n",
    "x1 = np.array(x1)\n",
    "tdc = np.arange(140)\n",
    "\n",
    "plt.figure();\n",
    "plt.plot(tdc, x0*2/3564, 'g', label='FPGA0')\n",
    "plt.plot(tdc, x1*2/3564, 'r', label='FPGA1')\n",
    "plt.legend()\n",
    "\n",
    "\n",
    "plt.figure();\n",
    "plt.plot(x1_2.index, x1_2['BX_COUNTER']*2/3564, 'y', label='FPGA0_2')\n",
    "plt.plot(x2_2.index, x2_2['BX_COUNTER']*2/3564, 'b', label='FPGA1_2')\n",
    "plt.legend()\n",
    "\n",
    "plt.figure();\n",
    "plt.plot(x1_2.index, x1_2['int'], 'black', label='FPGA0_2')\n",
    "plt.plot(x2_2.index, x2_2['int'], 'r', label='FPGA1_2')\n",
    "plt.legend()"
   ]
  },
  {
   "cell_type": "markdown",
   "id": "4c3508e4",
   "metadata": {},
   "source": [
    "## 8."
   ]
  },
  {
   "cell_type": "code",
   "execution_count": 22,
   "id": "33a6fa0f",
   "metadata": {},
   "outputs": [
    {
     "name": "stdout",
     "output_type": "stream",
     "text": [
      "TDC_CHANNEL\n",
      "139    82572840\n",
      "64     70054376\n",
      "63     69473202\n",
      "Name: BX_COUNTER, dtype: int64\n",
      "TDC_CHANNEL\n",
      "139    35524566\n",
      "2      35367330\n",
      "1      30892206\n",
      "Name: BX_COUNTER, dtype: int64\n"
     ]
    }
   ],
   "source": [
    "noise0 = x1_2['BX_COUNTER'].nlargest(3)\n",
    "noise1 = x2_2['BX_COUNTER'].nlargest(3)\n",
    "print(noise0)\n",
    "print(noise1)"
   ]
  },
  {
   "cell_type": "markdown",
   "id": "346aa6f9",
   "metadata": {},
   "source": [
    "## 9."
   ]
  },
  {
   "cell_type": "code",
   "execution_count": 23,
   "id": "7f5dfa0c",
   "metadata": {},
   "outputs": [],
   "source": [
    "orbit0 = fpga0['ORBIT_CNT'].unique()\n",
    "orbit1 = fpga1['ORBIT_CNT'].unique()\n",
    "\n",
    "mask0_139 = fpga0.mask(fpga0['TDC_CHANNEL'] == 139)\n",
    "mask1_139 = fpga1.mask(fpga1['TDC_CHANNEL'] == 139)\n",
    "\n",
    "both0 = mask0_139['ORBIT_CNT'].unique()\n",
    "both0 = mask1_139['ORBIT_CNT'].unique()"
   ]
  }
 ],
 "metadata": {
  "kernelspec": {
   "display_name": "Python 3 (ipykernel)",
   "language": "python",
   "name": "python3"
  },
  "language_info": {
   "codemirror_mode": {
    "name": "ipython",
    "version": 3
   },
   "file_extension": ".py",
   "mimetype": "text/x-python",
   "name": "python",
   "nbconvert_exporter": "python",
   "pygments_lexer": "ipython3",
   "version": "3.8.8"
  }
 },
 "nbformat": 4,
 "nbformat_minor": 5
}
