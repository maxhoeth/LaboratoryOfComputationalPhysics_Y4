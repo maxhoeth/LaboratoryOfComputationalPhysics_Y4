{
 "cells": [
  {
   "cell_type": "markdown",
   "id": "6d34db3b-cf2c-429c-b7aa-f03b6f3c28ae",
   "metadata": {},
   "source": [
    "# Exercise 10\n",
    "***"
   ]
  },
  {
   "cell_type": "markdown",
   "id": "be30602b-bf40-40b6-a11a-b51031d34646",
   "metadata": {},
   "source": [
    "## 1."
   ]
  },
  {
   "cell_type": "code",
   "execution_count": 2,
   "id": "6ff15527",
   "metadata": {},
   "outputs": [],
   "source": [
    "import numpy as np\n",
    "import matplotlib.pyplot as plt\n",
    "import matplotlib.patches as mpatches\n",
    "from IPython import display"
   ]
  },
  {
   "cell_type": "code",
   "execution_count": 49,
   "id": "ee2f8812",
   "metadata": {},
   "outputs": [],
   "source": [
    "def p1(t):\n",
    "    return 1 - np.exp2(-t/tau)"
   ]
  },
  {
   "cell_type": "code",
   "execution_count": 50,
   "id": "b62e6beb-dbfd-4e57-aeb4-a5c84efbabc5",
   "metadata": {},
   "outputs": [],
   "source": [
    "def p2(t):\n",
    "    return np.exp2(-t/tau) * np.log(2)/tau"
   ]
  },
  {
   "cell_type": "code",
   "execution_count": 52,
   "id": "754209b4",
   "metadata": {},
   "outputs": [
    {
     "data": {
      "image/png": "[encoded data removed]",
      "text/plain": [
       "<Figure size 432x288 with 1 Axes>"
      ]
     },
     "metadata": {},
     "output_type": "display_data"
    }
   ],
   "source": [
    "tau = 3.052 * 60\n",
    "tl = 1000\n",
    "pb = 0\n",
    "time = np.arange(1, 60)\n",
    "\n",
    "Tl = mpatches.Patch(color='r', label='Tl')\n",
    "Pb = mpatches.Patch(color='g', label='Pb')\n",
    "\n",
    "fig = plt.figure()\n",
    "ax = fig.add_subplot(1, 1, 1)\n",
    "ax.set_title('normal method')\n",
    "ax.legend(handles=[Tl, Pb])\n",
    "for t in time:\n",
    "    ax.scatter(t, tl, color='r', label='Tl')\n",
    "    ax.scatter(t, pb, color='g', label='Pb')\n",
    "    ax.set_xlim(0, 60)\n",
    "    ax.set_xlabel('Time in s')\n",
    "    ax.set_ylabel('# of atoms')\n",
    "    display.display(fig)    \n",
    "    display.clear_output(wait = True)\n",
    "    plt.pause(0.0001)\n",
    "    for s in range(tl):\n",
    "        if np.random.uniform(0, 1) <= p1(t):\n",
    "            tl -= 1\n",
    "            pb += 1    \n"
   ]
  },
  {
   "cell_type": "code",
   "execution_count": 53,
   "id": "f99ec7d8-b8c9-4f55-abb0-dc98557591fc",
   "metadata": {},
   "outputs": [
    {
     "data": {
      "image/png": "[encoded data removed]",
      "text/plain": [
       "<Figure size 432x288 with 1 Axes>"
      ]
     },
     "metadata": {},
     "output_type": "display_data"
    }
   ],
   "source": [
    "tau = 3.052 * 60\n",
    "tl = 1000\n",
    "pb = 0\n",
    "time = np.arange(1, 60)\n",
    "\n",
    "Tl = mpatches.Patch(color='r', label='Tl')\n",
    "Pb = mpatches.Patch(color='g', label='Pb')\n",
    "\n",
    "fig = plt.figure()\n",
    "ax.set_title('inverse method')\n",
    "ax = fig.add_subplot(1, 1, 1)\n",
    "ax.legend(handles=[Tl, Pb])\n",
    "for t in time:\n",
    "    ax.scatter(t, tl, color='r', label='Tl')\n",
    "    ax.scatter(t, pb, color='g', label='Pb')\n",
    "    ax.set_xlim(0, 60)\n",
    "    ax.set_xlabel('Time in s')\n",
    "    ax.set_ylabel('# of atoms')\n",
    "    display.display(fig)    \n",
    "    display.clear_output(wait = True)\n",
    "    plt.pause(0.0001)\n",
    "    for s in range(tl):\n",
    "        if np.random.uniform(0, 1) <= p2(t):\n",
    "            tl -= 1\n",
    "            pb += 1  "
   ]
  },
  {
   "cell_type": "markdown",
   "id": "53804d87-da3d-420a-a5b1-630bb723bd8e",
   "metadata": {},
   "source": [
    "## 2."
   ]
  },
  {
   "cell_type": "code",
   "execution_count": 54,
   "id": "9c1e8b09-3895-4455-b97b-af9ecf123649",
   "metadata": {},
   "outputs": [],
   "source": [
    "Z = 79\n",
    "E = 7.7"
   ]
  },
  {
   "cell_type": "code",
   "execution_count": null,
   "id": "9dc1ab14",
   "metadata": {},
   "outputs": [],
   "source": [
    "def scattering():\n",
    "    return  \n"
   ]
  },
  {
   "cell_type": "markdown",
   "id": "85b572d5",
   "metadata": {},
   "source": [
    "## 3."
   ]
  },
  {
   "cell_type": "code",
   "execution_count": 160,
   "id": "e20a83cf",
   "metadata": {},
   "outputs": [],
   "source": [
    "def f(x):\n",
    "    return np.sin(1/(2 * x - x ** 2)) ** 2"
   ]
  },
  {
   "cell_type": "code",
   "execution_count": 174,
   "id": "b3aab936",
   "metadata": {},
   "outputs": [],
   "source": [
    "rand_x = np.random.uniform(0, 2, size=(10000))\n",
    "rand_y = np.random.uniform(0, 1, size=(10000))"
   ]
  },
  {
   "cell_type": "markdown",
   "id": "c1403a46",
   "metadata": {},
   "source": [
    "### Hit / Miss"
   ]
  },
  {
   "cell_type": "code",
   "execution_count": 175,
   "id": "23beca53",
   "metadata": {},
   "outputs": [
    {
     "name": "stdout",
     "output_type": "stream",
     "text": [
      "Integral of f(x) is 1.45\n"
     ]
    }
   ],
   "source": [
    "hit = 0\n",
    "for x, y  in  zip(rand_x, rand_y):\n",
    "    if y <= f(x):\n",
    "        hit+=1\n",
    "\n",
    "print('Integral of f(x) is {:.2f}'.format(2 * hit/len(rand_x)))"
   ]
  },
  {
   "cell_type": "markdown",
   "id": "6355c8d9",
   "metadata": {},
   "source": [
    "### mean value method"
   ]
  },
  {
   "cell_type": "code",
   "execution_count": 176,
   "id": "6810d8aa",
   "metadata": {},
   "outputs": [
    {
     "name": "stdout",
     "output_type": "stream",
     "text": [
      "Integral of f(x) is 1.45\n"
     ]
    }
   ],
   "source": [
    "def mvm(x):\n",
    "    return 2/len(x) * np.sum(f(x))\n",
    "\n",
    "print('Integral of f(x) is {:.2f}'.format(mvm(rand_x)))"
   ]
  },
  {
   "cell_type": "code",
   "execution_count": 177,
   "id": "d2a06b2a",
   "metadata": {},
   "outputs": [
    {
     "name": "stdout",
     "output_type": "stream",
     "text": [
      "mean value method error 0.005297\n"
     ]
    }
   ],
   "source": [
    "def mvm_err(x):\n",
    "    return 2 * np.sqrt(np.var(f(x)))/np.sqrt(len(x))\n",
    "\n",
    "print('mean value method error {:2f}'.format(mvm_err(rand_x)))"
   ]
  },
  {
   "cell_type": "markdown",
   "id": "fa36aea2",
   "metadata": {},
   "source": [
    "## 4."
   ]
  },
  {
   "cell_type": "code",
   "execution_count": 178,
   "id": "1734abbd",
   "metadata": {},
   "outputs": [],
   "source": [
    "def f(a):\n",
    "    if np.sum(a ** 2) <= 1:\n",
    "        return 1\n",
    "    else:\n",
    "        return 0"
   ]
  },
  {
   "cell_type": "code",
   "execution_count": 179,
   "id": "c7441ab8",
   "metadata": {},
   "outputs": [],
   "source": [
    "def area(val):\n",
    "    hit = 0\n",
    "    for i in val:\n",
    "        hit+= f(i)\n",
    "    return hit/len(val)"
   ]
  },
  {
   "cell_type": "code",
   "execution_count": 180,
   "id": "e5e51363",
   "metadata": {},
   "outputs": [
    {
     "name": "stdout",
     "output_type": "stream",
     "text": [
      "Area of a circle: 3.1451\n"
     ]
    }
   ],
   "source": [
    "dim = 2\n",
    "rand = np.random.uniform(-1, 1, size=(100000, dim)) # or from 0 to 1 it doesn't matter\n",
    "print('Area of a circle: {:.4f}'.format(2 ** dim * area(rand)))"
   ]
  },
  {
   "cell_type": "markdown",
   "id": "5f49d5d9",
   "metadata": {},
   "source": [
    "### For 10D"
   ]
  },
  {
   "cell_type": "code",
   "execution_count": 181,
   "id": "e0ff8b27",
   "metadata": {},
   "outputs": [
    {
     "name": "stdout",
     "output_type": "stream",
     "text": [
      "Area of a 10D sphere: 2.56\n"
     ]
    }
   ],
   "source": [
    "dim = 10\n",
    "rand = np.random.uniform(0, 1, size=(1000000, dim))\n",
    "\n",
    "print('Area of a 10D sphere: {:.2f}'.format(2 ** dim * area(rand)))"
   ]
  },
  {
   "cell_type": "markdown",
   "id": "3bf2b79d",
   "metadata": {},
   "source": [
    "## 5."
   ]
  },
  {
   "cell_type": "code",
   "execution_count": 381,
   "id": "c54c2736",
   "metadata": {},
   "outputs": [],
   "source": [
    "def w(x):\n",
    "    return 1/np.sqrt(x)"
   ]
  },
  {
   "cell_type": "code",
   "execution_count": 389,
   "id": "acca2208",
   "metadata": {},
   "outputs": [],
   "source": [
    "def f(x):\n",
    "    return 1/(np.exp(x) + 1)\n",
    "\n",
    "def integrate(x, y, f):\n",
    "    hit = 0\n",
    "    for i, s in zip(x, y):\n",
    "        if s <= f(i):\n",
    "            hit+=1\n",
    "    return 2 * hit/len(x)\n",
    "\n"
   ]
  },
  {
   "cell_type": "code",
   "execution_count": 390,
   "id": "f9f9616e",
   "metadata": {},
   "outputs": [],
   "source": [
    "def I(x, y):\n",
    "    a = integrate(x, y, w)\n",
    "    pre = 1/len(x) * np.sum(f(x ** 2))\n",
    "    return pre * a"
   ]
  },
  {
   "cell_type": "code",
   "execution_count": 392,
   "id": "ff8b86e8",
   "metadata": {},
   "outputs": [
    {
     "name": "stdout",
     "output_type": "stream",
     "text": [
      "Integral of I = 0.8405\n"
     ]
    }
   ],
   "source": [
    "rand = np.random.uniform(0, 1, size=(2, 1000))\n",
    "\n",
    "\n",
    "print('Integral of I = {:.4f}'.format(I(rand[0], rand[1])))"
   ]
  },
  {
   "cell_type": "code",
   "execution_count": null,
   "id": "fecfba97",
   "metadata": {},
   "outputs": [],
   "source": []
  }
 ],
 "metadata": {
  "kernelspec": {
   "display_name": "Python 3 (ipykernel)",
   "language": "python",
   "name": "python3"
  },
  "language_info": {
   "codemirror_mode": {
    "name": "ipython",
    "version": 3
   },
   "file_extension": ".py",
   "mimetype": "text/x-python",
   "name": "python",
   "nbconvert_exporter": "python",
   "pygments_lexer": "ipython3",
   "version": "3.8.8"
  }
 },
 "nbformat": 4,
 "nbformat_minor": 5
}
