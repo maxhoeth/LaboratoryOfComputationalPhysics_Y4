{
 "cells": [
  {
   "cell_type": "markdown",
   "id": "051efa3a",
   "metadata": {},
   "source": [
    "# Exercise 4\n",
    "***"
   ]
  },
  {
   "cell_type": "markdown",
   "id": "88f21990",
   "metadata": {},
   "source": [
    "## 1. create list and save as txt"
   ]
  },
  {
   "cell_type": "code",
   "execution_count": 16,
   "id": "9c7b4ace",
   "metadata": {},
   "outputs": [],
   "source": [
    "import numpy as np\n",
    "\n",
    "l = np.random.randint(0, 10, 100)\n",
    "m = np.random.randint(0, 10, (5,5))\n",
    "a_file = open(\"simple_data.txt\", \"w\")\n",
    "a_file = open(\"data.txt\", \"w\")\n",
    "np.savetxt(\"simple_data.txt\", l)\n",
    "np.savetxt(\"data.txt\", m)"
   ]
  },
  {
   "cell_type": "code",
   "execution_count": 18,
   "id": "8de2740c",
   "metadata": {},
   "outputs": [
    {
     "name": "stdout",
     "output_type": "stream",
     "text": [
      "[[4. 5. 5. 1. 7.]\n",
      " [6. 6. 7. 7. 0.]\n",
      " [8. 4. 3. 9. 9.]\n",
      " [8. 3. 1. 6. 4.]\n",
      " [6. 7. 6. 6. 4.]]\n"
     ]
    }
   ],
   "source": [
    "import csv\n",
    "\n",
    "s = np.loadtxt(\"data.txt\")\n",
    "print(s)"
   ]
  },
  {
   "cell_type": "code",
   "execution_count": null,
   "id": "00f81637",
   "metadata": {},
   "outputs": [],
   "source": []
  }
 ],
 "metadata": {
  "kernelspec": {
   "display_name": "Python 3 (ipykernel)",
   "language": "python",
   "name": "python3"
  },
  "language_info": {
   "codemirror_mode": {
    "name": "ipython",
    "version": 3
   },
   "file_extension": ".py",
   "mimetype": "text/x-python",
   "name": "python",
   "nbconvert_exporter": "python",
   "pygments_lexer": "ipython3",
   "version": "3.8.8"
  }
 },
 "nbformat": 4,
 "nbformat_minor": 5
}
