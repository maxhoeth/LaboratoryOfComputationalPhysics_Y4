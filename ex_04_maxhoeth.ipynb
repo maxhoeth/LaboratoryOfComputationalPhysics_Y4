{
 "cells": [
  {
   "cell_type": "markdown",
   "id": "051efa3a",
   "metadata": {},
   "source": [
    "# Exercise 4\n",
    "***"
   ]
  },
  {
   "cell_type": "markdown",
   "id": "88f21990",
   "metadata": {},
   "source": [
    "## 1. and 2."
   ]
  },
  {
   "cell_type": "code",
   "execution_count": 1,
   "id": "9c7b4ace",
   "metadata": {},
   "outputs": [],
   "source": [
    "import numpy as np\n",
    "\n",
    "l = np.random.randint(0, 10, 100)\n",
    "m = np.random.randint(0, 10, (5,5))\n",
    "a_file = open(\"simple_data.txt\", \"w\")\n",
    "a_file = open(\"data.txt\", \"w\")\n",
    "np.savetxt(\"simple_data.txt\", l)\n",
    "np.savetxt(\"data.txt\", m)"
   ]
  },
  {
   "cell_type": "markdown",
   "id": "fd3287da",
   "metadata": {},
   "source": [
    "## 3."
   ]
  },
  {
   "cell_type": "code",
   "execution_count": 2,
   "id": "8de2740c",
   "metadata": {},
   "outputs": [],
   "source": [
    "import csv\n",
    "\n",
    "s = np.loadtxt(\"data.txt\")\n",
    "with open('data_csv.csv', 'w') as csvfile:\n",
    "    writer = csv.writer(csvfile)\n",
    "    for rows in s:\n",
    "        writer.writerow(rows)\n",
    "        "
   ]
  },
  {
   "cell_type": "markdown",
   "id": "a8d61cf4",
   "metadata": {},
   "source": [
    "## 4."
   ]
  },
  {
   "cell_type": "code",
   "execution_count": 3,
   "id": "00f81637",
   "metadata": {},
   "outputs": [],
   "source": [
    "import wget\n",
    "\n",
    "# !wget https://raw.githubusercontent.com/PhysicsOfData/LaboratoryOfComputationalPhysics_Y3/master/credit_card.dat"
   ]
  },
  {
   "cell_type": "code",
   "execution_count": 4,
   "id": "a2625069",
   "metadata": {},
   "outputs": [
    {
     "name": "stdout",
     "output_type": "stream",
     "text": [
      "7648 5673 3775 2271\n",
      "3257 8247 3354 2266\n",
      "2722 0001 4011 6652\n",
      "0661 3063 3742 3150\n",
      "0432 1608 1462 4742\n",
      "5827 2027 8785 7303\n",
      "5774 8528 2087 1117\n",
      "8140 1210 6352 2845\n",
      "5764 1133 7301 7100\n",
      "6456 1737 4126 6726\n",
      "1228 8631 7382 0000\n",
      "7051 0160 5374 3166\n",
      "0618 3587 1630 6376\n",
      "1545 5454 7444 5636\n",
      "6735 3116 3202 6834\n",
      "7287 5011 1547 8413\n",
      "7033 2607 3328 4200\n",
      "2568 5244 1874 5024\n",
      "1684 2253 7570 7118\n",
      "0672 2576 0575 6631\n",
      "6332 8353 8787 1340\n",
      "1813 3361 1175 4211\n",
      "2477 6450 8840 2368\n",
      "5512 3505 2563 1326\n",
      "3083 7882 0621 0025\n",
      "4521 5148 8045 0334\n",
      "7563 3654 8713 5787\n",
      "8324 2664 0476 5561\n",
      "0565 2504 7168 3510\n",
      "5107 5507 1767 0738\n",
      "2462 1821 2448 1443\n",
      "2788 0638 6861 6554\n",
      "5851 5873 5474 0547\n",
      "0670 1004 4013 2655\n",
      "5874 5506 3048 0806\n",
      "2805 5401 8462 1260\n",
      "5083 8406 6310 1862\n",
      "1076 1445 3013 2266\n",
      "8440 4804 4844 5277\n",
      "4758 6141 0686 1387\n",
      "7586 0675 0315 2568\n",
      "2544 1258 7432 5165\n",
      "3474 5023 4434 5626\n",
      "1410 0270 0434 5086\n",
      "7315 4446 1104 4215\n",
      "0224 7742 8300 0266\n",
      "0170 2700 3145 0640\n",
      "2006 2437 8054 1600\n",
      "8142 4055 1776 0026\n",
      "3026 7380 1241 1084\n",
      "\n"
     ]
    }
   ],
   "source": [
    "with open('credit_card.dat', 'r') as f:\n",
    "    word_size = 6\n",
    "    counter = 0\n",
    "    for row in f:\n",
    "        counter += 1\n",
    "        card_number = ''\n",
    "        while len(row) > 5:\n",
    "            card_number += chr(int(row[:6], 2))\n",
    "            row = row[6:]\n",
    "        print(card_number)\n",
    "    "
   ]
  },
  {
   "cell_type": "markdown",
   "id": "93a6b7df",
   "metadata": {},
   "source": [
    "## 5."
   ]
  },
  {
   "cell_type": "code",
   "execution_count": 5,
   "id": "a4dbac9f",
   "metadata": {},
   "outputs": [],
   "source": [
    "# !wget https://raw.githubusercontent.com/PhysicsOfData/LaboratoryOfComputationalPhysics_Y3/master/user_data.json"
   ]
  },
  {
   "cell_type": "code",
   "execution_count": 6,
   "id": "b10f145d",
   "metadata": {},
   "outputs": [],
   "source": [
    "#!cat user_data.json\n",
    "\n",
    "import json\n",
    "json = json.load(open('user_data.json'))\n",
    "\n",
    "am_ex = [x for x in json if x['CreditCardType'] == 'American Express']\n",
    "\n",
    "with open('am_ex.csv', 'w') as am:\n",
    "    writer = csv.DictWriter(am, json[0].keys())\n",
    "    writer.writeheader()\n",
    "    writer.writerows(am_ex)\n",
    "        "
   ]
  },
  {
   "cell_type": "markdown",
   "id": "d25097aa",
   "metadata": {},
   "source": [
    "## 6."
   ]
  },
  {
   "cell_type": "code",
   "execution_count": 8,
   "id": "4a9ebb36",
   "metadata": {},
   "outputs": [],
   "source": [
    "import pandas as pd\n",
    "\n",
    "mushrooooms='https://www.dropbox.com/s/7u3lm737ogbqsg8/mushrooms_categorized.csv?dl=1'\n",
    "data = pd.read_csv(mushrooooms)\n",
    "data.to_csv(path_or_buf='mushroom.csv')\n"
   ]
  },
  {
   "cell_type": "code",
   "execution_count": 9,
   "id": "f74d3225",
   "metadata": {},
   "outputs": [
    {
     "name": "stdout",
     "output_type": "stream",
     "text": [
      "<class 'pandas.core.frame.DataFrame'>\n",
      "RangeIndex: 8124 entries, 0 to 8123\n",
      "Data columns (total 23 columns):\n",
      " #   Column                    Non-Null Count  Dtype\n",
      "---  ------                    --------------  -----\n",
      " 0   class                     8124 non-null   int64\n",
      " 1   cap-shape                 8124 non-null   int64\n",
      " 2   cap-surface               8124 non-null   int64\n",
      " 3   cap-color                 8124 non-null   int64\n",
      " 4   bruises                   8124 non-null   int64\n",
      " 5   odor                      8124 non-null   int64\n",
      " 6   gill-attachment           8124 non-null   int64\n",
      " 7   gill-spacing              8124 non-null   int64\n",
      " 8   gill-size                 8124 non-null   int64\n",
      " 9   gill-color                8124 non-null   int64\n",
      " 10  stalk-shape               8124 non-null   int64\n",
      " 11  stalk-root                8124 non-null   int64\n",
      " 12  stalk-surface-above-ring  8124 non-null   int64\n",
      " 13  stalk-surface-below-ring  8124 non-null   int64\n",
      " 14  stalk-color-above-ring    8124 non-null   int64\n",
      " 15  stalk-color-below-ring    8124 non-null   int64\n",
      " 16  veil-type                 8124 non-null   int64\n",
      " 17  veil-color                8124 non-null   int64\n",
      " 18  ring-number               8124 non-null   int64\n",
      " 19  ring-type                 8124 non-null   int64\n",
      " 20  spore-print-color         8124 non-null   int64\n",
      " 21  population                8124 non-null   int64\n",
      " 22  habitat                   8124 non-null   int64\n",
      "dtypes: int64(23)\n",
      "memory usage: 1.4 MB\n",
      "None\n"
     ]
    }
   ],
   "source": [
    "print(data.info())"
   ]
  },
  {
   "cell_type": "code",
   "execution_count": 10,
   "id": "8071b395",
   "metadata": {},
   "outputs": [
    {
     "data": {
      "text/plain": [
       "(array([4208.,    0.,    0.,    0.,    0.,    0.,    0.,    0.,    0.,\n",
       "        3916.]),\n",
       " array([0. , 0.1, 0.2, 0.3, 0.4, 0.5, 0.6, 0.7, 0.8, 0.9, 1. ]),\n",
       " <BarContainer object of 10 artists>)"
      ]
     },
     "execution_count": 10,
     "metadata": {},
     "output_type": "execute_result"
    },
    {
     "data": {
      "image/png": "[encoded data removed]",
      "text/plain": [
       "<Figure size 432x288 with 1 Axes>"
      ]
     },
     "metadata": {
      "needs_background": "light"
     },
     "output_type": "display_data"
    }
   ],
   "source": [
    "import matplotlib.pyplot as plt\n",
    "\n",
    "plt.hist(pd.DataFrame(data, columns=['class']))"
   ]
  },
  {
   "cell_type": "markdown",
   "id": "6bfe325f",
   "metadata": {},
   "source": [
    "## 7."
   ]
  },
  {
   "cell_type": "code",
   "execution_count": 11,
   "id": "3c09ec75",
   "metadata": {},
   "outputs": [],
   "source": [
    "new_data = 'https://www.dropbox.com/s/vkl89yce7xjdq4n/regression_generated.csv?dl=1'\n",
    "new_data = pd.read_csv(new_data)"
   ]
  },
  {
   "cell_type": "code",
   "execution_count": 12,
   "id": "8469e9c2",
   "metadata": {},
   "outputs": [
    {
     "name": "stdout",
     "output_type": "stream",
     "text": [
      "<class 'pandas.core.frame.DataFrame'>\n",
      "RangeIndex: 2000 entries, 0 to 1999\n",
      "Data columns (total 21 columns):\n",
      " #   Column       Non-Null Count  Dtype  \n",
      "---  ------       --------------  -----  \n",
      " 0   label        2000 non-null   float64\n",
      " 1   features_1   2000 non-null   float64\n",
      " 2   features_2   2000 non-null   float64\n",
      " 3   features_3   2000 non-null   float64\n",
      " 4   features_4   2000 non-null   float64\n",
      " 5   features_5   2000 non-null   float64\n",
      " 6   features_6   2000 non-null   float64\n",
      " 7   features_7   2000 non-null   float64\n",
      " 8   features_8   2000 non-null   float64\n",
      " 9   features_9   2000 non-null   float64\n",
      " 10  features_10  2000 non-null   float64\n",
      " 11  features_11  2000 non-null   float64\n",
      " 12  features_12  2000 non-null   float64\n",
      " 13  features_13  2000 non-null   float64\n",
      " 14  features_14  2000 non-null   float64\n",
      " 15  features_15  2000 non-null   float64\n",
      " 16  features_16  2000 non-null   float64\n",
      " 17  features_17  2000 non-null   float64\n",
      " 18  features_18  2000 non-null   float64\n",
      " 19  features_19  2000 non-null   float64\n",
      " 20  features_20  2000 non-null   float64\n",
      "dtypes: float64(21)\n",
      "memory usage: 328.2 KB\n"
     ]
    }
   ],
   "source": [
    "new_data.info()"
   ]
  },
  {
   "cell_type": "code",
   "execution_count": 13,
   "id": "a03e8aa1",
   "metadata": {},
   "outputs": [
    {
     "data": {
      "text/plain": [
       "<matplotlib.collections.PathCollection at 0x7fe809a61610>"
      ]
     },
     "execution_count": 13,
     "metadata": {},
     "output_type": "execute_result"
    },
    {
     "data": {
      "image/png": "[encoded data removed]",
      "text/plain": [
       "<Figure size 432x288 with 1 Axes>"
      ]
     },
     "metadata": {
      "needs_background": "light"
     },
     "output_type": "display_data"
    },
    {
     "data": {
      "image/png": "[encoded data removed]",
      "text/plain": [
       "<Figure size 432x288 with 1 Axes>"
      ]
     },
     "metadata": {
      "needs_background": "light"
     },
     "output_type": "display_data"
    },
    {
     "data": {
      "image/png": "[encoded data removed]",
      "text/plain": [
       "<Figure size 432x288 with 1 Axes>"
      ]
     },
     "metadata": {
      "needs_background": "light"
     },
     "output_type": "display_data"
    }
   ],
   "source": [
    "f1 = pd.DataFrame(new_data, columns = ['label'])\n",
    "f2 = pd.DataFrame(new_data, columns = ['features_1'])\n",
    "f3 = pd.DataFrame(new_data, columns = ['features_2'])                 \n",
    " \n",
    "plt.figure(1)\n",
    "plt.scatter(f1, f2, color='r')\n",
    "plt.figure(2)\n",
    "plt.scatter(f1, f3, color='g')\n",
    "plt.figure(3)\n",
    "plt.scatter(f2, f3, color='b')"
   ]
  },
  {
   "cell_type": "markdown",
   "id": "0c65a251",
   "metadata": {},
   "source": [
    "## 8."
   ]
  },
  {
   "cell_type": "code",
   "execution_count": 14,
   "id": "5ca3be99",
   "metadata": {},
   "outputs": [],
   "source": [
    "data.to_json(path_or_buf = 'mushrooms.json')"
   ]
  }
 ],
 "metadata": {
  "kernelspec": {
   "display_name": "Python 3 (ipykernel)",
   "language": "python",
   "name": "python3"
  },
  "language_info": {
   "codemirror_mode": {
    "name": "ipython",
    "version": 3
   },
   "file_extension": ".py",
   "mimetype": "text/x-python",
   "name": "python",
   "nbconvert_exporter": "python",
   "pygments_lexer": "ipython3",
   "version": "3.8.8"
  }
 },
 "nbformat": 4,
 "nbformat_minor": 5
}
