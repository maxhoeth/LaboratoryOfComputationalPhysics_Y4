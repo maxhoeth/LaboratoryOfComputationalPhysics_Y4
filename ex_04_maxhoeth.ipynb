{
 "cells": [
  {
   "cell_type": "markdown",
   "id": "051efa3a",
   "metadata": {},
   "source": [
    "# Exercise 4\n",
    "***"
   ]
  },
  {
   "cell_type": "markdown",
   "id": "88f21990",
   "metadata": {},
   "source": [
    "## 1. create list and save as txt"
   ]
  },
  {
   "cell_type": "code",
   "execution_count": 12,
   "id": "9c7b4ace",
   "metadata": {},
   "outputs": [],
   "source": [
    "import numpy as np\n",
    "\n",
    "l = np.random.randint(0, 10, 100)\n",
    "m = np.random.randint(0, 10, (5,5))\n",
    "a_file = open(\"simple_data.txt\", \"w\")\n",
    "a_file = open(\"data.txt\", \"w\")\n",
    "np.savetxt(\"simple_data.txt\", l)\n",
    "np.savetxt(\"data.txt\", m)"
   ]
  },
  {
   "cell_type": "code",
   "execution_count": 13,
   "id": "8de2740c",
   "metadata": {},
   "outputs": [],
   "source": [
    "import csv\n",
    "\n",
    "s = np.loadtxt(\"data.txt\")\n",
    "with open('data_csv.csv', 'w') as csvfile:\n",
    "    writer = csv.writer(csvfile)\n",
    "    for rows in s:\n",
    "        writer.writerow(rows)\n",
    "        "
   ]
  },
  {
   "cell_type": "code",
   "execution_count": 14,
   "id": "00f81637",
   "metadata": {},
   "outputs": [
    {
     "name": "stdout",
     "output_type": "stream",
     "text": [
      "--2021-11-16 00:07:48--  https://raw.githubusercontent.com/PhysicsOfData/LaboratoryOfComputationalPhysics_Y3/master/credit_card.dat\n",
      "Resolving raw.githubusercontent.com... 185.199.109.133, 185.199.110.133, 185.199.108.133, ...\n",
      "Connecting to raw.githubusercontent.com|185.199.109.133|:443... connected.\n",
      "HTTP request sent, awaiting response... 200 OK\n",
      "Length: 5955 (5.8K) [text/plain]\n",
      "Saving to: 'credit_card.dat.1'\n",
      "\n",
      "credit_card.dat.1   100%[===================>]   5.82K  --.-KB/s    in 0s      \n",
      "\n",
      "2021-11-16 00:07:48 (13.5 MB/s) - 'credit_card.dat.1' saved [5955/5955]\n",
      "\n"
     ]
    }
   ],
   "source": [
    "import wget\n",
    "\n",
    "!wget https://raw.githubusercontent.com/PhysicsOfData/LaboratoryOfComputationalPhysics_Y3/master/credit_card.dat"
   ]
  },
  {
   "cell_type": "code",
   "execution_count": 15,
   "id": "a2625069",
   "metadata": {},
   "outputs": [
    {
     "name": "stdout",
     "output_type": "stream",
     "text": [
      "7648 5673 3775 2271\n",
      "3257 8247 3354 2266\n",
      "2722 0001 4011 6652\n",
      "0661 3063 3742 3150\n",
      "0432 1608 1462 4742\n",
      "5827 2027 8785 7303\n",
      "5774 8528 2087 1117\n",
      "8140 1210 6352 2845\n",
      "5764 1133 7301 7100\n",
      "6456 1737 4126 6726\n",
      "1228 8631 7382 0000\n",
      "7051 0160 5374 3166\n",
      "0618 3587 1630 6376\n",
      "1545 5454 7444 5636\n",
      "6735 3116 3202 6834\n",
      "7287 5011 1547 8413\n",
      "7033 2607 3328 4200\n",
      "2568 5244 1874 5024\n",
      "1684 2253 7570 7118\n",
      "0672 2576 0575 6631\n",
      "6332 8353 8787 1340\n",
      "1813 3361 1175 4211\n",
      "2477 6450 8840 2368\n",
      "5512 3505 2563 1326\n",
      "3083 7882 0621 0025\n",
      "4521 5148 8045 0334\n",
      "7563 3654 8713 5787\n",
      "8324 2664 0476 5561\n",
      "0565 2504 7168 3510\n",
      "5107 5507 1767 0738\n",
      "2462 1821 2448 1443\n",
      "2788 0638 6861 6554\n",
      "5851 5873 5474 0547\n",
      "0670 1004 4013 2655\n",
      "5874 5506 3048 0806\n",
      "2805 5401 8462 1260\n",
      "5083 8406 6310 1862\n",
      "1076 1445 3013 2266\n",
      "8440 4804 4844 5277\n",
      "4758 6141 0686 1387\n",
      "7586 0675 0315 2568\n",
      "2544 1258 7432 5165\n",
      "3474 5023 4434 5626\n",
      "1410 0270 0434 5086\n",
      "7315 4446 1104 4215\n",
      "0224 7742 8300 0266\n",
      "0170 2700 3145 0640\n",
      "2006 2437 8054 1600\n",
      "8142 4055 1776 0026\n",
      "3026 7380 1241 1084\n",
      "\n"
     ]
    }
   ],
   "source": [
    "with open('credit_card.dat', 'r') as f:\n",
    "    word_size = 6\n",
    "    counter = 0\n",
    "    for row in f:\n",
    "        counter += 1\n",
    "        card_number = ''\n",
    "        while len(row) > 5:\n",
    "            card_number += chr(int(row[:6], 2))\n",
    "            row = row[6:]\n",
    "        print(card_number)\n",
    "    "
   ]
  },
  {
   "cell_type": "code",
   "execution_count": 16,
   "id": "a4dbac9f",
   "metadata": {},
   "outputs": [
    {
     "name": "stdout",
     "output_type": "stream",
     "text": [
      "--2021-11-16 00:07:49--  https://raw.githubusercontent.com/PhysicsOfData/LaboratoryOfComputationalPhysics_Y3/master/user_data.json\n",
      "Resolving raw.githubusercontent.com... 185.199.110.133, 185.199.108.133, 185.199.109.133, ...\n",
      "Connecting to raw.githubusercontent.com|185.199.110.133|:443... connected.\n",
      "HTTP request sent, awaiting response... 200 OK\n",
      "Length: 40417 (39K) [text/plain]\n",
      "Saving to: 'user_data.json.1'\n",
      "\n",
      "user_data.json.1    100%[===================>]  39.47K  --.-KB/s    in 0.01s   \n",
      "\n",
      "2021-11-16 00:07:50 (3.62 MB/s) - 'user_data.json.1' saved [40417/40417]\n",
      "\n"
     ]
    }
   ],
   "source": [
    "!wget https://raw.githubusercontent.com/PhysicsOfData/LaboratoryOfComputationalPhysics_Y3/master/user_data.json"
   ]
  },
  {
   "cell_type": "code",
   "execution_count": 80,
   "id": "b10f145d",
   "metadata": {},
   "outputs": [
    {
     "name": "stdout",
     "output_type": "stream",
     "text": [
      "ID,JobTitle,EmailAddress,FirstNameLastName,CreditCard,CreditCardType\n",
      "\n",
      "2,Investment  Advisor,Clint_Thorpe5003@bulaffy.com,Clint Thorpe,7083-8766-0251-2345,American Express\n",
      "\n",
      "12,Retail Trainee,Phillip_Carpenter9505@famism.biz,Phillip Carpenter,3657-0088-0820-5247,American Express\n",
      "\n",
      "28,Project Manager,Russel_Graves1378@extex.org,Russel Graves,6718-4818-8011-6024,American Express\n",
      "\n",
      "39,Stockbroker,Leanne_Newton1268@typill.biz,Leanne Newton,5438-0816-4166-4847,American Express\n",
      "\n",
      "57,Budget Analyst,Tony_Giles1960@iatim.tech,Tony Giles,8130-3425-7573-7745,American Express\n",
      "\n",
      "62,CNC Operator,Owen_Allcott5125@bauros.biz,Owen Allcott,4156-0107-7210-2630,American Express\n",
      "\n",
      "68,Project Manager,Liam_Lynn3280@kideod.biz,Liam Lynn,7152-3247-6053-2233,American Express\n",
      "\n",
      "74,Dentist,Regina_Woodcock5820@yahoo.com,Regina Woodcock,0208-1753-3870-8002,American Express\n",
      "\n",
      "81,HR Specialist,Carter_Wallace9614@atink.com,Carter Wallace,4256-7201-6717-4322,American Express\n",
      "\n",
      "92,Staffing Consultant,Maia_Stark2797@jiman.org,Maia Stark,3851-1403-1734-6321,American Express\n",
      "\n",
      "97,Stockbroker,Ciara_Lomax982@bauros.biz,Ciara Lomax,3702-3440-2472-5424,American Express\n",
      "\n",
      "116,Staffing Consultant,Isabel_Ellwood1475@fuliss.net,Isabel Ellwood,3738-0882-0066-6683,American Express\n",
      "\n",
      "148,CNC Operator,Abdul_Townend2202@infotech44.tech,Abdul Townend,4224-1226-3557-3448,American Express\n",
      "\n",
      "150,Fabricator,Caleb_Poulton1735@atink.com,Caleb Poulton,8203-6875-5225-0341,American Express\n",
      "\n",
      "151,Restaurant Manager,Ronald_Lewis6777@deavo.com,Ronald Lewis,7212-0155-5014-8471,American Express\n",
      "\n",
      "154,Bellman,Faith_Seymour3829@twace.org,Faith Seymour,4170-5186-6887-6558,American Express\n",
      "\n",
      "169,Assistant Buyer,Anthony_Hancock9083@qater.org,Anthony Hancock,0832-3357-6010-6550,American Express\n",
      "\n",
      "176,Healthcare Specialist,Isabella_Willson5478@nanoff.biz,Isabella Willson,5177-4868-4623-0384,American Express\n",
      "\n",
      "182,Pharmacist,Stephanie_Darcy3298@bauros.biz,Stephanie Darcy,0264-4020-5106-5576,American Express\n",
      "\n",
      "199,Investment  Advisor,Ryan_Kennedy5565@corti.com,Ryan Kennedy,3166-6287-6242-7207,American Express\n",
      "\n"
     ]
    }
   ],
   "source": [
    "#!cat user_data.json\n",
    "\n",
    "import json\n",
    "json = json.load(open('user_data.json'))\n",
    "\n",
    "am_ex = [x for x in json if x['CreditCardType'] == 'American Express']\n",
    "\n",
    "with open('am_ex.csv', 'w') as am:\n",
    "    writer = csv.DictWriter(am, json[0].keys())\n",
    "    writer.writeheader()\n",
    "    writer.writerows(am_ex)\n",
    "        \n",
    "with open('am_ex.csv', 'r') as ex:\n",
    "    for i in ex:\n",
    "        print(i)"
   ]
  },
  {
   "cell_type": "code",
   "execution_count": null,
   "id": "90b108df",
   "metadata": {},
   "outputs": [],
   "source": []
  }
 ],
 "metadata": {
  "kernelspec": {
   "display_name": "Python 3 (ipykernel)",
   "language": "python",
   "name": "python3"
  },
  "language_info": {
   "codemirror_mode": {
    "name": "ipython",
    "version": 3
   },
   "file_extension": ".py",
   "mimetype": "text/x-python",
   "name": "python",
   "nbconvert_exporter": "python",
   "pygments_lexer": "ipython3",
   "version": "3.8.8"
  }
 },
 "nbformat": 4,
 "nbformat_minor": 5
}
