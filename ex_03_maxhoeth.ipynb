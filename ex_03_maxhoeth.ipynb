{
 "cells": [
  {
   "cell_type": "markdown",
   "id": "ca987977",
   "metadata": {},
   "source": [
    "# Exercise 3:\n",
    "***"
   ]
  },
  {
   "cell_type": "markdown",
   "id": "3b3f6f44",
   "metadata": {},
   "source": [
    "## 1. row, coloums,  overall mean"
   ]
  },
  {
   "cell_type": "code",
   "execution_count": 1,
   "id": "ffa5f6f2",
   "metadata": {},
   "outputs": [
    {
     "name": "stdout",
     "output_type": "stream",
     "text": [
      "[[ 0  1  2  3]\n",
      " [ 4  5  6  7]\n",
      " [ 8  9 10 11]]\n",
      "[1.5 5.5 9.5]\n",
      "[4. 5. 6. 7.]\n",
      "5.5\n"
     ]
    }
   ],
   "source": [
    "import numpy as np\n",
    "\n",
    "m = np.arange(12).reshape(3,4)\n",
    "print(m)\n",
    "print(np.mean(m, 1))\n",
    "print(np.mean(m, 0))\n",
    "print(np.mean(m))"
   ]
  },
  {
   "cell_type": "markdown",
   "id": "73000a48",
   "metadata": {},
   "source": [
    "## 2. outer product"
   ]
  },
  {
   "cell_type": "code",
   "execution_count": 2,
   "id": "368421c4",
   "metadata": {},
   "outputs": [
    {
     "name": "stdout",
     "output_type": "stream",
     "text": [
      "[[ 2  4  6  8]\n",
      " [ 6 12 18 24]\n",
      " [10 20 30 40]\n",
      " [14 28 42 56]]\n",
      "[[2, 4, 6, 8], [6, 12, 18, 24], [10, 20, 30, 40], [14, 28, 42, 56]]\n",
      "[[ 2  4  6  8]\n",
      " [ 6 12 18 24]\n",
      " [10 20 30 40]\n",
      " [14 28 42 56]]\n"
     ]
    }
   ],
   "source": [
    "u = np.array([1,3,5,7])\n",
    "v = np.array([2,4,6,8])\n",
    "\n",
    "print(np.outer(u, v))\n",
    "print([[i * j for j in v] for i in u])\n",
    "print(u.reshape(4,1) * v)"
   ]
  },
  {
   "cell_type": "markdown",
   "id": "cca7aaf0",
   "metadata": {},
   "source": [
    "## 3. random matrix of uniform numbers"
   ]
  },
  {
   "cell_type": "code",
   "execution_count": 3,
   "id": "9953ee8f",
   "metadata": {},
   "outputs": [
    {
     "name": "stdout",
     "output_type": "stream",
     "text": [
      "[[0.97814694 0.6836249  0.14427384 0.         0.17305065 0.50318228]\n",
      " [0.68312282 0.80821469 0.10393142 0.31363189 0.82121311 0.96479069]\n",
      " [0.76283254 0.75107102 0.82333669 0.20257316 0.86378593 0.49571243]\n",
      " [0.47596853 0.18771758 0.13981845 0.70982422 0.68058711 0.79201238]\n",
      " [0.10301877 0.44697575 0.68251961 0.71334086 0.57560487 0.5743051 ]\n",
      " [0.78050868 0.         0.64580524 0.28111772 0.87628542 0.98324879]\n",
      " [0.80612564 0.84803827 0.41223497 0.67810514 0.79680642 0.49574717]\n",
      " [0.93346216 0.         0.24895356 0.8963462  0.83756334 0.3184137 ]\n",
      " [0.81477398 0.78997494 0.62851732 0.10947756 0.94673529 0.26158082]\n",
      " [0.44337527 0.96675373 0.39222609 0.11005547 0.85878452 0.21046387]]\n"
     ]
    }
   ],
   "source": [
    "a = np.array(np.random.rand(10, 6))\n",
    "mask = a < 0.1\n",
    "a[mask] = 0\n",
    "print(a)"
   ]
  },
  {
   "cell_type": "markdown",
   "id": "86b99897",
   "metadata": {},
   "source": [
    "## 4. array of 100 between 0 and 2pi"
   ]
  },
  {
   "cell_type": "code",
   "execution_count": 10,
   "id": "d1fa8161",
   "metadata": {},
   "outputs": [
    {
     "name": "stdout",
     "output_type": "stream",
     "text": [
      "[0.         0.63466518 1.26933037 1.90399555 2.53866073 3.17332591\n",
      " 3.8079911  4.44265628 5.07732146 5.71198664] \n",
      "\n",
      "[6.28318531 6.21971879 6.15625227 6.09278575 6.02931923 5.96585272\n",
      " 5.9023862  5.83891968 5.77545316 5.71198664 5.64852012 5.58505361\n",
      " 5.52158709 5.45812057 5.39465405 5.33118753 5.26772102 5.2042545\n",
      " 5.14078798 5.07732146 5.01385494 4.95038842 4.88692191 4.82345539\n",
      " 4.75998887 4.69652235 4.63305583 4.56958931 4.5061228  4.44265628\n",
      " 4.37918976 4.31572324 4.25225672 4.1887902  4.12532369 4.06185717\n",
      " 3.99839065 3.93492413 3.87145761 3.8079911  3.74452458 3.68105806\n",
      " 3.61759154 3.55412502 3.4906585  3.42719199 3.36372547 3.30025895\n",
      " 3.23679243 3.17332591 3.10985939 3.04639288 2.98292636 2.91945984\n",
      " 2.85599332 2.7925268  2.72906028 2.66559377 2.60212725 2.53866073\n",
      " 2.47519421 2.41172769 2.34826118 2.28479466 2.22132814 2.15786162\n",
      " 2.0943951  2.03092858 1.96746207 1.90399555 1.84052903 1.77706251\n",
      " 1.71359599 1.65012947 1.58666296 1.52319644 1.45972992 1.3962634\n",
      " 1.33279688 1.26933037 1.20586385 1.14239733 1.07893081 1.01546429\n",
      " 0.95199777 0.88853126 0.82506474 0.76159822 0.6981317  0.63466518\n",
      " 0.57119866 0.50773215 0.44426563 0.38079911 0.31733259 0.25386607\n",
      " 0.19039955 0.12693304 0.06346652 0.        ] \n",
      "\n",
      "[0.76159822 0.82506474 3.87145761 3.93492413]\n"
     ]
    },
    {
     "data": {
      "text/plain": [
       "(0.0, 6.28, 0.0, 0.2)"
      ]
     },
     "execution_count": 10,
     "metadata": {},
     "output_type": "execute_result"
    },
    {
     "data": {
      "image/png": "[encoded data removed]",
      "text/plain": [
       "<Figure size 432x288 with 1 Axes>"
      ]
     },
     "metadata": {
      "needs_background": "light"
     },
     "output_type": "display_data"
    }
   ],
   "source": [
    "b = np.linspace(0, 2*np.pi, 100)\n",
    "\n",
    "ten1 = b[::10]\n",
    "ten2 = b[::-1]\n",
    "\n",
    "mask = abs(np.sin(b) - np.cos(b)) < 0.1\n",
    "c = b[mask]\n",
    "d = [i for i in b if i not in b[mask]]\n",
    "\n",
    "print(ten1, '\\n')\n",
    "print(ten2, '\\n')\n",
    "print(c)\n",
    "\n",
    "import matplotlib.pyplot as plt \n",
    "\n",
    "ax = plt.plot(b, abs(np.sin(b)-np.cos(b)), color='r')\n",
    "#plt.plot(b, abs(np.cos(b)), color='g')\n",
    "plt.scatter(c, abs(np.sin(c)-np.cos(c)), color='b')\n",
    "plt.axhline(y=0.1, color='g', linestyle='-')\n",
    "plt.scatter(d, abs(np.sin(d)-np.cos(d)), color='y')\n",
    "plt.ylabel('|Sin(x)-Cos(x)|')\n",
    "plt.axis([0, 6.28, 0, 0.2])\n"
   ]
  },
  {
   "cell_type": "markdown",
   "id": "68ccd61a",
   "metadata": {},
   "source": [
    "## 5. 10 x 10 multiplication table"
   ]
  },
  {
   "cell_type": "code",
   "execution_count": 11,
   "id": "4c6de59b",
   "metadata": {},
   "outputs": [
    {
     "name": "stdout",
     "output_type": "stream",
     "text": [
      "[[  1   2   3   4   5   6   7   8   9  10]\n",
      " [  2   4   6   8  10  12  14  16  18  20]\n",
      " [  3   6   9  12  15  18  21  24  27  30]\n",
      " [  4   8  12  16  20  24  28  32  36  40]\n",
      " [  5  10  15  20  25  30  35  40  45  50]\n",
      " [  6  12  18  24  30  36  42  48  54  60]\n",
      " [  7  14  21  28  35  42  49  56  63  70]\n",
      " [  8  16  24  32  40  48  56  64  72  80]\n",
      " [  9  18  27  36  45  54  63  72  81  90]\n",
      " [ 10  20  30  40  50  60  70  80  90 100]]\n",
      "385\n",
      "[ 2  6 12 20 30 42 56 72 90]\n",
      "[10 18 24 28 30 30 28 24 18 10]\n"
     ]
    }
   ],
   "source": [
    "u = np.arange(1, 11)\n",
    "m = u.reshape(10, 1) * u\n",
    "print(m)\n",
    "print(np.trace(m))\n",
    "print(m.diagonal(1))\n",
    "print(np.fliplr(m).diagonal())"
   ]
  },
  {
   "cell_type": "markdown",
   "id": "c3ad5ddc",
   "metadata": {},
   "source": [
    "## 6. broadcast to creat a grid of distances"
   ]
  },
  {
   "cell_type": "code",
   "execution_count": 12,
   "id": "58a2debe",
   "metadata": {},
   "outputs": [
    {
     "name": "stdout",
     "output_type": "stream",
     "text": [
      "[[   0.    122.76  187.86  456.32  540.02  728.5   914.5   957.28 1186.06\n",
      "  1517.76]\n",
      " [ 122.76    0.     65.1   333.56  417.26  605.74  791.74  834.52 1063.3\n",
      "  1395.  ]\n",
      " [ 187.86   65.1     0.    268.46  352.16  540.64  726.64  769.42  998.2\n",
      "  1329.9 ]\n",
      " [ 456.32  333.56  268.46    0.     83.7   272.18  458.18  500.96  729.74\n",
      "  1061.44]\n",
      " [ 540.02  417.26  352.16   83.7     0.    188.48  374.48  417.26  646.04\n",
      "   977.74]\n",
      " [ 728.5   605.74  540.64  272.18  188.48    0.    186.    228.78  457.56\n",
      "   789.26]\n",
      " [ 914.5   791.74  726.64  458.18  374.48  186.      0.     42.78  271.56\n",
      "   603.26]\n",
      " [ 957.28  834.52  769.42  500.96  417.26  228.78   42.78    0.    228.78\n",
      "   560.48]\n",
      " [1186.06 1063.3   998.2   729.74  646.04  457.56  271.56  228.78    0.\n",
      "   331.7 ]\n",
      " [1517.76 1395.   1329.9  1061.44  977.74  789.26  603.26  560.48  331.7\n",
      "     0.  ]]\n"
     ]
    }
   ],
   "source": [
    "dist = np.array([0, 198, 303, 736, 871, 1175, 1475, 1544, 1913, 2448])\n",
    "grid = abs(dist.reshape(10, 1) - dist)\n",
    "print(grid * 0.62)"
   ]
  },
  {
   "cell_type": "markdown",
   "id": "eb4cb85b",
   "metadata": {},
   "source": [
    "## 7.  prime number sieve\n"
   ]
  },
  {
   "cell_type": "code",
   "execution_count": 13,
   "id": "a27be501",
   "metadata": {},
   "outputs": [
    {
     "data": {
      "text/plain": [
       "Text(0, 0.5, 'Time \\\\ ms')"
      ]
     },
     "execution_count": 13,
     "metadata": {},
     "output_type": "execute_result"
    },
    {
     "data": {
      "image/png": "[encoded data removed]",
      "text/plain": [
       "<Figure size 432x288 with 1 Axes>"
      ]
     },
     "metadata": {
      "needs_background": "light"
     },
     "output_type": "display_data"
    }
   ],
   "source": [
    "N = 100\n",
    "a = np.arange(1, N)\n",
    "\n",
    "def prime(N):\n",
    "    N = 100\n",
    "    a = np.arange(1, N)\n",
    "    mask = a % 1 == 0\n",
    "    for i in range(4, len(a) + 1):\n",
    "        for s in range(2, int( i / 2 + 1)):\n",
    "            if i % s == 0:\n",
    "                mask[i - 1] = False\n",
    "                break\n",
    "    return a[mask]\n",
    "\n",
    "def prime2(a):\n",
    "    for i in range(2, int(a / 2 + 1)):\n",
    "        if a % i == 0:\n",
    "            return False\n",
    "    else:\n",
    "        return True\n",
    "\n",
    "def primes(N):\n",
    "    a = np.arange(1, N)\n",
    "    mask = [True , True, True] + [prime2(i) for i in range(4, N)]\n",
    "    return a[mask]\n",
    "\n",
    "\n",
    "import matplotlib.pyplot as plt\n",
    "\n",
    "plt.plot([10  ** 2, 100 ** 2, 500 ** 2, 1000 ** 2, 2000 ** 2, 5000 ** 2, 8000 ** 2, 10000 ** 2],[0.00451, 0.0619, 0.615, 2,  7.12, 41.2, 99.7 , 156])\n",
    "plt.xlabel(\"$N^2$\")\n",
    "plt.ylabel(\"Time \\ ms\")"
   ]
  },
  {
   "cell_type": "markdown",
   "id": "afc6823f",
   "metadata": {},
   "source": [
    "Looks like its scaling with $ N^2 $"
   ]
  },
  {
   "cell_type": "code",
   "execution_count": 14,
   "id": "7ac1cb4e",
   "metadata": {},
   "outputs": [
    {
     "data": {
      "text/plain": [
       "<matplotlib.legend.Legend at 0x7fb089be5f70>"
      ]
     },
     "execution_count": 14,
     "metadata": {},
     "output_type": "execute_result"
    },
    {
     "data": {
      "image/png": "[encoded data removed]",
      "text/plain": [
       "<Figure size 432x288 with 1 Axes>"
      ]
     },
     "metadata": {
      "needs_background": "light"
     },
     "output_type": "display_data"
    }
   ],
   "source": [
    "from math import sqrt\n",
    "\n",
    "def erat_prime(N):\n",
    "    a = np.arange(2, N)\n",
    "    mask = a % 1 == 0\n",
    "    for i in range(2, int(sqrt(len(a)))):\n",
    "        #print('i=', i)\n",
    "        for j in range(i + 1, len(a) + 2):\n",
    "            #print('j=',j)\n",
    "            if j % i == 0:\n",
    "                mask[j - 2] = False\n",
    "            \n",
    "    return a[mask]\n",
    "\n",
    "def erat_prime2(N):\n",
    "    a = np.arange(2, N + 1)\n",
    "    mask = a % 1 == 0\n",
    "    for i in range(2, int(sqrt(len(a)))):\n",
    "        n = 0\n",
    "        j = 0\n",
    "        while j < N:\n",
    "            j = i ** 2 + n * i\n",
    "            if j > N:\n",
    "                break\n",
    "            mask[j - 2] = False\n",
    "            n += 1\n",
    "            \n",
    "    return a[mask]\n",
    "\n",
    "#%timeit primes(10)\n",
    "#%timeit primes(100)\n",
    "#%timeit primes(500)\n",
    "#%timeit primes(1000)\n",
    "#%timeit primes(2000)\n",
    "#%timeit primes(5000)\n",
    "#%timeit primes(8000)\n",
    "#%timeit primes(10000)\n",
    "\n",
    "\n",
    "#%timeit erat_prime(10)\n",
    "#%timeit erat_prime(100)\n",
    "#%timeit erat_prime(500)\n",
    "#%timeit erat_prime(1000)\n",
    "#%timeit erat_prime(2000)\n",
    "#%timeit erat_prime(5000)\n",
    "#%timeit erat_prime(8000)\n",
    "#%timeit erat_prime(10000)\n",
    "\n",
    "\n",
    "#%timeit erat_prime2(10)\n",
    "#%timeit erat_prime2(100)\n",
    "#%timeit erat_prime2(500)\n",
    "#%timeit erat_prime2(1000)\n",
    "#%timeit erat_prime2(2000)\n",
    "#%timeit erat_prime2(5000)\n",
    "#%timeit erat_prime2(8000)\n",
    "#%timeit erat_prime2(10000)\n",
    "\n",
    "plt.plot([10  ** 2, 100 ** 2, 500 ** 2, 1000 ** 2, 2000 ** 2, 5000 ** 2, 8000 ** 2, 10000 ** 2],[0.00451, 0.0619, 0.615, 2,  7.12, 41.2, 99.7 , 156], label='first version')\n",
    "plt.xlabel(\"$N^2$\")\n",
    "plt.ylabel(\"Time \\ ms\")\n",
    "plt.plot([10  ** 2, 100 ** 2, 500 ** 2, 1000 ** 2, 2000 ** 2, 5000 ** 2, 8000 ** 2, 10000 ** 2],[0.00262, 0.0448, 0.541, 1.56,  4.46, 17.5, 35.9 , 50], label='eratost 1')\n",
    "plt.xlabel(\"$N^2$\")\n",
    "plt.ylabel(\"Time \\ ms\")\n",
    "plt.plot([10  ** 2, 100 ** 2, 500 ** 2, 1000 ** 2, 2000 ** 2, 5000 ** 2, 8000 ** 2, 10000 ** 2],[0.00427, 0.0538, 0.401, 0.939,  2.11, 6.32, 10.8, 13.9], label='eratost 2')\n",
    "plt.xlabel(\"$N^2$\")\n",
    "plt.ylabel(\"Time \\ ms\")\n",
    "plt.legend()"
   ]
  },
  {
   "cell_type": "markdown",
   "id": "ab3f09a9",
   "metadata": {},
   "source": [
    "## 8. diffusion using random walk"
   ]
  },
  {
   "cell_type": "code",
   "execution_count": 28,
   "id": "4a9ccd86",
   "metadata": {},
   "outputs": [
    {
     "data": {
      "text/plain": [
       "Text(0, 0.5, '√x²')"
      ]
     },
     "execution_count": 28,
     "metadata": {},
     "output_type": "execute_result"
    },
    {
     "data": {
      "image/png": "[encoded data removed]",
      "text/plain": [
       "<Figure size 432x288 with 1 Axes>"
      ]
     },
     "metadata": {
      "needs_background": "light"
     },
     "output_type": "display_data"
    }
   ],
   "source": [
    "m =  (2 * np.random.randint(2, size=(1000, 200)) - 1)\n",
    "mean = np.sum(m, axis=1)\n",
    "np.mean(mean) # should be round about 0\n",
    "\n",
    "dist = np.array([np.cumsum(m[s]) for s in range(1000)])\n",
    "mean_dist = np.sqrt(np.sum(dist** 2, axis=0))/1000\n",
    "\n",
    "step = np.arange(1, 201)\n",
    "\n",
    "import matplotlib.pyplot as plt\n",
    "plt.plot(step, mean_dist)\n",
    "plt.xlabel('Steps')\n",
    "plt.ylabel('√x²')\n"
   ]
  },
  {
   "cell_type": "code",
   "execution_count": 29,
   "id": "370f57fe",
   "metadata": {},
   "outputs": [
    {
     "data": {
      "text/plain": [
       "[<matplotlib.lines.Line2D at 0x7fb0b8f114c0>]"
      ]
     },
     "execution_count": 29,
     "metadata": {},
     "output_type": "execute_result"
    },
    {
     "data": {
      "image/png": "[encoded data removed]",
      "text/plain": [
       "<Figure size 432x288 with 1 Axes>"
      ]
     },
     "metadata": {
      "needs_background": "light"
     },
     "output_type": "display_data"
    }
   ],
   "source": [
    "plt.plot(step, np.sum(dist, axis=0)/1000)"
   ]
  },
  {
   "cell_type": "markdown",
   "id": "2bbdcf61",
   "metadata": {},
   "source": [
    "## 9. analyze data"
   ]
  },
  {
   "cell_type": "code",
   "execution_count": 30,
   "id": "a7d9b319",
   "metadata": {},
   "outputs": [
    {
     "data": {
      "text/plain": [
       "<matplotlib.legend.Legend at 0x7fb099d085e0>"
      ]
     },
     "execution_count": 30,
     "metadata": {},
     "output_type": "execute_result"
    },
    {
     "data": {
      "image/png": "[encoded data removed]",
      "text/plain": [
       "<Figure size 432x288 with 1 Axes>"
      ]
     },
     "metadata": {
      "needs_background": "light"
     },
     "output_type": "display_data"
    }
   ],
   "source": [
    "m = np.loadtxt('populations.txt', dtype=float)\n",
    "feature = ['year','Hares','Lynx','Carrots']\n",
    "\n",
    "year = np.delete(m, (1,2,3), 1)\n",
    "hares = np.delete(m, (0,2,3), 1)\n",
    "lynx = np.delete(m, (0,1,3), 1)\n",
    "carrots = np.delete(m, (0,1,2), 1)\n",
    "\n",
    "plt.plot(year, hares, label='hares')\n",
    "plt.plot(year, lynx, label='lynx')\n",
    "plt.plot(year, carrots, label='carrots')\n",
    "plt.xlabel('Year')\n",
    "plt.ylabel('Population')\n",
    "plt.legend()"
   ]
  },
  {
   "cell_type": "code",
   "execution_count": 32,
   "id": "d687fa8f",
   "metadata": {},
   "outputs": [
    {
     "name": "stdout",
     "output_type": "stream",
     "text": [
      "hares mean: 34080.95238095238\n",
      "lynx mean: 20166.666666666668\n",
      "carrots mean: 42400.0 \n",
      "\n",
      "hares std: 20897.906458089667\n",
      "lynx std: 16254.591536908763\n",
      "carrots std: 3322.5062255844787 \n",
      "\n",
      "Highest Population:\n",
      "Carrots in 1900 with = 48300\n",
      "Carrots in 1901 with = 48200\n",
      "Hares in 1902 with = 70200\n",
      "Hares in 1903 with = 77400\n",
      "Lynx in 1904 with = 59400\n",
      "Lynx in 1905 with = 41700\n",
      "Carrots in 1906 with = 38600\n",
      "Carrots in 1907 with = 42300\n",
      "Carrots in 1908 with = 44500\n",
      "Carrots in 1909 with = 42100\n",
      "Carrots in 1910 with = 46000\n",
      "Carrots in 1911 with = 46800\n",
      "Hares in 1912 with = 57000\n",
      "Hares in 1913 with = 76600\n",
      "Hares in 1914 with = 52300\n",
      "Lynx in 1915 with = 51100\n",
      "Carrots in 1916 with = 36700\n",
      "Carrots in 1917 with = 41800\n",
      "Carrots in 1918 with = 43300\n",
      "Carrots in 1919 with = 41300\n",
      "Carrots in 1920 with = 47300\n"
     ]
    }
   ],
   "source": [
    "print('hares mean:', np.mean(hares))\n",
    "print('lynx mean:', np.mean(lynx))\n",
    "print('carrots mean:', np.mean(carrots), '\\n')\n",
    "\n",
    "print('hares std:', np.std(hares))\n",
    "print('lynx std:', np.std(lynx))\n",
    "print('carrots std:', np.std(carrots), '\\n')\n",
    "\n",
    "max = np.delete(m, 0, 1)\n",
    "animal = []\n",
    "value = []\n",
    "for i in max:\n",
    "    animal.append(feature[np.argmax(i)+1])\n",
    "    value.append(i[np.argmax(i)])\n",
    "\n",
    "print('Highest Population:')\n",
    "for x,y,z in zip(animal, year, value):\n",
    "    print(x ,'in', int(y[0]), 'with =',int(z))"
   ]
  }
 ],
 "metadata": {
  "kernelspec": {
   "display_name": "Python 3 (ipykernel)",
   "language": "python",
   "name": "python3"
  },
  "language_info": {
   "codemirror_mode": {
    "name": "ipython",
    "version": 3
   },
   "file_extension": ".py",
   "mimetype": "text/x-python",
   "name": "python",
   "nbconvert_exporter": "python",
   "pygments_lexer": "ipython3",
   "version": "3.8.8"
  }
 },
 "nbformat": 4,
 "nbformat_minor": 5
}
