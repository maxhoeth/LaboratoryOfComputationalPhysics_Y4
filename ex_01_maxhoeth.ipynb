{
 "cells": [
  {
   "cell_type": "markdown",
   "id": "7d7a763d",
   "metadata": {},
   "source": [
    "# Exercise 01\n",
    "***\n",
    "\n",
    "## 1. #1"
   ]
  },
  {
   "cell_type": "code",
   "execution_count": 3,
   "id": "2d1512de",
   "metadata": {},
   "outputs": [
    {
     "name": "stdout",
     "output_type": "stream",
     "text": [
      "[(0, 0), (0, 1), (0, 2), (0, 3), (1, 0), (1, 1), (1, 2), (1, 3), (2, 0), (2, 1), (2, 2), (2, 3)]\n"
     ]
    }
   ],
   "source": [
    "print([(i,j) for i in range(3) for j in range(4)])"
   ]
  },
  {
   "cell_type": "markdown",
   "id": "02eca2b4",
   "metadata": {},
   "source": [
    "## 1. #2"
   ]
  },
  {
   "cell_type": "code",
   "execution_count": 7,
   "id": "e8ba77b2",
   "metadata": {},
   "outputs": [
    {
     "name": "stdout",
     "output_type": "stream",
     "text": [
      "[0, 4, 16]\n"
     ]
    }
   ],
   "source": [
    "print([x **2 for x in range(5) if x % 2 == 0])"
   ]
  },
  {
   "cell_type": "markdown",
   "id": "79b55fbe",
   "metadata": {
    "pycharm": {
     "name": "#%% md\n"
    }
   },
   "source": [
    "## 2. Convert the following function into a pure function with no global variables or side effects\n"
   ]
  },
  {
   "cell_type": "code",
   "execution_count": 4,
   "id": "0b4a6dc1",
   "metadata": {},
   "outputs": [
    {
     "name": "stdout",
     "output_type": "stream",
     "text": [
      "5\n",
      "[1, 2, 3, 0, 1, 2, 3, 4]\n",
      "[1, 2, 3]\n"
     ]
    }
   ],
   "source": [
    "def f(alist):\n",
    "    new_list = []\n",
    "    x = int(input())\n",
    "    for i in range(x):\n",
    "        new_list.append(i)\n",
    "    return alist + new_list\n",
    "\n",
    "alist = [1,2,3]\n",
    "ans = f(alist)\n",
    "print(ans)\n",
    "print(alist)\n"
   ]
  },
  {
   "cell_type": "markdown",
   "id": "7ed16498",
   "metadata": {},
   "source": [
    "## 3. Write a decorator hello that makes every wrapped function print \"Hello\"\n"
   ]
  },
  {
   "cell_type": "code",
   "execution_count": 52,
   "id": "587dbd08",
   "metadata": {},
   "outputs": [
    {
     "name": "stdout",
     "output_type": "stream",
     "text": [
      "Hello\n",
      "I like dogs.\n",
      "Hello\n",
      "4\n",
      "16\n"
     ]
    }
   ],
   "source": [
    "def hello(func):\n",
    "    def wrapper():\n",
    "        print('Hello')\n",
    "        func()\n",
    "    return wrapper\n",
    "\n",
    "@hello\n",
    "def Dog():\n",
    "    print(\"I like dogs.\")\n",
    "    \n",
    "@hello\n",
    "def square():\n",
    "    print(int(input())**2)\n",
    "\n",
    "Dog()\n",
    "square()"
   ]
  },
  {
   "cell_type": "markdown",
   "id": "04fcfc59",
   "metadata": {},
   "source": [
    "## 4. Write the factorial function so that it a) does and b) does not use recursion"
   ]
  },
  {
   "cell_type": "markdown",
   "id": "86d5275e",
   "metadata": {},
   "source": [
    "### a)"
   ]
  },
  {
   "cell_type": "code",
   "execution_count": 6,
   "id": "394d7618",
   "metadata": {},
   "outputs": [
    {
     "data": {
      "text/plain": [
       "120"
      ]
     },
     "execution_count": 6,
     "metadata": {},
     "output_type": "execute_result"
    }
   ],
   "source": [
    "def recurs(n):\n",
    "    if n == 0 or n== 1:\n",
    "        return 1\n",
    "    else:\n",
    "        return recurs(n-1) * n\n",
    "\n",
    "recurs(5)"
   ]
  },
  {
   "cell_type": "markdown",
   "id": "18c9a925",
   "metadata": {},
   "source": [
    "### b)"
   ]
  },
  {
   "cell_type": "code",
   "execution_count": 7,
   "id": "1afb2fbd",
   "metadata": {},
   "outputs": [
    {
     "data": {
      "text/plain": [
       "120"
      ]
     },
     "execution_count": 7,
     "metadata": {},
     "output_type": "execute_result"
    }
   ],
   "source": [
    "def no_recurs(n):\n",
    "    f = 1\n",
    "    for i in range(1, n + 1):\n",
    "        f = f * i\n",
    "    return f\n",
    "\n",
    "no_recurs(5)"
   ]
  },
  {
   "cell_type": "code",
   "execution_count": 8,
   "id": "c50552c7",
   "metadata": {},
   "outputs": [
    {
     "name": "stdout",
     "output_type": "stream",
     "text": [
      "554 ns ± 3.27 ns per loop (mean ± std. dev. of 7 runs, 1000000 loops each)\n",
      "378 ns ± 3.11 ns per loop (mean ± std. dev. of 7 runs, 1000000 loops each)\n"
     ]
    }
   ],
   "source": [
    "%timeit recurs(5)\n",
    "%timeit no_recurs(5)"
   ]
  },
  {
   "cell_type": "markdown",
   "id": "62d3c3f6",
   "metadata": {},
   "source": [
    "## 5. use HOF's to compute the weight of a circle, a disk and a sphere, assuming defferent radii and densities"
   ]
  },
  {
   "cell_type": "code",
   "execution_count": 10,
   "id": "47b14588",
   "metadata": {},
   "outputs": [],
   "source": [
    "densities = {\"Al\":[0.5, 1, 2], \"Fe\":[3, 4, 5], \"Pb\":[15, 20, 30]}\n",
    "radii = [1, 2, 3]\n",
    "form = ['Circle', 'Disk', 'Sphere']"
   ]
  },
  {
   "cell_type": "code",
   "execution_count": 11,
   "id": "fa01f625",
   "metadata": {},
   "outputs": [
    {
     "name": "stdout",
     "output_type": "stream",
     "text": [
      "NEW ELEMENT\n",
      "Circle\n",
      "3.14 Radius :1\n",
      "6.28 Radius :2\n",
      "9.42 Radius :3\n",
      "Disk\n",
      "3.14 Radius :1\n",
      "12.56 Radius :2\n",
      "28.27 Radius :3\n",
      "Sphere\n",
      "8.38 Radius :1\n",
      "67.01 Radius :2\n",
      "226.15 Radius :3\n",
      "NEW ELEMENT\n",
      "Circle\n",
      "18.85 Radius :1\n",
      "37.69 Radius :2\n",
      "56.54 Radius :3\n",
      "Disk\n",
      "12.56 Radius :1\n",
      "50.26 Radius :2\n",
      "113.08 Radius :3\n",
      "Sphere\n",
      "20.94 Radius :1\n",
      "167.52 Radius :2\n",
      "565.38 Radius :3\n",
      "NEW ELEMENT\n",
      "Circle\n",
      "94.23 Radius :1\n",
      "188.46 Radius :2\n",
      "282.69 Radius :3\n",
      "Disk\n",
      "62.82 Radius :1\n",
      "251.28 Radius :2\n",
      "565.38 Radius :3\n",
      "Sphere\n",
      "125.64 Radius :1\n",
      "1005.12 Radius :2\n",
      "3392.28 Radius :3\n"
     ]
    }
   ],
   "source": [
    "func_lambda =[lambda x: 2*3.141*x, lambda x: 3.141*x**2, lambda x:4/3*3.141*x**3]\n",
    "                 \n",
    "alist = [[i(j) for j in radii] for i in func_lambda]\n",
    "for j in zip(densities.values(), densities.keys()):\n",
    "    print('NEW ELEMENT')\n",
    "    for i in range(len(alist)):\n",
    "        print(form[i])\n",
    "        for s in range(len(alist[i])):\n",
    "            print(f'{j[0][i]*alist[i][s]:.2f}', f'Radius :{s+1}')\n",
    "\n",
    "        "
   ]
  },
  {
   "cell_type": "markdown",
   "id": "e3d863f0",
   "metadata": {},
   "source": [
    "## 6. Edit the class defintion to add an instance attribute of is_hungry = True to the Dog class. Then add a method called eat() which changes the value of is_hungry to False when called. Figure out the best way to feed each dog and then output “My dogs are hungry.” if all are hungry or “My dogs are not hungry.” if all are not hungry. The final output should look like this:\n",
    "I have 3 dogs. \n",
    "Tom is 6. \n",
    "Fletcher is 7. \n",
    "Larry is 9. \n",
    "And they're all mammals, of course. \n",
    "My dogs are not hungry."
   ]
  },
  {
   "cell_type": "code",
   "execution_count": 12,
   "id": "a406dc52",
   "metadata": {},
   "outputs": [],
   "source": [
    "\n",
    "# Parent class\n",
    "class Dog:\n",
    "\n",
    "    # Class attribute\n",
    "    species = 'mammal'\n",
    "    dogs = []\n",
    "    # Initializer / Instance attributes\n",
    "    def __init__(self, name, age, is_hungry):\n",
    "        self.name = name\n",
    "        self.age = age\n",
    "        self.is_hungry = True\n",
    "        self.dogs.append(self)\n",
    "        \n",
    "    # instance method\n",
    "    def description(self):\n",
    "        return \"{} is {} years old.\".format(self.name, self.age)\n",
    "\n",
    "    # instance method\n",
    "    def speak(self, sound):\n",
    "        return \"{} says {}\".format(self.name, sound)\n",
    "    \n",
    "    # instace method\n",
    "    def eat(self):\n",
    "        self.is_hungry = False\n",
    "        return f\"{self.name} has eaten and is not hungry anymore.\"\n",
    "    \n",
    "    # instace method\n",
    "    def eat_all():\n",
    "        for i in Dog.dogs:\n",
    "            i.is_hungry = False\n",
    "        return f\"All dogs have eaten and are not hungry anymore.\"\n",
    "    \n",
    "    \n",
    "    # instace method\n",
    "    def check_hungry(self):\n",
    "        return self.is_hungry\n",
    "    \n",
    "    # instace method\n",
    "    def check_hungry_all():\n",
    "        hungry = []\n",
    "        for i in Dog.dogs:\n",
    "            if i.check_hungry() == True:\n",
    "                hungry.append(i)\n",
    "        if len(hungry) == 0:      \n",
    "            return \"My dogs are not hungry.\"\n",
    "        elif len(hungry) > 0:\n",
    "            hung = \"\"\n",
    "            for i in hungry:\n",
    "                hung = hung + \"{} is still hungry. \".format(i.name)\n",
    "        return hung\n",
    "    \n",
    "    def check_dogs():\n",
    "        return f'I have {len(Dog.dogs)} dogs.'\n",
    "    \n",
    "    def check_species():\n",
    "        species_list = []\n",
    "        for i in Dog.dogs:\n",
    "            species_list.append(i.species)\n",
    "        if len(species_list) == len(Dog.dogs):\n",
    "            return \"And they're all mammals, of course. \"\n",
    "        else:\n",
    "            return \"They're not all mammals. \"\n",
    "            \n",
    "\n",
    "# Child class (inherits from Dog class)\n",
    "class RussellTerrier(Dog):\n",
    "    def run(self, speed):\n",
    "        return \"{} runs {}\".format(self.name, speed)\n",
    "\n",
    "# Child class (inherits from Dog class)\n",
    "class Bulldog(Dog):\n",
    "    def run(self, speed):\n",
    "        return \"{} runs {}\".format(self.name, speed)\n",
    "    \n",
    "Tom = Dog('Tom', 6, 1)\n",
    "Fletcher = Dog('Fletcher', 7, 1)\n",
    "Larry = Dog('Larry', 9, 1)\n"
   ]
  },
  {
   "cell_type": "code",
   "execution_count": 13,
   "id": "e3683b4e",
   "metadata": {},
   "outputs": [
    {
     "name": "stdout",
     "output_type": "stream",
     "text": [
      "I have 3 dogs. Tom is 6 years old. Fletcher is 7 years old. Larry is 9 years old. And they're all mammals, of course.  Tom is still hungry. Fletcher is still hungry. Larry is still hungry.  All dogs have eaten and are not hungry anymore. My dogs are not hungry.\n"
     ]
    }
   ],
   "source": [
    "print(Dog.check_dogs(),\n",
    "      Tom.description(),\n",
    "      Fletcher.description(),\n",
    "      Larry.description(),\n",
    "      Dog.check_species(),\n",
    "      Dog.check_hungry_all(), # check if hungry\n",
    "      Dog.eat_all(), # feed every dog\n",
    "      Dog.check_hungry_all()) # check again and every dog is not hungry anymore"
   ]
  },
  {
   "cell_type": "code",
   "execution_count": null,
   "id": "c7cd69a5",
   "metadata": {},
   "outputs": [],
   "source": []
  }
 ],
 "metadata": {
  "kernelspec": {
   "display_name": "PyCharm (LaboratoryOfComputationalPhysics_Y4)",
   "language": "python",
   "name": "pycharm-3b6023f"
  },
  "language_info": {
   "codemirror_mode": {
    "name": "ipython",
    "version": 3
   },
   "file_extension": ".py",
   "mimetype": "text/x-python",
   "name": "python",
   "nbconvert_exporter": "python",
   "pygments_lexer": "ipython3",
   "version": "3.9.2"
  }
 },
 "nbformat": 4,
 "nbformat_minor": 5
}
