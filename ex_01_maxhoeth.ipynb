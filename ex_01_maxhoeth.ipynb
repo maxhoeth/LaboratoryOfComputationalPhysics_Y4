{
 "cells": [
  {
   "cell_type": "markdown",
   "id": "7d7a763d",
   "metadata": {},
   "source": [
    "# Exercise 01\n",
    "***\n",
    "\n",
    "## 1. #1"
   ]
  },
  {
   "cell_type": "code",
   "execution_count": 6,
   "id": "2d1512de",
   "metadata": {},
   "outputs": [
    {
     "name": "stdout",
     "output_type": "stream",
     "text": [
      "[(0, 0), (0, 1), (0, 2), (0, 3), (1, 0), (1, 1), (1, 2), (1, 3), (2, 0), (2, 1), (2, 2), (2, 3)]\n"
     ]
    }
   ],
   "source": [
    "print([(i,j) for i in range(3) for j in range(4)])"
   ]
  },
  {
   "cell_type": "markdown",
   "id": "02eca2b4",
   "metadata": {},
   "source": [
    "## 1. #2"
   ]
  },
  {
   "cell_type": "code",
   "execution_count": 7,
   "id": "e8ba77b2",
   "metadata": {},
   "outputs": [
    {
     "name": "stdout",
     "output_type": "stream",
     "text": [
      "[0, 4, 16]\n"
     ]
    }
   ],
   "source": [
    "print([x **2 for x in range(5) if x % 2 == 0])"
   ]
  },
  {
   "cell_type": "markdown",
   "id": "79b55fbe",
   "metadata": {},
   "source": [
    "## 2. Convert the following function into a pure function with no global variables or side effects"
   ]
  },
  {
   "cell_type": "code",
   "execution_count": null,
   "id": "7020ccb8",
   "metadata": {},
   "outputs": [],
   "source": []
  }
 ],
 "metadata": {
  "kernelspec": {
   "display_name": "Python 3",
   "language": "python",
   "name": "python3"
  },
  "language_info": {
   "codemirror_mode": {
    "name": "ipython",
    "version": 3
   },
   "file_extension": ".py",
   "mimetype": "text/x-python",
   "name": "python",
   "nbconvert_exporter": "python",
   "pygments_lexer": "ipython3",
   "version": "3.8.8"
  }
 },
 "nbformat": 4,
 "nbformat_minor": 5
}
