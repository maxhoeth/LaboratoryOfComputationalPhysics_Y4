{
 "cells": [
  {
   "cell_type": "markdown",
   "id": "9f2bcfb6",
   "metadata": {},
   "source": [
    "## Exercise 1: MickeyMouse ✅"
   ]
  },
  {
   "cell_type": "code",
   "execution_count": 63,
   "id": "638cf6b5",
   "metadata": {},
   "outputs": [
    {
     "name": "stdout",
     "output_type": "stream",
     "text": [
      "1\n",
      "2\n",
      "Mickey\n",
      "4\n",
      "Mouse\n",
      "Mickey\n",
      "7\n",
      "8\n",
      "Mickey\n",
      "Mouse\n",
      "11\n",
      "Mickey\n",
      "13\n",
      "14\n",
      "MickeyMouse\n",
      "16\n",
      "17\n",
      "Mickey\n",
      "19\n",
      "Mouse\n",
      "Mickey\n",
      "22\n",
      "23\n",
      "Mickey\n",
      "Mouse\n",
      "26\n",
      "Mickey\n",
      "28\n",
      "29\n",
      "MickeyMouse\n",
      "31\n",
      "32\n",
      "Mickey\n",
      "34\n",
      "Mouse\n",
      "Mickey\n",
      "37\n",
      "38\n",
      "Mickey\n",
      "Mouse\n",
      "41\n",
      "Mickey\n",
      "43\n",
      "44\n",
      "MickeyMouse\n",
      "46\n",
      "47\n",
      "Mickey\n",
      "49\n",
      "Mouse\n",
      "Mickey\n",
      "52\n",
      "53\n",
      "Mickey\n",
      "Mouse\n",
      "56\n",
      "Mickey\n",
      "58\n",
      "59\n",
      "MickeyMouse\n",
      "61\n",
      "62\n",
      "Mickey\n",
      "64\n",
      "Mouse\n",
      "Mickey\n",
      "67\n",
      "68\n",
      "Mickey\n",
      "Mouse\n",
      "71\n",
      "Mickey\n",
      "73\n",
      "74\n",
      "MickeyMouse\n",
      "76\n",
      "77\n",
      "Mickey\n",
      "79\n",
      "Mouse\n",
      "Mickey\n",
      "82\n",
      "83\n",
      "Mickey\n",
      "Mouse\n",
      "86\n",
      "Mickey\n",
      "88\n",
      "89\n",
      "MickeyMouse\n",
      "91\n",
      "92\n",
      "Mickey\n",
      "94\n",
      "Mouse\n",
      "Mickey\n",
      "97\n",
      "98\n",
      "Mickey\n",
      "Mouse\n"
     ]
    }
   ],
   "source": [
    "NoTuple = [] # list for saving the results\n",
    "for i in range(1, 101):\n",
    "    if i%5 == 0 and i%3 == 0:\n",
    "        print('MickeyMouse')\n",
    "        NoTuple.append('MickeyMouse')\n",
    "    elif i%5 == 0:\n",
    "        print('Mouse')\n",
    "        NoTuple.append('Mouse')\n",
    "    elif i%3 == 0:\n",
    "        print('Mickey')\n",
    "        NoTuple.append('Mickey')    \n",
    "    else:\n",
    "        print(i)\n",
    "        NoTuple.append(i)\n",
    "    \n",
    "Tuple = tuple(NoTuple) # results in tuple "
   ]
  },
  {
   "cell_type": "code",
   "execution_count": 64,
   "id": "68eea615",
   "metadata": {
    "scrolled": false
   },
   "outputs": [
    {
     "name": "stdout",
     "output_type": "stream",
     "text": [
      "(1, 2, 'Donald', 4, 'Duck', 'Donald', 7, 8, 'Donald', 'Duck', 11, 'Donald', 13, 14, 'DonaldDuck', 16, 17, 'Donald', 19, 'Duck', 'Donald', 22, 23, 'Donald', 'Duck', 26, 'Donald', 28, 29, 'DonaldDuck', 31, 32, 'Donald', 34, 'Duck', 'Donald', 37, 38, 'Donald', 'Duck', 41, 'Donald', 43, 44, 'DonaldDuck', 46, 47, 'Donald', 49, 'Duck', 'Donald', 52, 53, 'Donald', 'Duck', 56, 'Donald', 58, 59, 'DonaldDuck', 61, 62, 'Donald', 64, 'Duck', 'Donald', 67, 68, 'Donald', 'Duck', 71, 'Donald', 73, 74, 'DonaldDuck', 76, 77, 'Donald', 79, 'Duck', 'Donald', 82, 83, 'Donald', 'Duck', 86, 'Donald', 88, 89, 'DonaldDuck', 91, 92, 'Donald', 94, 'Duck', 'Donald', 97, 98, 'Donald', 'Duck')\n"
     ]
    }
   ],
   "source": [
    "Donald = list(Tuple) # changing to list again to change specific elements\n",
    "\n",
    "for i in range(len(Tuple)):\n",
    "    if Donald[i] == 'Mickey':\n",
    "        Donald[i] = 'Donald'\n",
    "    elif Donald[i] == 'Mouse':\n",
    "        Donald[i] = 'Duck'\n",
    "    elif Donald[i] == 'MickeyMouse':\n",
    "        Donald[i] = 'DonaldDuck'\n",
    "        \n",
    "Tuple = tuple(Donald) # change to tuple if neccassary         \n",
    "print(Tuple)"
   ]
  },
  {
   "cell_type": "markdown",
   "id": "44f99364",
   "metadata": {},
   "source": [
    "## Exercise 2: Swap-Function ✅"
   ]
  },
  {
   "cell_type": "code",
   "execution_count": 5,
   "id": "d22d7edb",
   "metadata": {},
   "outputs": [
    {
     "name": "stdout",
     "output_type": "stream",
     "text": [
      "(5, 10)\n"
     ]
    }
   ],
   "source": [
    "def my_function(a, b):\n",
    "        return b, a \n",
    "\n",
    "x = 10\n",
    "y = 5\n",
    "\n",
    "my_function(x, y)\n",
    "\n",
    "print(my_function(x, y))"
   ]
  },
  {
   "cell_type": "markdown",
   "id": "f7210d0d",
   "metadata": {},
   "source": [
    "## Exercise 3: Computing distance ✅"
   ]
  },
  {
   "cell_type": "code",
   "execution_count": 12,
   "id": "bcdbe536",
   "metadata": {},
   "outputs": [
    {
     "name": "stdout",
     "output_type": "stream",
     "text": [
      "The distance between point a and b is: 5.0\n"
     ]
    }
   ],
   "source": [
    "from math import sqrt\n",
    "\n",
    "def distance(a, b):\n",
    "    return sqrt((a[0]-b[0]) **2 + (a[1]-b[1]) **2) # distance calucalted with the euclidean norm\n",
    " \n",
    "w = (0, 3)  \n",
    "v = (4, 0)\n",
    "\n",
    "print('The distance between point a and b is:', distance(w, v))"
   ]
  },
  {
   "cell_type": "markdown",
   "id": "2ac60006",
   "metadata": {},
   "source": [
    "## Exercise 4: Counting letters ✅"
   ]
  },
  {
   "cell_type": "code",
   "execution_count": 15,
   "id": "eb7211e0",
   "metadata": {},
   "outputs": [],
   "source": [
    "s=\"Write a program that prints the numbers from 1 to 100. \\\n",
    "But for multiples of three print Mickey instead of the number and for the multiples of five print Mouse. \\\n",
    "For numbers which are multiples of both three and five print MickeyMouse\""
   ]
  },
  {
   "cell_type": "code",
   "execution_count": 18,
   "id": "16233d0e",
   "metadata": {},
   "outputs": [
    {
     "name": "stdout",
     "output_type": "stream",
     "text": [
      "What Letter you want to count ? Letter:m\n",
      "The letter  m  appers 12 times.\n"
     ]
    }
   ],
   "source": [
    "def counting(M, s):\n",
    "    counter = 0\n",
    "    for i in s.lower(): # set every character to lower and then just counted them to ignore the capitalization\n",
    "            if i == M:\n",
    "                counter += 1\n",
    "    return counter\n",
    "\n",
    "\n",
    "d = input('What Letter you want to count ? Letter:')\n",
    "print('The letter ', d ,' appers', counting(d.lower(), s), 'times.')"
   ]
  },
  {
   "cell_type": "markdown",
   "id": "a93f0f5b",
   "metadata": {},
   "source": [
    "## Exercise 5: Isolating the unique ✅"
   ]
  },
  {
   "cell_type": "code",
   "execution_count": 18,
   "id": "5482ea60",
   "metadata": {},
   "outputs": [],
   "source": [
    "l = [36, 45, 58, 3, 74, 96, 64, 45, 31, 10, 24, 19, 33, 86, 99, 18, 63, 70, 85,\n",
    " 85, 63, 47, 56, 42, 70, 84, 88, 55, 20, 54, 8, 56, 51, 79, 81, 57, 37, 91,\n",
    " 1, 84, 84, 36, 66, 9, 89, 50, 42, 91, 50, 95, 90, 98, 39, 16, 82, 31, 92, 41,\n",
    " 45, 30, 66, 70, 34, 85, 94, 5, 3, 36, 72, 91, 84, 34, 87, 75, 53, 51, 20, 89, 51, 20]"
   ]
  },
  {
   "cell_type": "code",
   "execution_count": 57,
   "id": "72602572",
   "metadata": {},
   "outputs": [
    {
     "name": "stdout",
     "output_type": "stream",
     "text": [
      "[36, 45, 58, 3, 74, 96, 64, 31, 10, 24, 19, 33, 86, 99, 18, 63, 70, 85, 47, 56, 42, 84, 88, 55, 20, 54, 8, 51, 79, 81, 57, 37, 91, 1, 66, 9, 89, 50, 95, 90, 98, 39, 16, 82, 92, 41, 30, 34, 94, 5, 72, 87, 75, 53]\n"
     ]
    }
   ],
   "source": [
    "def unique(l):\n",
    "    list1 = ([])\n",
    "    for i in l:\n",
    "        if i not in list1:\n",
    "            list1.append(i)\n",
    "    return list1\n",
    "      \n",
    "print(unique(l))"
   ]
  },
  {
   "cell_type": "markdown",
   "id": "93758105",
   "metadata": {},
   "source": [
    "## Exercise 6: Combination of functions ✅"
   ]
  },
  {
   "cell_type": "code",
   "execution_count": 20,
   "id": "dff53544",
   "metadata": {},
   "outputs": [
    {
     "name": "stdout",
     "output_type": "stream",
     "text": [
      "729\n"
     ]
    }
   ],
   "source": [
    "def square(s):\n",
    "    return s **2\n",
    "\n",
    "def cube(s):\n",
    "    return s **3\n",
    "\n",
    "def sixth(s):\n",
    "    return square(cube(s))\n",
    "\n",
    "print(sixth(3))"
   ]
  },
  {
   "cell_type": "markdown",
   "id": "6db6c978",
   "metadata": {},
   "source": [
    "## Exercise 7: Cubes ✅"
   ]
  },
  {
   "cell_type": "code",
   "execution_count": 31,
   "id": "f40a18af",
   "metadata": {},
   "outputs": [
    {
     "name": "stdout",
     "output_type": "stream",
     "text": [
      "[0, 1, 8, 27, 64, 125, 216, 343, 512, 729, 1000]\n",
      "[0, 1, 8, 27, 64, 125, 216, 343, 512, 729, 1000]\n"
     ]
    }
   ],
   "source": [
    "list2 = []\n",
    "for i in range(11):\n",
    "    list2.append(i **3)\n",
    "    \n",
    "print(list2)\n",
    "\n",
    "list2_2 = [*range(11)] # same but already filled list in beginning\n",
    "for i in range(len(list2_2)):\n",
    "    list2_2[i] = i **3\n",
    "    \n",
    "print(list2_2)"
   ]
  },
  {
   "cell_type": "code",
   "execution_count": 29,
   "id": "b94b75d5",
   "metadata": {},
   "outputs": [
    {
     "name": "stdout",
     "output_type": "stream",
     "text": [
      "[0, 1, 8, 27, 64, 125, 216, 343, 512, 729, 1000]\n"
     ]
    }
   ],
   "source": [
    "\n",
    "list3 = [*range(11)]\n",
    "cube_list = [(i **3)for i in list3]\n",
    "    \n",
    "print(cube_list)"
   ]
  },
  {
   "cell_type": "markdown",
   "id": "540dc9fd",
   "metadata": {},
   "source": [
    "## Exercise 8: Nested list comprehension ✅"
   ]
  },
  {
   "cell_type": "code",
   "execution_count": 95,
   "id": "bbda4dd3",
   "metadata": {},
   "outputs": [
    {
     "name": "stdout",
     "output_type": "stream",
     "text": [
      "[(3, 4, 5), (5, 12, 13), (6, 8, 10), (7, 24, 25), (8, 15, 17), (9, 12, 15), (9, 40, 41), (10, 24, 26), (11, 60, 61), (12, 16, 20), (12, 35, 37), (13, 84, 85), (14, 48, 50), (15, 20, 25), (15, 36, 39), (16, 30, 34), (16, 63, 65), (18, 24, 30), (18, 80, 82), (20, 21, 29), (20, 48, 52), (21, 28, 35), (21, 72, 75), (24, 32, 40), (24, 45, 51), (24, 70, 74), (25, 60, 65), (27, 36, 45), (28, 45, 53), (30, 40, 50), (30, 72, 78), (32, 60, 68), (33, 44, 55), (33, 56, 65), (35, 84, 91), (36, 48, 60), (36, 77, 85), (39, 52, 65), (39, 80, 89), (40, 42, 58), (40, 75, 85), (42, 56, 70), (45, 60, 75), (48, 55, 73), (48, 64, 80), (51, 68, 85), (54, 72, 90), (57, 76, 95), (60, 63, 87), (65, 72, 97)]\n"
     ]
    }
   ],
   "source": [
    "triple = [[]]\n",
    "more_triple = [(a, b, c) for a  in range(1, 100) for b in range(1, 100) for c in range(1, 100) if a **2 + b **2 == c ** 2]\n",
    "\n",
    "for i in range(len(more_triple)):\n",
    "    more_triple[i] = sorted(more_triple[i]) # sorted the triples, c will always be last so its just for a and b\n",
    "\n",
    "check_list = []\n",
    "unique_triple = []\n",
    "for i in range(len(more_triple)):\n",
    "    if (more_triple[i][0], more_triple[i][1]) not in check_list: # same as in task 5, removed duplicates of a,b\n",
    "        check_list.append((more_triple[i][0], more_triple[i][1]))\n",
    "        unique_triple.append(tuple(more_triple[i])) # list of unique pythagorean triple's\n",
    "\n",
    "\n",
    "print(unique_triple)"
   ]
  },
  {
   "cell_type": "markdown",
   "id": "d1072598",
   "metadata": {},
   "source": [
    "## Exercise 9: Normalization ✅"
   ]
  },
  {
   "cell_type": "code",
   "execution_count": 4,
   "id": "8f8b77f0",
   "metadata": {},
   "outputs": [
    {
     "data": {
      "text/plain": [
       "(0.6, 0.8, 1.0)"
      ]
     },
     "execution_count": 4,
     "metadata": {},
     "output_type": "execute_result"
    }
   ],
   "source": [
    "def normalizer(a):\n",
    "    list4 = ([])\n",
    "    for i in a:\n",
    "        list4.append(i/max(a)) # normalized by dividing with the largest element\n",
    "    return tuple(list4)\n",
    "\n",
    "a = (3,4,5)\n",
    "\n",
    "normalizer(a)"
   ]
  }
 ],
 "metadata": {
  "kernelspec": {
   "display_name": "Python 3",
   "language": "python",
   "name": "python3"
  }
 },
 "nbformat": 4,
 "nbformat_minor": 5
}
