{
 "cells": [
  {
   "cell_type": "markdown",
   "metadata": {},
   "source": [
    "# Kuzushiji Classification with Support Vector Machines\n",
    "\n",
    "In this notebook we are going to explore the use of Support Vector Machines (SVM) for image classification.\n",
    "We will use a variant of the famous MNIST dataset (the original is a dataset of handwritten digits).\n",
    "The version we are going to use is called Kuzushiji-MNIST or K-MNIST for short (https://github.com/rois-codh/kmnist)\n",
    "and is a dataset of traditional japanese handwritten kana.\n",
    "\n",
    "\n",
    "\n",
    "The dataset labels are the following:\n",
    "\n",
    "| Label | Hiragana Character | Romanji (Pronunciation) |\n",
    "| :-: | :-: | :-: |\n",
    "|   0   | お | o |\n",
    "| 1 | き | ki |\n",
    "| 2 | す | su |\n",
    "| 3 | つ | tsu |\n",
    "| 4 | な | na |\n",
    "| 5 | は | ha |\n",
    "| 6 | ま | ma |\n",
    "| 7 | や | ya |\n",
    "| 8 | れ | re |\n",
    "| 9 | を | wo |"
   ]
  },
  {
   "cell_type": "markdown",
   "metadata": {},
   "source": [
    "## TODO: Insert your surname, name and ID number\n",
    "\n",
    "Student surname: Hoeth\n",
    "\n",
    "Student name: Max\n",
    "    \n",
    "ID: 2055977"
   ]
  },
  {
   "cell_type": "code",
   "execution_count": 1,
   "metadata": {},
   "outputs": [],
   "source": [
    "#load the required packages\n",
    "\n",
    "%matplotlib inline  \n",
    "\n",
    "import numpy as np\n",
    "import scipy as sp\n",
    "import matplotlib.pyplot as plt\n",
    "from pprintpp import pprint as pp\n",
    "import pandas as pd\n",
    "\n",
    "import sklearn\n",
    "from sklearn.datasets import fetch_openml\n",
    "from sklearn.neural_network import MLPClassifier\n",
    "from sklearn.decomposition import PCA\n",
    "import sklearn.metrics as skm"
   ]
  },
  {
   "cell_type": "code",
   "execution_count": 2,
   "metadata": {},
   "outputs": [],
   "source": [
    "import os\n",
    "import gzip\n",
    "\n",
    "\n",
    "# helper function to load Kuzushiji-MNIST dataset\n",
    "def load_mnist(path, kind='train'):\n",
    "    labels_path = os.path.join(path, 'K%s-labels-idx1-ubyte.gz' % kind)\n",
    "    images_path = os.path.join(path, 'K%s-images-idx3-ubyte.gz' % kind)\n",
    "    with gzip.open(labels_path, 'rb') as lbpath:\n",
    "        labels = np.frombuffer(lbpath.read(), dtype=np.uint8,offset=8)\n",
    "    with gzip.open(images_path, 'rb') as imgpath:\n",
    "        images = np.frombuffer(imgpath.read(), dtype=np.uint8,offset=16).reshape(len(labels), 784)\n",
    "    return images, labels\n"
   ]
  },
  {
   "cell_type": "code",
   "execution_count": 3,
   "metadata": {},
   "outputs": [],
   "source": [
    "import time\n",
    "\n",
    "\n",
    "#fix your ID (\"numero di matricola\") and the seed for random generator (as usual you can try different seeds)\n",
    "#ID = place a random seed\n",
    "np.random.seed(int(time.time()))"
   ]
  },
  {
   "cell_type": "code",
   "execution_count": 4,
   "metadata": {},
   "outputs": [
    {
     "name": "stdout",
     "output_type": "stream",
     "text": [
      "(60000, 784) (60000,)\n"
     ]
    }
   ],
   "source": [
    "#load the K-MNIST dataset from the 'data' folder and let's normalize the features so that each value is in [0,1] \n",
    "\n",
    "X, y = load_mnist('data', kind='train')\n",
    "# rescale the data\n",
    "X, y = X / 255., y # original pixel values are between 0 and 255\n",
    "print(X.shape, y.shape)"
   ]
  },
  {
   "cell_type": "markdown",
   "metadata": {},
   "source": [
    "Now split into training and test. Make sure that each label is present at least 10 times\n",
    "in training. If it is not, then keep adding permutations to the initial data until this \n",
    "happens."
   ]
  },
  {
   "cell_type": "code",
   "execution_count": 5,
   "metadata": {},
   "outputs": [
    {
     "name": "stdout",
     "output_type": "stream",
     "text": [
      "Labels in training dataset:  [0 1 2 3 4 5 6 7 8 9]\n",
      "Frequencies in training dataset:  [55 62 55 78 56 42 53 56 78 65]\n"
     ]
    }
   ],
   "source": [
    "# Random permute the data and split into training and test taking the first 600\n",
    "# data samples as training and 4000 samples as test\n",
    "permutation = np.random.permutation(X.shape[0])\n",
    "\n",
    "X = X[permutation]\n",
    "y = y[permutation]\n",
    "\n",
    "m_training = 600\n",
    "m_test = 4000\n",
    "\n",
    "X_train, X_test = X[:m_training], X[m_training:m_training+m_test:]\n",
    "y_train, y_test = y[:m_training], y[m_training:m_training+m_test:]\n",
    "\n",
    "labels, freqs = np.unique(y_train, return_counts=True)\n",
    "print(\"Labels in training dataset: \", labels)\n",
    "print(\"Frequencies in training dataset: \", freqs)\n"
   ]
  },
  {
   "cell_type": "code",
   "execution_count": 6,
   "metadata": {},
   "outputs": [],
   "source": [
    "#function for plotting a image and printing the corresponding label\n",
    "def plot_input(X_matrix, labels, index):\n",
    "    print(\"INPUT:\")\n",
    "    plt.imshow(\n",
    "        X_matrix[index].reshape(28,28),\n",
    "        cmap          = plt.cm.gray_r,\n",
    "        interpolation = \"nearest\"\n",
    "    )\n",
    "    plt.show()\n",
    "    print(\"LABEL: %i\"%labels[index])\n",
    "    return"
   ]
  },
  {
   "cell_type": "code",
   "execution_count": 7,
   "metadata": {},
   "outputs": [
    {
     "name": "stdout",
     "output_type": "stream",
     "text": [
      "INPUT:\n"
     ]
    },
    {
     "data": {
      "image/png": "[encoded data removed]",
      "text/plain": [
       "<Figure size 432x288 with 1 Axes>"
      ]
     },
     "metadata": {
      "needs_background": "light"
     },
     "output_type": "display_data"
    },
    {
     "name": "stdout",
     "output_type": "stream",
     "text": [
      "LABEL: 8\n",
      "INPUT:\n"
     ]
    },
    {
     "data": {
      "image/png": "[encoded data removed]",
      "text/plain": [
       "<Figure size 432x288 with 1 Axes>"
      ]
     },
     "metadata": {
      "needs_background": "light"
     },
     "output_type": "display_data"
    },
    {
     "name": "stdout",
     "output_type": "stream",
     "text": [
      "LABEL: 3\n",
      "INPUT:\n"
     ]
    },
    {
     "data": {
      "image/png": "[encoded data removed]",
      "text/plain": [
       "<Figure size 432x288 with 1 Axes>"
      ]
     },
     "metadata": {
      "needs_background": "light"
     },
     "output_type": "display_data"
    },
    {
     "name": "stdout",
     "output_type": "stream",
     "text": [
      "LABEL: 6\n",
      "INPUT:\n"
     ]
    },
    {
     "data": {
      "image/png": "[encoded data removed]",
      "text/plain": [
       "<Figure size 432x288 with 1 Axes>"
      ]
     },
     "metadata": {
      "needs_background": "light"
     },
     "output_type": "display_data"
    },
    {
     "name": "stdout",
     "output_type": "stream",
     "text": [
      "LABEL: 8\n"
     ]
    }
   ],
   "source": [
    "#let's try the plotting function\n",
    "plot_input(X_train,y_train,5)\n",
    "plot_input(X_test,y_test,50)\n",
    "plot_input(X_test,y_test,500)\n",
    "plot_input(X_test,y_test,700)"
   ]
  },
  {
   "cell_type": "markdown",
   "metadata": {},
   "source": [
    "## TO DO 1\n",
    "Use an SVM classifier with cross validation to pick a model. Use a 4-fold cross-validation.\n",
    "Let's start with a Linear kernel:"
   ]
  },
  {
   "cell_type": "code",
   "execution_count": 8,
   "metadata": {},
   "outputs": [
    {
     "name": "stdout",
     "output_type": "stream",
     "text": [
      "RESULTS FOR LINEAR KERNEL\n",
      "4 9\n",
      "7 7\n",
      "6 6\n",
      "2 6\n",
      "5 5\n",
      "8 8\n",
      "3 5\n",
      "1 3\n",
      "5 5\n",
      "8 6\n",
      "3 3\n",
      "5 0\n",
      "5 5\n",
      "9 9\n",
      "7 7\n",
      "2 2\n",
      "0 7\n",
      "7 7\n",
      "9 9\n",
      "9 9\n",
      "Best parameters set found:\n",
      "{'C': 1.0, 'break_ties': False, 'cache_size': 200, 'class_weight': None, 'coef0': 0.0, 'decision_function_shape': 'ovr', 'degree': 3, 'gamma': 'scale', 'kernel': 'linear', 'max_iter': -1, 'probability': False, 'random_state': None, 'shrinking': True, 'tol': 0.001, 'verbose': False}\n",
      "Score with best parameters on Test set:\n",
      "0.73125\n",
      "All scores on the grid:\n",
      "{\n",
      "    'mean_fit_time': array([0.0465762]),\n",
      "    'mean_score_time': array([0.0100103]),\n",
      "    'mean_test_score': array([0.78]),\n",
      "    'param_kernel': masked_array(data=['linear'],\n",
      "                 mask=[False],\n",
      "           fill_value='?',\n",
      "                dtype=object),\n",
      "    'params': [{'kernel': 'linear'}],\n",
      "    'rank_test_score': array([1], dtype=int32),\n",
      "    'split0_test_score': array([0.80666667]),\n",
      "    'split1_test_score': array([0.77333333]),\n",
      "    'split2_test_score': array([0.78]),\n",
      "    'split3_test_score': array([0.76]),\n",
      "    'std_fit_time': array([0.00066752]),\n",
      "    'std_score_time': array([0.00011099]),\n",
      "    'std_test_score': array([0.01699673]),\n",
      "}\n"
     ]
    }
   ],
   "source": [
    "#import SVC\n",
    "from sklearn.svm import SVC\n",
    "#import for Cross-Validation\n",
    "from sklearn.model_selection import GridSearchCV\n",
    "\n",
    "\n",
    "m = SVC()\n",
    "parameters = {'kernel':('linear')}\n",
    "svm = GridSearchCV(m, {'kernel':['linear']}, cv = 4, n_jobs=-1).fit(X_train, y_train)\n",
    "\n",
    "print ('RESULTS FOR LINEAR KERNEL')\n",
    "\n",
    "for x,y in zip(y_test[:20], svm.predict(X_test)[:20]):\n",
    "    print(x, y)\n",
    "\n",
    "print(\"Best parameters set found:\")\n",
    "print(svm.best_estimator_.get_params())\n",
    "\n",
    "print(\"Score with best parameters on Test set:\")\n",
    "print(svm.best_estimator_.score(X_test, y_test))\n",
    "\n",
    "print(\"All scores on the grid:\")\n",
    "pp(svm.cv_results_)"
   ]
  },
  {
   "cell_type": "markdown",
   "metadata": {},
   "source": [
    "## TO DO 2\n",
    "Pick a model for the Polynomial kernel with degree=2:"
   ]
  },
  {
   "cell_type": "code",
   "execution_count": 9,
   "metadata": {},
   "outputs": [
    {
     "name": "stdout",
     "output_type": "stream",
     "text": [
      "RESULTS FOR POLY DEGREE=2 KERNEL\n",
      "4 9\n",
      "7 7\n",
      "6 6\n",
      "2 6\n",
      "5 5\n",
      "8 8\n",
      "3 5\n",
      "1 3\n",
      "5 5\n",
      "8 6\n",
      "3 3\n",
      "5 0\n",
      "5 5\n",
      "9 9\n",
      "7 7\n",
      "2 2\n",
      "0 7\n",
      "7 7\n",
      "9 9\n",
      "9 9\n",
      "Best parameters set found:\n",
      "{'C': 0.1, 'break_ties': False, 'cache_size': 200, 'class_weight': None, 'coef0': 0.0, 'decision_function_shape': 'ovr', 'degree': 2, 'gamma': 0.01, 'kernel': 'linear', 'max_iter': -1, 'probability': False, 'random_state': None, 'shrinking': True, 'tol': 0.001, 'verbose': False}\n",
      "Score with best parameters on Test set:\n",
      "0.73325\n",
      "All scores on the grid:\n",
      "{\n",
      "    'mean_fit_time': array([0.05781299, 0.05397815, 0.05197597, 0.05665851, 0.0590474 ,\n",
      "           0.05803108, 0.0602178 , 0.0565629 , 0.0587067 ]),\n",
      "    'mean_score_time': array([0.01194924, 0.01357579, 0.01485449, 0.01187879, 0.0120753 ,\n",
      "           0.01616895, 0.01433295, 0.01556587, 0.01087373]),\n",
      "    'mean_test_score': array([0.77833333, 0.77833333, 0.77833333, 0.78166667, 0.78166667,\n",
      "           0.78166667, 0.78      , 0.78      , 0.78      ]),\n",
      "    'param_C': masked_array(data=[0.01, 0.01, 0.01, 0.1, 0.1, 0.1, 1, 1, 1],\n",
      "                 mask=[False, False, False, False, False, False, False, False,\n",
      "                       False],\n",
      "           fill_value='?',\n",
      "                dtype=object),\n",
      "    'param_gamma': masked_array(data=[0.01, 0.1, 1, 0.01, 0.1, 1, 0.01, 0.1, 1],\n",
      "                 mask=[False, False, False, False, False, False, False, False,\n",
      "                       False],\n",
      "           fill_value='?',\n",
      "                dtype=object),\n",
      "    'params': [\n",
      "        {'C': 0.01, 'gamma': 0.01},\n",
      "        {'C': 0.01, 'gamma': 0.1},\n",
      "        {'C': 0.01, 'gamma': 1},\n",
      "        {'C': 0.1, 'gamma': 0.01},\n",
      "        {'C': 0.1, 'gamma': 0.1},\n",
      "        {'C': 0.1, 'gamma': 1},\n",
      "        {'C': 1, 'gamma': 0.01},\n",
      "        {'C': 1, 'gamma': 0.1},\n",
      "        {'C': 1, 'gamma': 1},\n",
      "    ],\n",
      "    'rank_test_score': array([7, 7, 7, 1, 1, 1, 4, 4, 4], dtype=int32),\n",
      "    'split0_test_score': array([0.8       , 0.8       , 0.8       , 0.80666667, 0.80666667,\n",
      "           0.80666667, 0.80666667, 0.80666667, 0.80666667]),\n",
      "    'split1_test_score': array([0.79333333, 0.79333333, 0.79333333, 0.77333333, 0.77333333,\n",
      "           0.77333333, 0.77333333, 0.77333333, 0.77333333]),\n",
      "    'split2_test_score': array([0.76, 0.76, 0.76, 0.78, 0.78, 0.78, 0.78, 0.78, 0.78]),\n",
      "    'split3_test_score': array([0.76      , 0.76      , 0.76      , 0.76666667, 0.76666667,\n",
      "           0.76666667, 0.76      , 0.76      , 0.76      ]),\n",
      "    'std_fit_time': array([0.00587288, 0.0081285 , 0.00230139, 0.00039121, 0.00438217,\n",
      "           0.0079546 , 0.00515284, 0.00395978, 0.00362297]),\n",
      "    'std_score_time': array([0.00249029, 0.00281773, 0.00175783, 0.00153435, 0.00362526,\n",
      "           0.00052938, 0.00281017, 0.00570089, 0.00132115]),\n",
      "    'std_test_score': array([0.01848423, 0.01848423, 0.01848423, 0.01518406, 0.01518406,\n",
      "           0.01518406, 0.01699673, 0.01699673, 0.01699673]),\n",
      "}\n"
     ]
    }
   ],
   "source": [
    "# parameters for poly with degree 2 kernel\n",
    "parameters = {'C': [0.01, 0.1, 1],'gamma':[0.01,0.1,1]}\n",
    "\n",
    "#run SVM with poly of degree 2 kernel\n",
    "m = SVC(kernel='linear', degree=2)\n",
    "svm = GridSearchCV(m, parameters ,n_jobs=-1, cv=4).fit(X_train, y_train)\n",
    "\n",
    "print ('RESULTS FOR POLY DEGREE=2 KERNEL')\n",
    "\n",
    "for x,y in zip(y_test[:20], svm.predict(X_test)[:20]):\n",
    "    print(x, y)\n",
    "\n",
    "print(\"Best parameters set found:\")\n",
    "print(svm.best_estimator_.get_params())\n",
    "\n",
    "print(\"Score with best parameters on Test set:\")\n",
    "print(svm.best_estimator_.score(X_test, y_test))\n",
    "\n",
    "print(\"All scores on the grid:\")\n",
    "pp((svm.cv_results_))"
   ]
  },
  {
   "cell_type": "markdown",
   "metadata": {},
   "source": [
    "## TO DO 3\n",
    "\n",
    "Now let's try a higher degree for the polynomial kernel (e.g., 3rd degree)."
   ]
  },
  {
   "cell_type": "code",
   "execution_count": 10,
   "metadata": {},
   "outputs": [
    {
     "name": "stdout",
     "output_type": "stream",
     "text": [
      "RESULTS FOR POLY DEGREE=3 KERNEL\n",
      "4 9\n",
      "7 7\n",
      "6 6\n",
      "2 6\n",
      "5 5\n",
      "8 8\n",
      "3 5\n",
      "1 3\n",
      "5 5\n",
      "8 6\n",
      "3 3\n",
      "5 0\n",
      "5 5\n",
      "9 9\n",
      "7 7\n",
      "2 2\n",
      "0 7\n",
      "7 7\n",
      "9 9\n",
      "9 9\n",
      "Best parameters set found:\n",
      "{'C': 0.1, 'break_ties': False, 'cache_size': 200, 'class_weight': None, 'coef0': 0.0, 'decision_function_shape': 'ovr', 'degree': 3, 'gamma': 0.01, 'kernel': 'linear', 'max_iter': -1, 'probability': False, 'random_state': None, 'shrinking': True, 'tol': 0.001, 'verbose': False}\n",
      "Score with best parameters on Test set:\n",
      "0.73325\n",
      "All scores on the grid:\n",
      "{\n",
      "    'mean_fit_time': array([0.08789545, 0.07750916, 0.0607093 , 0.06328654, 0.06028801,\n",
      "           0.06205982, 0.06173426, 0.06241375, 0.04688752]),\n",
      "    'mean_score_time': array([0.01232582, 0.015643  , 0.01931375, 0.01879513, 0.01546955,\n",
      "           0.01848358, 0.01745695, 0.01569766, 0.01016253]),\n",
      "    'mean_test_score': array([0.77833333, 0.77833333, 0.77833333, 0.78166667, 0.78166667,\n",
      "           0.78166667, 0.78      , 0.78      , 0.78      ]),\n",
      "    'param_C': masked_array(data=[0.01, 0.01, 0.01, 0.1, 0.1, 0.1, 1, 1, 1],\n",
      "                 mask=[False, False, False, False, False, False, False, False,\n",
      "                       False],\n",
      "           fill_value='?',\n",
      "                dtype=object),\n",
      "    'param_gamma': masked_array(data=[0.01, 0.1, 1, 0.01, 0.1, 1, 0.01, 0.1, 1],\n",
      "                 mask=[False, False, False, False, False, False, False, False,\n",
      "                       False],\n",
      "           fill_value='?',\n",
      "                dtype=object),\n",
      "    'params': [\n",
      "        {'C': 0.01, 'gamma': 0.01},\n",
      "        {'C': 0.01, 'gamma': 0.1},\n",
      "        {'C': 0.01, 'gamma': 1},\n",
      "        {'C': 0.1, 'gamma': 0.01},\n",
      "        {'C': 0.1, 'gamma': 0.1},\n",
      "        {'C': 0.1, 'gamma': 1},\n",
      "        {'C': 1, 'gamma': 0.01},\n",
      "        {'C': 1, 'gamma': 0.1},\n",
      "        {'C': 1, 'gamma': 1},\n",
      "    ],\n",
      "    'rank_test_score': array([7, 7, 7, 1, 1, 1, 4, 4, 4], dtype=int32),\n",
      "    'split0_test_score': array([0.8       , 0.8       , 0.8       , 0.80666667, 0.80666667,\n",
      "           0.80666667, 0.80666667, 0.80666667, 0.80666667]),\n",
      "    'split1_test_score': array([0.79333333, 0.79333333, 0.79333333, 0.77333333, 0.77333333,\n",
      "           0.77333333, 0.77333333, 0.77333333, 0.77333333]),\n",
      "    'split2_test_score': array([0.76, 0.76, 0.76, 0.78, 0.78, 0.78, 0.78, 0.78, 0.78]),\n",
      "    'split3_test_score': array([0.76      , 0.76      , 0.76      , 0.76666667, 0.76666667,\n",
      "           0.76666667, 0.76      , 0.76      , 0.76      ]),\n",
      "    'std_fit_time': array([0.00789097, 0.00427566, 0.00093607, 0.00180669, 0.00305388,\n",
      "           0.00243743, 0.00254281, 0.00373229, 0.00349483]),\n",
      "    'std_score_time': array([0.00256374, 0.00264777, 0.00038831, 0.00144472, 0.00136097,\n",
      "           0.00044535, 0.00162184, 0.00300441, 0.0001624 ]),\n",
      "    'std_test_score': array([0.01848423, 0.01848423, 0.01848423, 0.01518406, 0.01518406,\n",
      "           0.01518406, 0.01699673, 0.01699673, 0.01699673]),\n",
      "}\n"
     ]
    }
   ],
   "source": [
    "# parameters for poly with higher degree kernel\n",
    "parameters = {'C': [0.01, 0.1, 1],'gamma':[0.01,0.1,1]}\n",
    "\n",
    "#run SVM with poly of degree 2 kernel\n",
    "m = SVC(kernel='linear', degree=3)\n",
    "svm = GridSearchCV(m, parameters ,n_jobs=-1, cv=4).fit(X_train, y_train)\n",
    "\n",
    "print ('RESULTS FOR POLY DEGREE=3 KERNEL')\n",
    "\n",
    "for x,y in zip(y_test[:20], svm.predict(X_test)[:20]):\n",
    "    print(x, y)\n",
    "\n",
    "print(\"Best parameters set found:\")\n",
    "print(svm.best_estimator_.get_params())\n",
    "\n",
    "print(\"Score with best parameters on Test set:\")\n",
    "print(svm.best_estimator_.score(X_test, y_test))\n",
    "\n",
    "print(\"All scores on the grid:\")\n",
    "pp((svm.cv_results_))"
   ]
  },
  {
   "cell_type": "markdown",
   "metadata": {},
   "source": [
    "## TO DO 4\n",
    "Pick a model for the Radial Basis Function kernel:"
   ]
  },
  {
   "cell_type": "code",
   "execution_count": 11,
   "metadata": {},
   "outputs": [
    {
     "name": "stdout",
     "output_type": "stream",
     "text": [
      "RESULTS FOR RFB KERNEL\n",
      "4 9\n",
      "7 7\n",
      "6 6\n",
      "2 2\n",
      "5 5\n",
      "8 8\n",
      "3 3\n",
      "1 1\n",
      "5 5\n",
      "8 8\n",
      "3 3\n",
      "5 5\n",
      "5 5\n",
      "9 9\n",
      "7 7\n",
      "2 2\n",
      "0 0\n",
      "7 7\n",
      "9 9\n",
      "9 9\n",
      "Best parameters set found:\n",
      "{'C': 10, 'break_ties': False, 'cache_size': 200, 'class_weight': None, 'coef0': 0.0, 'decision_function_shape': 'ovr', 'degree': 3, 'gamma': 0.01, 'kernel': 'rbf', 'max_iter': -1, 'probability': False, 'random_state': None, 'shrinking': True, 'tol': 0.001, 'verbose': False}\n",
      "Score with best parameters on Test set:\n",
      "0.79575\n",
      "All scores on the grid:\n",
      "{\n",
      "    'mean_fit_time': array([0.12984437, 0.12501752, 0.1127755 , 0.11639047, 0.09379381,\n",
      "           0.10819721, 0.11527938, 0.11453742, 0.06999904, 0.10843879,\n",
      "           0.11762494, 0.11623287, 0.07891679, 0.10721856, 0.10885233,\n",
      "           0.10547704]),\n",
      "    'mean_score_time': array([0.03439814, 0.03500283, 0.03910166, 0.03969222, 0.03621995,\n",
      "           0.03609556, 0.03705931, 0.03869438, 0.04785579, 0.02848923,\n",
      "           0.0329417 , 0.03608298, 0.03111774, 0.02877265, 0.02970898,\n",
      "           0.02800333]),\n",
      "    'mean_test_score': array([0.22333333, 0.23166667, 0.155     , 0.18666667, 0.62333333,\n",
      "           0.81166667, 0.20833333, 0.135     , 0.80333333, 0.83166667,\n",
      "           0.21333333, 0.135     , 0.79333333, 0.83166667, 0.21333333,\n",
      "           0.135     ]),\n",
      "    'param_C': masked_array(data=[0.1, 0.1, 0.1, 0.1, 1, 1, 1, 1, 10, 10, 10, 10, 100,\n",
      "                       100, 100, 100],\n",
      "                 mask=[False, False, False, False, False, False, False, False,\n",
      "                       False, False, False, False, False, False, False, False],\n",
      "           fill_value='?',\n",
      "                dtype=object),\n",
      "    'param_gamma': masked_array(data=[0.001, 0.01, 0.1, 1, 0.001, 0.01, 0.1, 1, 0.001, 0.01,\n",
      "                       0.1, 1, 0.001, 0.01, 0.1, 1],\n",
      "                 mask=[False, False, False, False, False, False, False, False,\n",
      "                       False, False, False, False, False, False, False, False],\n",
      "           fill_value='?',\n",
      "                dtype=object),\n",
      "    'params': [\n",
      "        {'C': 0.1, 'gamma': 0.001},\n",
      "        {'C': 0.1, 'gamma': 0.01},\n",
      "        {'C': 0.1, 'gamma': 0.1},\n",
      "        {'C': 0.1, 'gamma': 1},\n",
      "        {'C': 1, 'gamma': 0.001},\n",
      "        {'C': 1, 'gamma': 0.01},\n",
      "        {'C': 1, 'gamma': 0.1},\n",
      "        {'C': 1, 'gamma': 1},\n",
      "        {'C': 10, 'gamma': 0.001},\n",
      "        {'C': 10, 'gamma': 0.01},\n",
      "        {'C': 10, 'gamma': 0.1},\n",
      "        {'C': 10, 'gamma': 1},\n",
      "        {'C': 100, 'gamma': 0.001},\n",
      "        {'C': 100, 'gamma': 0.01},\n",
      "        {'C': 100, 'gamma': 0.1},\n",
      "        {'C': 100, 'gamma': 1},\n",
      "    ],\n",
      "    'rank_test_score': array([ 8,  7, 13, 12,  6,  3, 11, 16,  4,  1,  9, 14,  5,  1,  9, 14],\n",
      "          dtype=int32),\n",
      "    'split0_test_score': array([0.24      , 0.24      , 0.13333333, 0.24666667, 0.66666667,\n",
      "           0.81333333, 0.17333333, 0.13333333, 0.83333333, 0.84666667,\n",
      "           0.18666667, 0.13333333, 0.82      , 0.84666667, 0.18666667,\n",
      "           0.13333333]),\n",
      "    'split1_test_score': array([0.20666667, 0.21333333, 0.16      , 0.23333333, 0.59333333,\n",
      "           0.84      , 0.22666667, 0.14      , 0.81333333, 0.82666667,\n",
      "           0.22666667, 0.12666667, 0.78666667, 0.82666667, 0.22666667,\n",
      "           0.12666667]),\n",
      "    'split2_test_score': array([0.22666667, 0.24      , 0.16666667, 0.13333333, 0.64      ,\n",
      "           0.80666667, 0.20666667, 0.13333333, 0.78      , 0.83333333,\n",
      "           0.21333333, 0.14      , 0.78666667, 0.83333333, 0.21333333,\n",
      "           0.14      ]),\n",
      "    'split3_test_score': array([0.22      , 0.23333333, 0.16      , 0.13333333, 0.59333333,\n",
      "           0.78666667, 0.22666667, 0.13333333, 0.78666667, 0.82      ,\n",
      "           0.22666667, 0.14      , 0.78      , 0.82      , 0.22666667,\n",
      "           0.14      ]),\n",
      "    'std_fit_time': array([0.00625222, 0.00368935, 0.00244533, 0.00333221, 0.00247482,\n",
      "           0.00252677, 0.00170546, 0.00208104, 0.00432291, 0.00932754,\n",
      "           0.00185066, 0.00743011, 0.01164722, 0.00873991, 0.01442302,\n",
      "           0.00940926]),\n",
      "    'std_score_time': array([0.00294284, 0.00265681, 0.00038083, 0.00045035, 0.00089063,\n",
      "           0.0014119 , 0.00099566, 0.00545955, 0.02027484, 0.00621802,\n",
      "           0.0018323 , 0.00344441, 0.00337923, 0.0012434 , 0.00547058,\n",
      "           0.00316068]),\n",
      "    'std_test_score': array([0.0120185 , 0.01092906, 0.01280191, 0.05354126, 0.0314466 ,\n",
      "           0.01907587, 0.02179449, 0.00288675, 0.02134375, 0.00986013,\n",
      "           0.01632993, 0.00552771, 0.01563472, 0.00986013, 0.01632993,\n",
      "           0.00552771]),\n",
      "}\n"
     ]
    }
   ],
   "source": [
    "# parameters for rbf SVM\n",
    "parameters = {'C': [0.1, 1, 10, 100],'gamma':[0.001, 0.01, 0.1,1]}\n",
    "\n",
    "#run SVM with poly of degree 2 kernel\n",
    "m = SVC(kernel='rbf')\n",
    "svm = GridSearchCV(m, parameters ,n_jobs=-1, cv=4).fit(X_train, y_train)\n",
    "\n",
    "print ('RESULTS FOR RFB KERNEL')\n",
    "\n",
    "for x,y in zip(y_test[:20], svm.predict(X_test)[:20]):\n",
    "    print(x, y)\n",
    "\n",
    "print(\"Best parameters set found:\")\n",
    "print(svm.best_estimator_.get_params())\n",
    "\n",
    "print(\"Score with best parameters on Test set:\")\n",
    "print(svm.best_estimator_.score(X_test, y_test))\n",
    "\n",
    "print(\"All scores on the grid:\")\n",
    "pp((svm.cv_results_))"
   ]
  },
  {
   "cell_type": "markdown",
   "metadata": {},
   "source": [
    "## QUESTION 1\n",
    "What do you observe when using linear, polynomial and RBF kernels on this dataset ?"
   ]
  },
  {
   "cell_type": "markdown",
   "metadata": {},
   "source": [
    "## TO DO 5\n",
    "Report here the best SVM kernel and parameters"
   ]
  },
  {
   "cell_type": "code",
   "execution_count": 12,
   "metadata": {},
   "outputs": [
    {
     "name": "stdout",
     "output_type": "stream",
     "text": [
      "Best SVM training error: 0.000000\n",
      "Best SVM test error: 0.204250\n"
     ]
    }
   ],
   "source": [
    "#get training and test error for the best SVM model from CV\n",
    "best_params = {'C':[10], 'gamma':[0.01]}\n",
    "\n",
    "best_ = SVC(kernel='rbf')\n",
    "best_SVM = GridSearchCV(best_, best_params ,n_jobs=-1, cv=4).fit(X_train, y_train)\n",
    "\n",
    "# (error is 1 - svm.score)\n",
    "\n",
    "training_error = 1 - best_SVM.best_estimator_.score(X_train, y_train)\n",
    "test_error = 1- best_SVM.best_estimator_.score(X_test, y_test)\n",
    "\n",
    "print (\"Best SVM training error: %f\" % training_error)\n",
    "print (\"Best SVM test error: %f\" % test_error)"
   ]
  },
  {
   "cell_type": "markdown",
   "metadata": {},
   "source": [
    "## TO DO 6\n",
    "\n",
    "Analyze how the gamma parameter (inversely proportional to standard deviation of Gaussian Kernel)\n",
    "impact the performances of the classifier"
   ]
  },
  {
   "cell_type": "code",
   "execution_count": 13,
   "metadata": {},
   "outputs": [
    {
     "name": "stdout",
     "output_type": "stream",
     "text": [
      "[1.e-05 1.e-04 1.e-03 1.e-02 1.e-01 1.e+00 1.e+01 1.e+02]\n"
     ]
    }
   ],
   "source": [
    "#Test with different values of gamma\n",
    "\n",
    "# Set gamma values\n",
    "gamma_values = np.logspace(-5,2,8)\n",
    "print(gamma_values)\n"
   ]
  },
  {
   "cell_type": "code",
   "execution_count": 14,
   "metadata": {},
   "outputs": [
    {
     "data": {
      "image/png": "[encoded data removed]",
      "text/plain": [
       "<Figure size 1080x360 with 2 Axes>"
      ]
     },
     "metadata": {
      "needs_background": "light"
     },
     "output_type": "display_data"
    }
   ],
   "source": [
    "# Try the SVM with the previously set values of gamma\n",
    "# use rbf kernel and C=1\n",
    "\n",
    "train_acc_list, test_acc_list = [], []\n",
    "\n",
    "for i in gamma_values:\n",
    "    parameters = {'C':[1], 'gamma':[i]}\n",
    "    m = SVC(kernel='rbf')\n",
    "    svm = GridSearchCV(m, parameters, n_jobs=-1, cv=4).fit(X_train, y_train)\n",
    "\n",
    "    train_acc_list.append(svm.best_estimator_.score(X_train, y_train))\n",
    "    test_acc_list.append(svm.best_estimator_.score(X_test, y_test))\n",
    "\n",
    "\n",
    "# ADD YOUR CODE TO TRAIN THE SVM MULTIPLE TIMES WITH THE DIFFERENT VALUES OF GAMMA\n",
    "# PLACE THE TRAIN AND TEST ACCURACY FOR EACH TEST IN THE TRAIN AND TEST ACCURACY LISTS\n",
    "\n",
    "# Plot\n",
    "fig, ax = plt.subplots(1,2, figsize=(15,5))\n",
    "\n",
    "ax[0].plot(gamma_values, train_acc_list)\n",
    "ax[0].set_xscale('log')\n",
    "ax[0].set_xlabel('gamma')\n",
    "ax[0].set_ylabel('Train accuracy')\n",
    "ax[0].grid(True)\n",
    "\n",
    "ax[1].plot(gamma_values, test_acc_list)\n",
    "ax[1].set_xscale('log')\n",
    "ax[1].set_xlabel('gamma')\n",
    "ax[1].set_ylabel('Test accuracy')\n",
    "ax[1].grid(True)\n",
    "\n",
    "\n",
    "plt.show()"
   ]
  },
  {
   "cell_type": "markdown",
   "metadata": {},
   "source": [
    "## QUESTION 2\n",
    "How do the train and test error change when changing gamma ? Which is the best value of gamma ? \n",
    "Connect your answers to the discussion about the overfitting issue."
   ]
  },
  {
   "cell_type": "markdown",
   "metadata": {},
   "source": [
    "## More data\n",
    "Now let's do the same but using more data points for training.\n",
    "\n",
    "\n",
    "Choose a new number of data points."
   ]
  },
  {
   "cell_type": "code",
   "execution_count": 15,
   "metadata": {},
   "outputs": [
    {
     "name": "stdout",
     "output_type": "stream",
     "text": [
      "Labels in training dataset:  [0 1 2 3 4 5 6 7 8 9]\n",
      "Frequencies in training dataset:  [203 204 202 211 212 186 175 194 199 214]\n"
     ]
    }
   ],
   "source": [
    "X, y = load_mnist('data', kind='train')\n",
    "X, y = X / 255., y\n",
    "\n",
    "permutation = np.random.permutation(X.shape[0])\n",
    "\n",
    "X = X[permutation]\n",
    "y = y[permutation]\n",
    "\n",
    "m_training = 2000 # TODO number of data points, adjust depending on the capabilities of your PC\n",
    "\n",
    "X_train, X_test = X[:m_training], X[m_training:]\n",
    "y_train, y_test = y[:m_training], y[m_training:]\n",
    "\n",
    "\n",
    "labels, freqs = np.unique(y_train, return_counts=True)\n",
    "print(\"Labels in training dataset: \", labels)\n",
    "print(\"Frequencies in training dataset: \", freqs)"
   ]
  },
  {
   "cell_type": "markdown",
   "metadata": {},
   "source": [
    "## TO DO 7\n",
    "\n",
    "Let's try to use SVM with parameters obtained from the best model for $m_{training} =  2000$. Since it may take a long\n",
    "time to run, you can decide to just let it run for some time and stop it if it does not complete. If you decide to do\n",
    "this, report it in the cell below."
   ]
  },
  {
   "cell_type": "code",
   "execution_count": 16,
   "metadata": {
    "scrolled": true
   },
   "outputs": [
    {
     "name": "stdout",
     "output_type": "stream",
     "text": [
      "Best SVM training error: 0.000000\n",
      "Best SVM test error: 0.117017\n"
     ]
    }
   ],
   "source": [
    "#get training and test error for the best SVM model from CV\n",
    "\n",
    "parameters = {'C':[10], 'gamma':[0.01]}\n",
    "m = SVC(kernel='rbf')\n",
    "svm = GridSearchCV(m, parameters, n_jobs=-1, cv=4).fit(X_train, y_train)\n",
    "\n",
    "training_error = 1 - svm.best_estimator_.score(X_train, y_train)\n",
    "test_error = 1- svm.best_estimator_.score(X_test, y_test)\n",
    "print (\"Best SVM training error: %f\" % training_error)\n",
    "print (\"Best SVM test error: %f\" % test_error)\n",
    "\n",
    "# for 20000, Best SVM training error: 0.000050, Best SVM test error: 0.046850"
   ]
  },
  {
   "cell_type": "markdown",
   "metadata": {},
   "source": [
    "Just for comparison, let's also use logistic regression \n",
    "\n",
    "## TO DO 8 Try first without regularization (use a very large, large C)¶"
   ]
  },
  {
   "cell_type": "code",
   "execution_count": 17,
   "metadata": {},
   "outputs": [
    {
     "name": "stdout",
     "output_type": "stream",
     "text": [
      "Best logistic regression training error: 0.000000\n",
      "Best logistic regression test error: 0.287034\n"
     ]
    }
   ],
   "source": [
    "from sklearn import linear_model\n",
    "\n",
    "logreg = linear_model.LogisticRegression(C=10**64).fit(X_train, y_train)\n",
    "\n",
    "training_error = 1 - logreg.score(X_train, y_train)\n",
    "test_error = 1- logreg.score(X_test, y_test)\n",
    "\n",
    "print (\"Best logistic regression training error: %f\" % training_error)\n",
    "print (\"Best logistic regression test error: %f\" % test_error)"
   ]
  },
  {
   "cell_type": "markdown",
   "metadata": {},
   "source": [
    "## TO DO 9 Try  with regularization (use C=1)¶"
   ]
  },
  {
   "cell_type": "code",
   "execution_count": 18,
   "metadata": {},
   "outputs": [
    {
     "name": "stdout",
     "output_type": "stream",
     "text": [
      "Best logistic regression training error: 0.385000\n",
      "Best logistic regression test error: 0.412534\n"
     ]
    }
   ],
   "source": [
    "logreg = linear_model.LogisticRegressionCV(Cs=1, n_jobs=-1).fit(X_train, y_train)\n",
    "\n",
    "training_error = 1 - logreg.score(X_train, y_train)\n",
    "test_error = 1- logreg.score(X_test, y_test)\n",
    "\n",
    "print (\"Best logistic regression training error: %f\" % training_error)\n",
    "print (\"Best logistic regression test error: %f\" % test_error)"
   ]
  },
  {
   "cell_type": "markdown",
   "metadata": {},
   "source": [
    "## QUESTION 3\n",
    "Compare and discuss:\n",
    "- the results from SVM with m=600 and with m=2000 training data points. If you stopped the SVM,\n",
    "include such aspect in your comparison.\n",
    "- the results of SVM and of Logistic Regression"
   ]
  },
  {
   "cell_type": "markdown",
   "metadata": {},
   "source": [
    "## TO DO 10\n",
    "Plot an item of clothing that is missclassified by logistic regression and correctly classified by SVM."
   ]
  },
  {
   "cell_type": "code",
   "execution_count": 19,
   "metadata": {},
   "outputs": [],
   "source": [
    "LR_prediction = linear_model.LogisticRegression(C=10**64).fit(X_train, y_train)\n",
    "lr_xy = LR_prediction.predict(X_test)"
   ]
  },
  {
   "cell_type": "code",
   "execution_count": 20,
   "metadata": {},
   "outputs": [],
   "source": [
    "m = SVC(kernel='rbf')\n",
    "SVM_prediction = GridSearchCV(m, parameters, n_jobs=-1, cv=4).fit(X_train, y_train)\n",
    "svm_xy = SVM_prediction.predict(X_test)"
   ]
  },
  {
   "cell_type": "code",
   "execution_count": 21,
   "metadata": {},
   "outputs": [],
   "source": [
    "miss = np.array([])\n",
    "for lr,svm,y in zip(lr_xy, svm_xy, y_test):\n",
    "    if y != lr & y == svm:\n",
    "        miss = np.append(miss, int(y))"
   ]
  },
  {
   "cell_type": "code",
   "execution_count": 22,
   "metadata": {},
   "outputs": [
    {
     "data": {
      "text/plain": [
       "Text(0, 0.5, 'Number misclassified')"
      ]
     },
     "execution_count": 22,
     "metadata": {},
     "output_type": "execute_result"
    },
    {
     "data": {
      "image/png": "[encoded data removed]",
      "text/plain": [
       "<Figure size 432x288 with 1 Axes>"
      ]
     },
     "metadata": {
      "needs_background": "light"
     },
     "output_type": "display_data"
    }
   ],
   "source": [
    "miss = pd.DataFrame(miss).astype(int)\n",
    "val = miss.value_counts().sort_index()\n",
    "labels = [i[0] for i in val.index]\n",
    "\n",
    "plt.plot(labels, val.values)\n",
    "plt.xlabel('Label')\n",
    "plt.ylabel('Number misclassified')"
   ]
  },
  {
   "cell_type": "markdown",
   "metadata": {},
   "source": [
    "## TO DO 11\n",
    "Plot the confusion matrix for the SVM classifier and for logistic regression.\n",
    "The confusion matrix has one column for each predicted label and one row for each true label. \n",
    "It shows for each class in the corresponding row how many samples belonging to that class gets each possible output\n",
    "label. Notice that the diagonal contains the correctly classified samples, while the other cells correspond to errors.\n",
    "You can obtain it with the sklearn.metrics.confusion_matrix function (see the documentation).\n",
    "Try also to normalize the confusion matrix by the number of samples in each class in order to measure the accuracy on\n",
    "each single class.\n"
   ]
  },
  {
   "cell_type": "code",
   "execution_count": 23,
   "metadata": {},
   "outputs": [
    {
     "name": "stdout",
     "output_type": "stream",
     "text": [
      "Labels and frequencies in test set:  [5797 5796 5798 5789 5788 5814 5825 5806 5801 5786]\n",
      "\n",
      " Confusion matrix SVM  \n",
      " \n",
      " [[5375   10    2   20  129   53    5  131   53   19]\n",
      " [  24 5029  111   50  120   26  100    2  107  227]\n",
      " [   0  100 4784  158   80   63  260   39  186  128]\n",
      " [   5   42   91 5317   58   68   17   36  115   40]\n",
      " [ 189  154   83   41 5013   28   79   34   99   68]\n",
      " [  65   56  121  150   49 5135   34   34  136   34]\n",
      " [  11  214  361   31  231   20 4790   71   58   38]\n",
      " [  33   56   62   50  197   53   45 5239   37   34]\n",
      " [  40  146  101   66   33   56  135    5 5195   24]\n",
      " [  21   98   84   12  153   19   10   17   36 5336]]\n",
      "\n",
      " Confusion matrix SVM (normalized)   \n",
      " \n",
      " [[0.93 0.   0.   0.   0.02 0.01 0.   0.02 0.01 0.  ]\n",
      " [0.   0.87 0.02 0.01 0.02 0.   0.02 0.   0.02 0.04]\n",
      " [0.   0.02 0.83 0.03 0.01 0.01 0.04 0.01 0.03 0.02]\n",
      " [0.   0.01 0.02 0.92 0.01 0.01 0.   0.01 0.02 0.01]\n",
      " [0.03 0.03 0.01 0.01 0.87 0.   0.01 0.01 0.02 0.01]\n",
      " [0.01 0.01 0.02 0.03 0.01 0.88 0.01 0.01 0.02 0.01]\n",
      " [0.   0.04 0.06 0.01 0.04 0.   0.82 0.01 0.01 0.01]\n",
      " [0.01 0.01 0.01 0.01 0.03 0.01 0.01 0.9  0.01 0.01]\n",
      " [0.01 0.03 0.02 0.01 0.01 0.01 0.02 0.   0.9  0.  ]\n",
      " [0.   0.02 0.01 0.   0.03 0.   0.   0.   0.01 0.92]]\n",
      "\n",
      " Confusion matrix LR  \n",
      " \n",
      " [[4630   17   67   38  275  221   37  342   60  110]\n",
      " [  33 4005  355   88  264  102  339   26  218  366]\n",
      " [  20  278 3534  105  268  177  524  108  486  298]\n",
      " [  62  122  195 4411  186  375   83  138  179   38]\n",
      " [ 219  300  374  137 3757  107  212  191  125  366]\n",
      " [ 117  124  202  331  121 4461  106  145  146   61]\n",
      " [  41  268  429  107  247  200 4016  130  276  111]\n",
      " [  96   82  135  156  246  250  152 4513   48  128]\n",
      " [  60  357  523  187  102  184  254   58 3911  165]\n",
      " [ 148  250  501   44  341   66   79  126  117 4114]]\n",
      "\n",
      " Confusion matrix LR (normalized)   \n",
      " \n",
      " [[0.8  0.   0.01 0.01 0.05 0.04 0.01 0.06 0.01 0.02]\n",
      " [0.01 0.69 0.06 0.02 0.05 0.02 0.06 0.   0.04 0.06]\n",
      " [0.   0.05 0.61 0.02 0.05 0.03 0.09 0.02 0.08 0.05]\n",
      " [0.01 0.02 0.03 0.76 0.03 0.06 0.01 0.02 0.03 0.01]\n",
      " [0.04 0.05 0.06 0.02 0.65 0.02 0.04 0.03 0.02 0.06]\n",
      " [0.02 0.02 0.03 0.06 0.02 0.77 0.02 0.02 0.03 0.01]\n",
      " [0.01 0.05 0.07 0.02 0.04 0.03 0.69 0.02 0.05 0.02]\n",
      " [0.02 0.01 0.02 0.03 0.04 0.04 0.03 0.78 0.01 0.02]\n",
      " [0.01 0.06 0.09 0.03 0.02 0.03 0.04 0.01 0.67 0.03]\n",
      " [0.03 0.04 0.09 0.01 0.06 0.01 0.01 0.02 0.02 0.71]]\n"
     ]
    }
   ],
   "source": [
    "np.set_printoptions(precision=2, suppress=True) # for better aligned printing of confusion matrix use floatmode='fixed'\n",
    "\n",
    "u, counts = np.unique(y_test, return_counts=True)\n",
    "print(\"Labels and frequencies in test set: \", counts)\n",
    "\n",
    "confusion_SVM = sklearn.metrics.confusion_matrix(y_test, svm_xy)\n",
    "print(\"\\n Confusion matrix SVM  \\n \\n\", confusion_SVM)\n",
    "print(\"\\n Confusion matrix SVM (normalized)   \\n \\n\", confusion_SVM/counts[:,None])\n",
    "\n",
    "confusion_LR =  sklearn.metrics.confusion_matrix(y_test, lr_xy)\n",
    "print(\"\\n Confusion matrix LR  \\n \\n\", confusion_LR)\n",
    "print(\"\\n Confusion matrix LR (normalized)   \\n \\n\", confusion_LR/counts[:,None] )"
   ]
  },
  {
   "cell_type": "code",
   "execution_count": 24,
   "metadata": {},
   "outputs": [
    {
     "name": "stdout",
     "output_type": "stream",
     "text": [
      "Normalized Confusion Matrix SVM \n",
      "\n",
      "[[1.   0.   0.   0.   0.02 0.01 0.   0.02 0.01 0.  ]\n",
      " [0.   0.94 0.02 0.01 0.02 0.   0.02 0.   0.02 0.04]\n",
      " [0.   0.02 0.89 0.03 0.01 0.01 0.05 0.01 0.03 0.02]\n",
      " [0.   0.01 0.02 0.99 0.01 0.01 0.   0.01 0.02 0.01]\n",
      " [0.04 0.03 0.02 0.01 0.93 0.01 0.01 0.01 0.02 0.01]\n",
      " [0.01 0.01 0.02 0.03 0.01 0.96 0.01 0.01 0.03 0.01]\n",
      " [0.   0.04 0.07 0.01 0.04 0.   0.89 0.01 0.01 0.01]\n",
      " [0.01 0.01 0.01 0.01 0.04 0.01 0.01 0.97 0.01 0.01]\n",
      " [0.01 0.03 0.02 0.01 0.01 0.01 0.03 0.   0.97 0.  ]\n",
      " [0.   0.02 0.02 0.   0.03 0.   0.   0.   0.01 0.99]] \n",
      "\n",
      "Normalized Confusion Matrix LR \n",
      "\n",
      "[[1.   0.   0.01 0.01 0.06 0.05 0.01 0.07 0.01 0.02]\n",
      " [0.01 0.87 0.08 0.02 0.06 0.02 0.07 0.01 0.05 0.08]\n",
      " [0.   0.06 0.76 0.02 0.06 0.04 0.11 0.02 0.1  0.06]\n",
      " [0.01 0.03 0.04 0.95 0.04 0.08 0.02 0.03 0.04 0.01]\n",
      " [0.05 0.06 0.08 0.03 0.81 0.02 0.05 0.04 0.03 0.08]\n",
      " [0.03 0.03 0.04 0.07 0.03 0.96 0.02 0.03 0.03 0.01]\n",
      " [0.01 0.06 0.09 0.02 0.05 0.04 0.87 0.03 0.06 0.02]\n",
      " [0.02 0.02 0.03 0.03 0.05 0.05 0.03 0.97 0.01 0.03]\n",
      " [0.01 0.08 0.11 0.04 0.02 0.04 0.05 0.01 0.84 0.04]\n",
      " [0.03 0.05 0.11 0.01 0.07 0.01 0.02 0.03 0.03 0.89]]\n"
     ]
    }
   ],
   "source": [
    "confusion_SVM = confusion_SVM/confusion_SVM.max() # ...confusion_matrix(y_test, svm_xy, normalize='true')\n",
    "confusion_LR = confusion_LR/confusion_LR.max()\n",
    "print('Normalized Confusion Matrix SVM \\n' )\n",
    "print(confusion_SVM,'\\n')\n",
    "print('Normalized Confusion Matrix LR \\n' )\n",
    "print(confusion_LR)"
   ]
  },
  {
   "cell_type": "markdown",
   "metadata": {},
   "source": [
    "## QUESTION 4\n",
    "Have a look at the confusion matrices and comment on the obtained accuracies. Why some classes have lower accuracies and\n",
    "others a higher one ? Make some guesses on the possible causes.\n"
   ]
  },
  {
   "cell_type": "code",
   "execution_count": null,
   "metadata": {},
   "outputs": [],
   "source": []
  }
 ],
 "metadata": {
  "kernelspec": {
   "display_name": "Python 3 (ipykernel)",
   "language": "python",
   "name": "python3"
  },
  "language_info": {
   "codemirror_mode": {
    "name": "ipython",
    "version": 3
   },
   "file_extension": ".py",
   "mimetype": "text/x-python",
   "name": "python",
   "nbconvert_exporter": "python",
   "pygments_lexer": "ipython3",
   "version": "3.8.8"
  }
 },
 "nbformat": 4,
 "nbformat_minor": 4
}
