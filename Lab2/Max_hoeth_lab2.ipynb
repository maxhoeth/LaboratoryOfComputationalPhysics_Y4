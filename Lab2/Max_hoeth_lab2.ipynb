{
 "cells": [
  {
   "cell_type": "markdown",
   "metadata": {},
   "source": [
    "# Kuzushiji Classification with Support Vector Machines\n",
    "\n",
    "In this notebook we are going to explore the use of Support Vector Machines (SVM) for image classification.\n",
    "We will use a variant of the famous MNIST dataset (the original is a dataset of handwritten digits).\n",
    "The version we are going to use is called Kuzushiji-MNIST or K-MNIST for short (https://github.com/rois-codh/kmnist)\n",
    "and is a dataset of traditional japanese handwritten kana.\n",
    "\n",
    "\n",
    "\n",
    "The dataset labels are the following:\n",
    "\n",
    "| Label | Hiragana Character | Romanji (Pronunciation) |\n",
    "| :-: | :-: | :-: |\n",
    "|   0   | お | o |\n",
    "| 1 | き | ki |\n",
    "| 2 | す | su |\n",
    "| 3 | つ | tsu |\n",
    "| 4 | な | na |\n",
    "| 5 | は | ha |\n",
    "| 6 | ま | ma |\n",
    "| 7 | や | ya |\n",
    "| 8 | れ | re |\n",
    "| 9 | を | wo |"
   ]
  },
  {
   "cell_type": "markdown",
   "metadata": {},
   "source": [
    "## TODO: Insert your surname, name and ID number\n",
    "\n",
    "Student surname: Hoeth\n",
    "\n",
    "Student name: Max\n",
    "    \n",
    "ID: 2055977"
   ]
  },
  {
   "cell_type": "code",
   "execution_count": 1,
   "metadata": {},
   "outputs": [],
   "source": [
    "#load the required packages\n",
    "\n",
    "%matplotlib inline  \n",
    "\n",
    "import numpy as np\n",
    "import scipy as sp\n",
    "import matplotlib.pyplot as plt\n",
    "from pprintpp import pprint as pp\n",
    "import pandas as pd\n",
    "\n",
    "import sklearn\n",
    "from sklearn.datasets import fetch_openml\n",
    "from sklearn.neural_network import MLPClassifier\n",
    "from sklearn.decomposition import PCA\n",
    "import sklearn.metrics as skm"
   ]
  },
  {
   "cell_type": "code",
   "execution_count": 2,
   "metadata": {},
   "outputs": [],
   "source": [
    "import os\n",
    "import gzip\n",
    "\n",
    "\n",
    "# helper function to load Kuzushiji-MNIST dataset\n",
    "def load_mnist(path, kind='train'):\n",
    "    labels_path = os.path.join(path, 'K%s-labels-idx1-ubyte.gz' % kind)\n",
    "    images_path = os.path.join(path, 'K%s-images-idx3-ubyte.gz' % kind)\n",
    "    with gzip.open(labels_path, 'rb') as lbpath:\n",
    "        labels = np.frombuffer(lbpath.read(), dtype=np.uint8,offset=8)\n",
    "    with gzip.open(images_path, 'rb') as imgpath:\n",
    "        images = np.frombuffer(imgpath.read(), dtype=np.uint8,offset=16).reshape(len(labels), 784)\n",
    "    return images, labels\n"
   ]
  },
  {
   "cell_type": "code",
   "execution_count": 3,
   "metadata": {},
   "outputs": [],
   "source": [
    "import time\n",
    "\n",
    "\n",
    "#fix your ID (\"numero di matricola\") and the seed for random generator (as usual you can try different seeds)\n",
    "#ID = place a random seed\n",
    "np.random.seed(int(time.time()))"
   ]
  },
  {
   "cell_type": "code",
   "execution_count": 4,
   "metadata": {},
   "outputs": [
    {
     "name": "stdout",
     "output_type": "stream",
     "text": [
      "(60000, 784) (60000,)\n"
     ]
    }
   ],
   "source": [
    "#load the K-MNIST dataset from the 'data' folder and let's normalize the features so that each value is in [0,1] \n",
    "\n",
    "X, y = load_mnist('data', kind='train')\n",
    "# rescale the data\n",
    "X, y = X / 255., y # original pixel values are between 0 and 255\n",
    "print(X.shape, y.shape)"
   ]
  },
  {
   "cell_type": "markdown",
   "metadata": {},
   "source": [
    "Now split into training and test. Make sure that each label is present at least 10 times\n",
    "in training. If it is not, then keep adding permutations to the initial data until this \n",
    "happens."
   ]
  },
  {
   "cell_type": "code",
   "execution_count": 5,
   "metadata": {},
   "outputs": [
    {
     "name": "stdout",
     "output_type": "stream",
     "text": [
      "Labels in training dataset:  [0 1 2 3 4 5 6 7 8 9]\n",
      "Frequencies in training dataset:  [65 65 46 64 66 57 55 61 66 55]\n"
     ]
    }
   ],
   "source": [
    "# Random permute the data and split into training and test taking the first 600\n",
    "# data samples as training and 4000 samples as test\n",
    "permutation = np.random.permutation(X.shape[0])\n",
    "\n",
    "X = X[permutation]\n",
    "y = y[permutation]\n",
    "\n",
    "m_training = 600\n",
    "m_test = 4000\n",
    "\n",
    "X_train, X_test = X[:m_training], X[m_training:m_training+m_test:]\n",
    "y_train, y_test = y[:m_training], y[m_training:m_training+m_test:]\n",
    "\n",
    "labels, freqs = np.unique(y_train, return_counts=True)\n",
    "print(\"Labels in training dataset: \", labels)\n",
    "print(\"Frequencies in training dataset: \", freqs)\n"
   ]
  },
  {
   "cell_type": "code",
   "execution_count": 6,
   "metadata": {},
   "outputs": [],
   "source": [
    "#function for plotting a image and printing the corresponding label\n",
    "def plot_input(X_matrix, labels, index):\n",
    "    print(\"INPUT:\")\n",
    "    plt.imshow(\n",
    "        X_matrix[index].reshape(28,28),\n",
    "        cmap          = plt.cm.gray_r,\n",
    "        interpolation = \"nearest\"\n",
    "    )\n",
    "    plt.show()\n",
    "    print(\"LABEL: %i\"%labels[index])\n",
    "    return"
   ]
  },
  {
   "cell_type": "code",
   "execution_count": 7,
   "metadata": {},
   "outputs": [
    {
     "name": "stdout",
     "output_type": "stream",
     "text": [
      "INPUT:\n"
     ]
    },
    {
     "data": {
      "image/png": "[encoded data removed]",
      "text/plain": [
       "<Figure size 432x288 with 1 Axes>"
      ]
     },
     "metadata": {
      "needs_background": "light"
     },
     "output_type": "display_data"
    },
    {
     "name": "stdout",
     "output_type": "stream",
     "text": [
      "LABEL: 5\n",
      "INPUT:\n"
     ]
    },
    {
     "data": {
      "image/png": "[encoded data removed]",
      "text/plain": [
       "<Figure size 432x288 with 1 Axes>"
      ]
     },
     "metadata": {
      "needs_background": "light"
     },
     "output_type": "display_data"
    },
    {
     "name": "stdout",
     "output_type": "stream",
     "text": [
      "LABEL: 7\n",
      "INPUT:\n"
     ]
    },
    {
     "data": {
      "image/png": "[encoded data removed]",
      "text/plain": [
       "<Figure size 432x288 with 1 Axes>"
      ]
     },
     "metadata": {
      "needs_background": "light"
     },
     "output_type": "display_data"
    },
    {
     "name": "stdout",
     "output_type": "stream",
     "text": [
      "LABEL: 4\n",
      "INPUT:\n"
     ]
    },
    {
     "data": {
      "image/png": "[encoded data removed]",
      "text/plain": [
       "<Figure size 432x288 with 1 Axes>"
      ]
     },
     "metadata": {
      "needs_background": "light"
     },
     "output_type": "display_data"
    },
    {
     "name": "stdout",
     "output_type": "stream",
     "text": [
      "LABEL: 4\n"
     ]
    }
   ],
   "source": [
    "#let's try the plotting function\n",
    "plot_input(X_train,y_train,5)\n",
    "plot_input(X_test,y_test,50)\n",
    "plot_input(X_test,y_test,500)\n",
    "plot_input(X_test,y_test,700)"
   ]
  },
  {
   "cell_type": "markdown",
   "metadata": {},
   "source": [
    "## TO DO 1\n",
    "Use an SVM classifier with cross validation to pick a model. Use a 4-fold cross-validation.\n",
    "Let's start with a Linear kernel:"
   ]
  },
  {
   "cell_type": "code",
   "execution_count": 8,
   "metadata": {},
   "outputs": [
    {
     "name": "stdout",
     "output_type": "stream",
     "text": [
      "RESULTS FOR LINEAR KERNEL\n",
      "0 0\n",
      "8 2\n",
      "9 9\n",
      "0 0\n",
      "6 2\n",
      "5 5\n",
      "4 2\n",
      "1 1\n",
      "3 5\n",
      "2 2\n",
      "0 0\n",
      "1 4\n",
      "7 3\n",
      "8 8\n",
      "5 5\n",
      "5 4\n",
      "5 1\n",
      "6 6\n",
      "8 8\n",
      "0 8\n",
      "Best parameters set found:\n",
      "{'C': 1.0, 'break_ties': False, 'cache_size': 200, 'class_weight': None, 'coef0': 0.0, 'decision_function_shape': 'ovr', 'degree': 3, 'gamma': 'scale', 'kernel': 'linear', 'max_iter': -1, 'probability': False, 'random_state': None, 'shrinking': True, 'tol': 0.001, 'verbose': False}\n",
      "Score with best parameters on Test set:\n",
      "0.76\n",
      "All scores on the grid:\n",
      "{\n",
      "    'mean_fit_time': array([0.05212986]),\n",
      "    'mean_score_time': array([0.01173729]),\n",
      "    'mean_test_score': array([0.73]),\n",
      "    'param_kernel': masked_array(data=['linear'],\n",
      "                 mask=[False],\n",
      "           fill_value='?',\n",
      "                dtype=object),\n",
      "    'params': [{'kernel': 'linear'}],\n",
      "    'rank_test_score': array([1], dtype=int32),\n",
      "    'split0_test_score': array([0.71333333]),\n",
      "    'split1_test_score': array([0.72]),\n",
      "    'split2_test_score': array([0.73333333]),\n",
      "    'split3_test_score': array([0.75333333]),\n",
      "    'std_fit_time': array([0.00101502]),\n",
      "    'std_score_time': array([0.0008333]),\n",
      "    'std_test_score': array([0.01527525]),\n",
      "}\n"
     ]
    }
   ],
   "source": [
    "#import SVC\n",
    "from sklearn.svm import SVC\n",
    "#import for Cross-Validation\n",
    "from sklearn.model_selection import GridSearchCV\n",
    "\n",
    "\n",
    "m = SVC()\n",
    "parameters = {'kernel':('linear')}\n",
    "svm = GridSearchCV(m, {'kernel':['linear']}, cv = 4, n_jobs=-1).fit(X_train, y_train)\n",
    "\n",
    "print ('RESULTS FOR LINEAR KERNEL')\n",
    "\n",
    "for x,y in zip(y_test[:20], svm.predict(X_test)[:20]):\n",
    "    print(x, y)\n",
    "\n",
    "print(\"Best parameters set found:\")\n",
    "print(svm.best_estimator_.get_params())\n",
    "\n",
    "print(\"Score with best parameters on Test set:\")\n",
    "print(svm.best_estimator_.score(X_test, y_test))\n",
    "\n",
    "print(\"All scores on the grid:\")\n",
    "pp(svm.cv_results_)"
   ]
  },
  {
   "cell_type": "markdown",
   "metadata": {},
   "source": [
    "## TO DO 2\n",
    "Pick a model for the Polynomial kernel with degree=2:"
   ]
  },
  {
   "cell_type": "code",
   "execution_count": 9,
   "metadata": {},
   "outputs": [
    {
     "name": "stdout",
     "output_type": "stream",
     "text": [
      "RESULTS FOR POLY DEGREE=2 KERNEL\n",
      "0 0\n",
      "8 1\n",
      "9 9\n",
      "0 0\n",
      "6 2\n",
      "5 5\n",
      "4 1\n",
      "1 1\n",
      "3 5\n",
      "2 2\n",
      "0 0\n",
      "1 1\n",
      "7 3\n",
      "8 8\n",
      "5 5\n",
      "5 5\n",
      "5 1\n",
      "6 6\n",
      "8 8\n",
      "0 8\n",
      "Best parameters set found:\n",
      "{'C': 0.01, 'break_ties': False, 'cache_size': 200, 'class_weight': None, 'coef0': 0.0, 'decision_function_shape': 'ovr', 'degree': 2, 'gamma': 0.01, 'kernel': 'linear', 'max_iter': -1, 'probability': False, 'random_state': None, 'shrinking': True, 'tol': 0.001, 'verbose': False}\n",
      "Score with best parameters on Test set:\n",
      "0.76475\n",
      "All scores on the grid:\n",
      "{\n",
      "    'mean_fit_time': array([0.06825876, 0.06193376, 0.05498385, 0.06249171, 0.06112391,\n",
      "           0.06195128, 0.06231266, 0.07136601, 0.07617533]),\n",
      "    'mean_score_time': array([0.01307249, 0.01141447, 0.01720393, 0.01228249, 0.01279706,\n",
      "           0.01639372, 0.01852053, 0.01565915, 0.01424092]),\n",
      "    'mean_test_score': array([0.75333333, 0.75333333, 0.75333333, 0.73      , 0.73      ,\n",
      "           0.73      , 0.73      , 0.73      , 0.73      ]),\n",
      "    'param_C': masked_array(data=[0.01, 0.01, 0.01, 0.1, 0.1, 0.1, 1, 1, 1],\n",
      "                 mask=[False, False, False, False, False, False, False, False,\n",
      "                       False],\n",
      "           fill_value='?',\n",
      "                dtype=object),\n",
      "    'param_gamma': masked_array(data=[0.01, 0.1, 1, 0.01, 0.1, 1, 0.01, 0.1, 1],\n",
      "                 mask=[False, False, False, False, False, False, False, False,\n",
      "                       False],\n",
      "           fill_value='?',\n",
      "                dtype=object),\n",
      "    'params': [\n",
      "        {'C': 0.01, 'gamma': 0.01},\n",
      "        {'C': 0.01, 'gamma': 0.1},\n",
      "        {'C': 0.01, 'gamma': 1},\n",
      "        {'C': 0.1, 'gamma': 0.01},\n",
      "        {'C': 0.1, 'gamma': 0.1},\n",
      "        {'C': 0.1, 'gamma': 1},\n",
      "        {'C': 1, 'gamma': 0.01},\n",
      "        {'C': 1, 'gamma': 0.1},\n",
      "        {'C': 1, 'gamma': 1},\n",
      "    ],\n",
      "    'rank_test_score': array([1, 1, 1, 4, 4, 4, 4, 4, 4], dtype=int32),\n",
      "    'split0_test_score': array([0.74666667, 0.74666667, 0.74666667, 0.71333333, 0.71333333,\n",
      "           0.71333333, 0.71333333, 0.71333333, 0.71333333]),\n",
      "    'split1_test_score': array([0.76666667, 0.76666667, 0.76666667, 0.72      , 0.72      ,\n",
      "           0.72      , 0.72      , 0.72      , 0.72      ]),\n",
      "    'split2_test_score': array([0.74      , 0.74      , 0.74      , 0.73333333, 0.73333333,\n",
      "           0.73333333, 0.73333333, 0.73333333, 0.73333333]),\n",
      "    'split3_test_score': array([0.76      , 0.76      , 0.76      , 0.75333333, 0.75333333,\n",
      "           0.75333333, 0.75333333, 0.75333333, 0.75333333]),\n",
      "    'std_fit_time': array([0.00556027, 0.00882818, 0.00332431, 0.00668528, 0.00223953,\n",
      "           0.00604684, 0.0016842 , 0.00979526, 0.00686063]),\n",
      "    'std_score_time': array([0.00223845, 0.00198248, 0.00278454, 0.00109276, 0.00235332,\n",
      "           0.0077775 , 0.00447839, 0.00191162, 0.00286557]),\n",
      "    'std_test_score': array([0.01054093, 0.01054093, 0.01054093, 0.01527525, 0.01527525,\n",
      "           0.01527525, 0.01527525, 0.01527525, 0.01527525]),\n",
      "}\n"
     ]
    }
   ],
   "source": [
    "# parameters for poly with degree 2 kernel\n",
    "parameters = {'C': [0.01, 0.1, 1],'gamma':[0.01,0.1,1]}\n",
    "\n",
    "#run SVM with poly of degree 2 kernel\n",
    "m = SVC(kernel='linear', degree=2)\n",
    "svm = GridSearchCV(m, parameters ,n_jobs=-1, cv=4).fit(X_train, y_train)\n",
    "\n",
    "print ('RESULTS FOR POLY DEGREE=2 KERNEL')\n",
    "\n",
    "for x,y in zip(y_test[:20], svm.predict(X_test)[:20]):\n",
    "    print(x, y)\n",
    "\n",
    "print(\"Best parameters set found:\")\n",
    "print(svm.best_estimator_.get_params())\n",
    "\n",
    "print(\"Score with best parameters on Test set:\")\n",
    "print(svm.best_estimator_.score(X_test, y_test))\n",
    "\n",
    "print(\"All scores on the grid:\")\n",
    "pp((svm.cv_results_))"
   ]
  },
  {
   "cell_type": "markdown",
   "metadata": {},
   "source": [
    "## TO DO 3\n",
    "\n",
    "Now let's try a higher degree for the polynomial kernel (e.g., 3rd degree)."
   ]
  },
  {
   "cell_type": "code",
   "execution_count": 10,
   "metadata": {},
   "outputs": [
    {
     "name": "stdout",
     "output_type": "stream",
     "text": [
      "RESULTS FOR POLY DEGREE=3 KERNEL\n",
      "0 0\n",
      "8 1\n",
      "9 9\n",
      "0 0\n",
      "6 2\n",
      "5 5\n",
      "4 1\n",
      "1 1\n",
      "3 5\n",
      "2 2\n",
      "0 0\n",
      "1 1\n",
      "7 3\n",
      "8 8\n",
      "5 5\n",
      "5 5\n",
      "5 1\n",
      "6 6\n",
      "8 8\n",
      "0 8\n",
      "Best parameters set found:\n",
      "{'C': 0.01, 'break_ties': False, 'cache_size': 200, 'class_weight': None, 'coef0': 0.0, 'decision_function_shape': 'ovr', 'degree': 3, 'gamma': 0.01, 'kernel': 'linear', 'max_iter': -1, 'probability': False, 'random_state': None, 'shrinking': True, 'tol': 0.001, 'verbose': False}\n",
      "Score with best parameters on Test set:\n",
      "0.76475\n",
      "All scores on the grid:\n",
      "{\n",
      "    'mean_fit_time': array([0.07796955, 0.08259112, 0.06376195, 0.06208414, 0.06443024,\n",
      "           0.0636692 , 0.06401348, 0.06696689, 0.04695117]),\n",
      "    'mean_score_time': array([0.01250768, 0.01515007, 0.01579177, 0.01531041, 0.01248974,\n",
      "           0.01387906, 0.01522404, 0.01505315, 0.00946534]),\n",
      "    'mean_test_score': array([0.75333333, 0.75333333, 0.75333333, 0.73      , 0.73      ,\n",
      "           0.73      , 0.73      , 0.73      , 0.73      ]),\n",
      "    'param_C': masked_array(data=[0.01, 0.01, 0.01, 0.1, 0.1, 0.1, 1, 1, 1],\n",
      "                 mask=[False, False, False, False, False, False, False, False,\n",
      "                       False],\n",
      "           fill_value='?',\n",
      "                dtype=object),\n",
      "    'param_gamma': masked_array(data=[0.01, 0.1, 1, 0.01, 0.1, 1, 0.01, 0.1, 1],\n",
      "                 mask=[False, False, False, False, False, False, False, False,\n",
      "                       False],\n",
      "           fill_value='?',\n",
      "                dtype=object),\n",
      "    'params': [\n",
      "        {'C': 0.01, 'gamma': 0.01},\n",
      "        {'C': 0.01, 'gamma': 0.1},\n",
      "        {'C': 0.01, 'gamma': 1},\n",
      "        {'C': 0.1, 'gamma': 0.01},\n",
      "        {'C': 0.1, 'gamma': 0.1},\n",
      "        {'C': 0.1, 'gamma': 1},\n",
      "        {'C': 1, 'gamma': 0.01},\n",
      "        {'C': 1, 'gamma': 0.1},\n",
      "        {'C': 1, 'gamma': 1},\n",
      "    ],\n",
      "    'rank_test_score': array([1, 1, 1, 4, 4, 4, 4, 4, 4], dtype=int32),\n",
      "    'split0_test_score': array([0.74666667, 0.74666667, 0.74666667, 0.71333333, 0.71333333,\n",
      "           0.71333333, 0.71333333, 0.71333333, 0.71333333]),\n",
      "    'split1_test_score': array([0.76666667, 0.76666667, 0.76666667, 0.72      , 0.72      ,\n",
      "           0.72      , 0.72      , 0.72      , 0.72      ]),\n",
      "    'split2_test_score': array([0.74      , 0.74      , 0.74      , 0.73333333, 0.73333333,\n",
      "           0.73333333, 0.73333333, 0.73333333, 0.73333333]),\n",
      "    'split3_test_score': array([0.76      , 0.76      , 0.76      , 0.75333333, 0.75333333,\n",
      "           0.75333333, 0.75333333, 0.75333333, 0.75333333]),\n",
      "    'std_fit_time': array([0.00557014, 0.00759525, 0.00511838, 0.00348358, 0.01187476,\n",
      "           0.00146192, 0.00062881, 0.01253913, 0.00441031]),\n",
      "    'std_score_time': array([0.0026302 , 0.00442454, 0.00195563, 0.00109246, 0.00342742,\n",
      "           0.00242789, 0.0019282 , 0.00604331, 0.00014635]),\n",
      "    'std_test_score': array([0.01054093, 0.01054093, 0.01054093, 0.01527525, 0.01527525,\n",
      "           0.01527525, 0.01527525, 0.01527525, 0.01527525]),\n",
      "}\n"
     ]
    }
   ],
   "source": [
    "# parameters for poly with higher degree kernel\n",
    "parameters = {'C': [0.01, 0.1, 1],'gamma':[0.01,0.1,1]}\n",
    "\n",
    "#run SVM with poly of degree 2 kernel\n",
    "m = SVC(kernel='linear', degree=3)\n",
    "svm = GridSearchCV(m, parameters ,n_jobs=-1, cv=4).fit(X_train, y_train)\n",
    "\n",
    "print ('RESULTS FOR POLY DEGREE=3 KERNEL')\n",
    "\n",
    "for x,y in zip(y_test[:20], svm.predict(X_test)[:20]):\n",
    "    print(x, y)\n",
    "\n",
    "print(\"Best parameters set found:\")\n",
    "print(svm.best_estimator_.get_params())\n",
    "\n",
    "print(\"Score with best parameters on Test set:\")\n",
    "print(svm.best_estimator_.score(X_test, y_test))\n",
    "\n",
    "print(\"All scores on the grid:\")\n",
    "pp((svm.cv_results_))"
   ]
  },
  {
   "cell_type": "markdown",
   "metadata": {},
   "source": [
    "## TO DO 4\n",
    "Pick a model for the Radial Basis Function kernel:"
   ]
  },
  {
   "cell_type": "code",
   "execution_count": 11,
   "metadata": {},
   "outputs": [
    {
     "name": "stdout",
     "output_type": "stream",
     "text": [
      "RESULTS FOR RFB KERNEL\n",
      "0 0\n",
      "8 8\n",
      "9 9\n",
      "0 0\n",
      "6 2\n",
      "5 5\n",
      "4 1\n",
      "1 1\n",
      "3 3\n",
      "2 2\n",
      "0 0\n",
      "1 1\n",
      "7 3\n",
      "8 8\n",
      "5 5\n",
      "5 4\n",
      "5 1\n",
      "6 6\n",
      "8 8\n",
      "0 8\n",
      "Best parameters set found:\n",
      "{'C': 10, 'break_ties': False, 'cache_size': 200, 'class_weight': None, 'coef0': 0.0, 'decision_function_shape': 'ovr', 'degree': 3, 'gamma': 0.01, 'kernel': 'rbf', 'max_iter': -1, 'probability': False, 'random_state': None, 'shrinking': True, 'tol': 0.001, 'verbose': False}\n",
      "Score with best parameters on Test set:\n",
      "0.82425\n",
      "All scores on the grid:\n",
      "{\n",
      "    'mean_fit_time': array([0.10234588, 0.10933346, 0.13876331, 0.12123668, 0.10725999,\n",
      "           0.12160891, 0.12684464, 0.13199461, 0.07550794, 0.12209153,\n",
      "           0.12109017, 0.1456911 , 0.08348322, 0.10598832, 0.10815376,\n",
      "           0.1016506 ]),\n",
      "    'mean_score_time': array([0.03669715, 0.04295552, 0.04147977, 0.03604108, 0.04575825,\n",
      "           0.03689802, 0.03087765, 0.04288036, 0.03602278, 0.04132545,\n",
      "           0.04566848, 0.04465365, 0.02578944, 0.02998918, 0.02707601,\n",
      "           0.02550894]),\n",
      "    'mean_test_score': array([0.10666667, 0.24333333, 0.10666667, 0.10666667, 0.65166667,\n",
      "           0.78      , 0.17666667, 0.10666667, 0.76666667, 0.81      ,\n",
      "           0.21      , 0.10666667, 0.76      , 0.81      , 0.21      ,\n",
      "           0.10666667]),\n",
      "    'param_C': masked_array(data=[0.1, 0.1, 0.1, 0.1, 1, 1, 1, 1, 10, 10, 10, 10, 100,\n",
      "                       100, 100, 100],\n",
      "                 mask=[False, False, False, False, False, False, False, False,\n",
      "                       False, False, False, False, False, False, False, False],\n",
      "           fill_value='?',\n",
      "                dtype=object),\n",
      "    'param_gamma': masked_array(data=[0.001, 0.01, 0.1, 1, 0.001, 0.01, 0.1, 1, 0.001, 0.01,\n",
      "                       0.1, 1, 0.001, 0.01, 0.1, 1],\n",
      "                 mask=[False, False, False, False, False, False, False, False,\n",
      "                       False, False, False, False, False, False, False, False],\n",
      "           fill_value='?',\n",
      "                dtype=object),\n",
      "    'params': [\n",
      "        {'C': 0.1, 'gamma': 0.001},\n",
      "        {'C': 0.1, 'gamma': 0.01},\n",
      "        {'C': 0.1, 'gamma': 0.1},\n",
      "        {'C': 0.1, 'gamma': 1},\n",
      "        {'C': 1, 'gamma': 0.001},\n",
      "        {'C': 1, 'gamma': 0.01},\n",
      "        {'C': 1, 'gamma': 0.1},\n",
      "        {'C': 1, 'gamma': 1},\n",
      "        {'C': 10, 'gamma': 0.001},\n",
      "        {'C': 10, 'gamma': 0.01},\n",
      "        {'C': 10, 'gamma': 0.1},\n",
      "        {'C': 10, 'gamma': 1},\n",
      "        {'C': 100, 'gamma': 0.001},\n",
      "        {'C': 100, 'gamma': 0.01},\n",
      "        {'C': 100, 'gamma': 0.1},\n",
      "        {'C': 100, 'gamma': 1},\n",
      "    ],\n",
      "    'rank_test_score': array([11,  7, 11, 11,  6,  3, 10, 11,  4,  1,  8, 11,  5,  1,  8, 11],\n",
      "          dtype=int32),\n",
      "    'split0_test_score': array([0.10666667, 0.27333333, 0.10666667, 0.10666667, 0.67333333,\n",
      "           0.76666667, 0.18666667, 0.10666667, 0.76666667, 0.8       ,\n",
      "           0.21333333, 0.10666667, 0.75333333, 0.8       , 0.21333333,\n",
      "           0.10666667]),\n",
      "    'split1_test_score': array([0.10666667, 0.21333333, 0.10666667, 0.10666667, 0.61333333,\n",
      "           0.76666667, 0.16666667, 0.10666667, 0.76666667, 0.78666667,\n",
      "           0.20666667, 0.10666667, 0.74666667, 0.78666667, 0.20666667,\n",
      "           0.10666667]),\n",
      "    'split2_test_score': array([0.10666667, 0.2       , 0.10666667, 0.10666667, 0.66      ,\n",
      "           0.78      , 0.18      , 0.10666667, 0.75333333, 0.82666667,\n",
      "           0.21333333, 0.10666667, 0.76      , 0.82666667, 0.21333333,\n",
      "           0.10666667]),\n",
      "    'split3_test_score': array([0.10666667, 0.28666667, 0.10666667, 0.10666667, 0.66      ,\n",
      "           0.80666667, 0.17333333, 0.10666667, 0.78      , 0.82666667,\n",
      "           0.20666667, 0.10666667, 0.78      , 0.82666667, 0.20666667,\n",
      "           0.10666667]),\n",
      "    'std_fit_time': array([0.00590979, 0.00284705, 0.01404441, 0.0110077 , 0.00862151,\n",
      "           0.01640081, 0.00418415, 0.0203982 , 0.00757562, 0.01454023,\n",
      "           0.01033646, 0.01231593, 0.01060633, 0.03291097, 0.01144785,\n",
      "           0.00760025]),\n",
      "    'std_score_time': array([0.00186911, 0.001569  , 0.00604065, 0.00396635, 0.00950388,\n",
      "           0.00507875, 0.00299146, 0.00867352, 0.00985196, 0.01291556,\n",
      "           0.00245425, 0.0101831 , 0.00487735, 0.00533131, 0.00314769,\n",
      "           0.00305653]),\n",
      "    'std_test_score': array([0.        , 0.0372678 , 0.        , 0.        , 0.02279132,\n",
      "           0.01632993, 0.00745356, 0.        , 0.00942809, 0.01732051,\n",
      "           0.00333333, 0.        , 0.01247219, 0.01732051, 0.00333333,\n",
      "           0.        ]),\n",
      "}\n"
     ]
    }
   ],
   "source": [
    "# parameters for rbf SVM\n",
    "parameters = {'C': [0.1, 1, 10, 100],'gamma':[0.001, 0.01, 0.1,1]}\n",
    "\n",
    "#run SVM with poly of degree 2 kernel\n",
    "m = SVC(kernel='rbf')\n",
    "svm = GridSearchCV(m, parameters ,n_jobs=-1, cv=4).fit(X_train, y_train)\n",
    "\n",
    "print ('RESULTS FOR RFB KERNEL')\n",
    "\n",
    "for x,y in zip(y_test[:20], svm.predict(X_test)[:20]):\n",
    "    print(x, y)\n",
    "\n",
    "print(\"Best parameters set found:\")\n",
    "print(svm.best_estimator_.get_params())\n",
    "\n",
    "print(\"Score with best parameters on Test set:\")\n",
    "print(svm.best_estimator_.score(X_test, y_test))\n",
    "\n",
    "print(\"All scores on the grid:\")\n",
    "pp((svm.cv_results_))"
   ]
  },
  {
   "cell_type": "markdown",
   "metadata": {},
   "source": [
    "## QUESTION 1\n",
    "What do you observe when using linear, polynomial and RBF kernels on this dataset ?"
   ]
  },
  {
   "cell_type": "markdown",
   "metadata": {},
   "source": [
    "## TO DO 5\n",
    "Report here the best SVM kernel and parameters"
   ]
  },
  {
   "cell_type": "code",
   "execution_count": 12,
   "metadata": {},
   "outputs": [
    {
     "name": "stdout",
     "output_type": "stream",
     "text": [
      "Best SVM training error: 0.000000\n",
      "Best SVM test error: 0.175750\n"
     ]
    }
   ],
   "source": [
    "#get training and test error for the best SVM model from CV\n",
    "best_params = {'C':[10], 'gamma':[0.01]}\n",
    "\n",
    "best_ = SVC(kernel='rbf')\n",
    "best_SVM = GridSearchCV(best_, best_params ,n_jobs=-1, cv=4).fit(X_train, y_train)\n",
    "\n",
    "# (error is 1 - svm.score)\n",
    "\n",
    "training_error = 1 - best_SVM.best_estimator_.score(X_train, y_train)\n",
    "test_error = 1- best_SVM.best_estimator_.score(X_test, y_test)\n",
    "\n",
    "print (\"Best SVM training error: %f\" % training_error)\n",
    "print (\"Best SVM test error: %f\" % test_error)"
   ]
  },
  {
   "cell_type": "markdown",
   "metadata": {},
   "source": [
    "## TO DO 6\n",
    "\n",
    "Analyze how the gamma parameter (inversely proportional to standard deviation of Gaussian Kernel)\n",
    "impact the performances of the classifier"
   ]
  },
  {
   "cell_type": "code",
   "execution_count": 13,
   "metadata": {},
   "outputs": [
    {
     "name": "stdout",
     "output_type": "stream",
     "text": [
      "[1.e-05 1.e-04 1.e-03 1.e-02 1.e-01 1.e+00 1.e+01 1.e+02]\n"
     ]
    }
   ],
   "source": [
    "#Test with different values of gamma\n",
    "\n",
    "# Set gamma values\n",
    "gamma_values = np.logspace(-5,2,8)\n",
    "print(gamma_values)\n"
   ]
  },
  {
   "cell_type": "code",
   "execution_count": 14,
   "metadata": {},
   "outputs": [
    {
     "data": {
      "image/png": "[encoded data removed]",
      "text/plain": [
       "<Figure size 1080x360 with 2 Axes>"
      ]
     },
     "metadata": {
      "needs_background": "light"
     },
     "output_type": "display_data"
    }
   ],
   "source": [
    "# Try the SVM with the previously set values of gamma\n",
    "# use rbf kernel and C=1\n",
    "\n",
    "train_acc_list, test_acc_list = [], []\n",
    "\n",
    "for i in gamma_values:\n",
    "    parameters = {'C':[1], 'gamma':[i]}\n",
    "    m = SVC(kernel='rbf')\n",
    "    svm = GridSearchCV(m, parameters, n_jobs=-1, cv=4).fit(X_train, y_train)\n",
    "\n",
    "    train_acc_list.append(svm.best_estimator_.score(X_train, y_train))\n",
    "    test_acc_list.append(svm.best_estimator_.score(X_test, y_test))\n",
    "\n",
    "\n",
    "# ADD YOUR CODE TO TRAIN THE SVM MULTIPLE TIMES WITH THE DIFFERENT VALUES OF GAMMA\n",
    "# PLACE THE TRAIN AND TEST ACCURACY FOR EACH TEST IN THE TRAIN AND TEST ACCURACY LISTS\n",
    "\n",
    "# Plot\n",
    "fig, ax = plt.subplots(1,2, figsize=(15,5))\n",
    "\n",
    "ax[0].plot(gamma_values, train_acc_list)\n",
    "ax[0].set_xscale('log')\n",
    "ax[0].set_xlabel('gamma')\n",
    "ax[0].set_ylabel('Train accuracy')\n",
    "ax[0].grid(True)\n",
    "\n",
    "ax[1].plot(gamma_values, test_acc_list)\n",
    "ax[1].set_xscale('log')\n",
    "ax[1].set_xlabel('gamma')\n",
    "ax[1].set_ylabel('Test accuracy')\n",
    "ax[1].grid(True)\n",
    "\n",
    "\n",
    "plt.show()"
   ]
  },
  {
   "cell_type": "markdown",
   "metadata": {},
   "source": [
    "## QUESTION 2\n",
    "How do the train and test error change when changing gamma ? Which is the best value of gamma ? \n",
    "Connect your answers to the discussion about the overfitting issue."
   ]
  },
  {
   "cell_type": "markdown",
   "metadata": {},
   "source": [
    "## More data\n",
    "Now let's do the same but using more data points for training.\n",
    "\n",
    "\n",
    "Choose a new number of data points."
   ]
  },
  {
   "cell_type": "code",
   "execution_count": 15,
   "metadata": {},
   "outputs": [
    {
     "name": "stdout",
     "output_type": "stream",
     "text": [
      "Labels in training dataset:  [0 1 2 3 4 5 6 7 8 9]\n",
      "Frequencies in training dataset:  [210 205 187 190 214 198 210 202 184 200]\n"
     ]
    }
   ],
   "source": [
    "X, y = load_mnist('data', kind='train')\n",
    "X, y = X / 255., y\n",
    "\n",
    "permutation = np.random.permutation(X.shape[0])\n",
    "\n",
    "X = X[permutation]\n",
    "y = y[permutation]\n",
    "\n",
    "m_training = 2000 # TODO number of data points, adjust depending on the capabilities of your PC\n",
    "\n",
    "X_train, X_test = X[:m_training], X[m_training:]\n",
    "y_train, y_test = y[:m_training], y[m_training:]\n",
    "\n",
    "\n",
    "labels, freqs = np.unique(y_train, return_counts=True)\n",
    "print(\"Labels in training dataset: \", labels)\n",
    "print(\"Frequencies in training dataset: \", freqs)"
   ]
  },
  {
   "cell_type": "markdown",
   "metadata": {},
   "source": [
    "## TO DO 7\n",
    "\n",
    "Let's try to use SVM with parameters obtained from the best model for $m_{training} =  2000$. Since it may take a long\n",
    "time to run, you can decide to just let it run for some time and stop it if it does not complete. If you decide to do\n",
    "this, report it in the cell below."
   ]
  },
  {
   "cell_type": "code",
   "execution_count": 16,
   "metadata": {
    "scrolled": true
   },
   "outputs": [
    {
     "name": "stdout",
     "output_type": "stream",
     "text": [
      "Best SVM training error: 0.000000\n",
      "Best SVM test error: 0.115052\n"
     ]
    }
   ],
   "source": [
    "#get training and test error for the best SVM model from CV\n",
    "\n",
    "parameters = {'C':[10], 'gamma':[0.01]}\n",
    "m = SVC(kernel='rbf')\n",
    "svm = GridSearchCV(m, parameters, n_jobs=-1, cv=4).fit(X_train, y_train)\n",
    "\n",
    "training_error = 1 - svm.best_estimator_.score(X_train, y_train)\n",
    "test_error = 1- svm.best_estimator_.score(X_test, y_test)\n",
    "print (\"Best SVM training error: %f\" % training_error)\n",
    "print (\"Best SVM test error: %f\" % test_error)\n",
    "\n",
    "# for 20000, Best SVM training error: 0.000050, Best SVM test error: 0.046850"
   ]
  },
  {
   "cell_type": "markdown",
   "metadata": {},
   "source": [
    "Just for comparison, let's also use logistic regression \n",
    "\n",
    "## TO DO 8 Try first without regularization (use a very large, large C)¶"
   ]
  },
  {
   "cell_type": "code",
   "execution_count": 17,
   "metadata": {},
   "outputs": [
    {
     "name": "stdout",
     "output_type": "stream",
     "text": [
      "Best logistic regression training error: 0.000000\n",
      "Best logistic regression test error: 0.282103\n"
     ]
    }
   ],
   "source": [
    "from sklearn import linear_model\n",
    "\n",
    "logreg = linear_model.LogisticRegression(C=10**64).fit(X_train, y_train)\n",
    "\n",
    "training_error = 1 - logreg.score(X_train, y_train)\n",
    "test_error = 1- logreg.score(X_test, y_test)\n",
    "\n",
    "print (\"Best logistic regression training error: %f\" % training_error)\n",
    "print (\"Best logistic regression test error: %f\" % test_error)"
   ]
  },
  {
   "cell_type": "markdown",
   "metadata": {},
   "source": [
    "## TO DO 9 Try  with regularization (use C=1)¶"
   ]
  },
  {
   "cell_type": "code",
   "execution_count": 18,
   "metadata": {},
   "outputs": [
    {
     "name": "stdout",
     "output_type": "stream",
     "text": [
      "Best logistic regression training error: 0.392000\n",
      "Best logistic regression test error: 0.433828\n"
     ]
    }
   ],
   "source": [
    "logreg = linear_model.LogisticRegressionCV(Cs=1, n_jobs=-1).fit(X_train, y_train)\n",
    "\n",
    "training_error = 1 - logreg.score(X_train, y_train)\n",
    "test_error = 1- logreg.score(X_test, y_test)\n",
    "\n",
    "print (\"Best logistic regression training error: %f\" % training_error)\n",
    "print (\"Best logistic regression test error: %f\" % test_error)"
   ]
  },
  {
   "cell_type": "markdown",
   "metadata": {},
   "source": [
    "## QUESTION 3\n",
    "Compare and discuss:\n",
    "- the results from SVM with m=600 and with m=2000 training data points. If you stopped the SVM,\n",
    "include such aspect in your comparison.\n",
    "- the results of SVM and of Logistic Regression"
   ]
  },
  {
   "cell_type": "markdown",
   "metadata": {},
   "source": [
    "## TO DO 10\n",
    "Plot an item of clothing that is missclassified by logistic regression and correctly classified by SVM."
   ]
  },
  {
   "cell_type": "code",
   "execution_count": 19,
   "metadata": {},
   "outputs": [],
   "source": [
    "LR_prediction = linear_model.LogisticRegression(C=10**64).fit(X_train, y_train)\n",
    "lr_xy = LR_prediction.predict(X_test)"
   ]
  },
  {
   "cell_type": "code",
   "execution_count": 20,
   "metadata": {},
   "outputs": [],
   "source": [
    "m = SVC(kernel='rbf')\n",
    "SVM_prediction = GridSearchCV(m, parameters, n_jobs=-1, cv=4).fit(X_train, y_train)\n",
    "svm_xy = SVM_prediction.predict(X_test)"
   ]
  },
  {
   "cell_type": "code",
   "execution_count": 21,
   "metadata": {},
   "outputs": [],
   "source": [
    "miss = np.array([])\n",
    "for lr,svm,y in zip(lr_xy, svm_xy, y_test):\n",
    "    if y != lr & y == svm:\n",
    "        miss = np.append(miss, int(y))"
   ]
  },
  {
   "cell_type": "code",
   "execution_count": 22,
   "metadata": {},
   "outputs": [
    {
     "data": {
      "text/plain": [
       "Text(0, 0.5, 'Number misclassified')"
      ]
     },
     "execution_count": 22,
     "metadata": {},
     "output_type": "execute_result"
    },
    {
     "data": {
      "image/png": "[encoded data removed]",
      "text/plain": [
       "<Figure size 432x288 with 1 Axes>"
      ]
     },
     "metadata": {
      "needs_background": "light"
     },
     "output_type": "display_data"
    }
   ],
   "source": [
    "miss = pd.DataFrame(miss).astype(int)\n",
    "val = miss.value_counts().sort_index()\n",
    "labels = [i[0] for i in val.index]\n",
    "\n",
    "plt.scatter(labels, val.values)\n",
    "plt.xlabel('Label')\n",
    "plt.ylabel('Number misclassified')"
   ]
  },
  {
   "cell_type": "markdown",
   "metadata": {},
   "source": [
    "## TO DO 11\n",
    "Plot the confusion matrix for the SVM classifier and for logistic regression.\n",
    "The confusion matrix has one column for each predicted label and one row for each true label. \n",
    "It shows for each class in the corresponding row how many samples belonging to that class gets each possible output\n",
    "label. Notice that the diagonal contains the correctly classified samples, while the other cells correspond to errors.\n",
    "You can obtain it with the sklearn.metrics.confusion_matrix function (see the documentation).\n",
    "Try also to normalize the confusion matrix by the number of samples in each class in order to measure the accuracy on\n",
    "each single class.\n"
   ]
  },
  {
   "cell_type": "code",
   "execution_count": 23,
   "metadata": {},
   "outputs": [
    {
     "name": "stdout",
     "output_type": "stream",
     "text": [
      "Labels and frequencies in test set:  [5790 5795 5813 5810 5786 5802 5790 5798 5816 5800]\n",
      "\n",
      " Confusion matrix SVM  \n",
      " \n",
      " [[5392    8    4   22  113   41    6  103   79   22]\n",
      " [  28 5043  146   46  115   12  164    5   78  158]\n",
      " [   0   88 4742   89   87   29  512   19  175   72]\n",
      " [  13   85  231 5212   59   57   17   27   87   22]\n",
      " [ 145  111  115   49 4967   14  123   42   77  143]\n",
      " [  49   93  169  143   59 5155   37   15   68   14]\n",
      " [  19  123  298   19  154    9 5047   54   47   20]\n",
      " [  46   25   51   39  101   26   77 5352   53   28]\n",
      " [  31  161  108   57   23   35  161    5 5204   31]\n",
      " [  22  150  162   12  101    8   19   63   50 5213]]\n",
      "\n",
      " Confusion matrix SVM (normalized)   \n",
      " \n",
      " [[0.93 0.   0.   0.   0.02 0.01 0.   0.02 0.01 0.  ]\n",
      " [0.   0.87 0.03 0.01 0.02 0.   0.03 0.   0.01 0.03]\n",
      " [0.   0.02 0.82 0.02 0.01 0.   0.09 0.   0.03 0.01]\n",
      " [0.   0.01 0.04 0.9  0.01 0.01 0.   0.   0.01 0.  ]\n",
      " [0.03 0.02 0.02 0.01 0.86 0.   0.02 0.01 0.01 0.02]\n",
      " [0.01 0.02 0.03 0.02 0.01 0.89 0.01 0.   0.01 0.  ]\n",
      " [0.   0.02 0.05 0.   0.03 0.   0.87 0.01 0.01 0.  ]\n",
      " [0.01 0.   0.01 0.01 0.02 0.   0.01 0.92 0.01 0.  ]\n",
      " [0.01 0.03 0.02 0.01 0.   0.01 0.03 0.   0.89 0.01]\n",
      " [0.   0.03 0.03 0.   0.02 0.   0.   0.01 0.01 0.9 ]]\n",
      "\n",
      " Confusion matrix LR  \n",
      " \n",
      " [[4756   12   41   43  245  215   44  176  120  138]\n",
      " [  40 3942  426   87  239   45  346   50  131  489]\n",
      " [  18  268 3384  149  228  144  800  156  381  285]\n",
      " [  42  125  239 4437  118  355   53   77  280   84]\n",
      " [ 194  292  244  172 3744   46  304  171   99  520]\n",
      " [ 117  140  291  287   63 4427  154  141  126   56]\n",
      " [  68  320  459   88  228  134 4034  131  176  152]\n",
      " [ 181   57   75  152  180  161  189 4533  128  142]\n",
      " [ 100  349  667  133   42   46  321   35 3972  151]\n",
      " [ 126  286  347   35  232   35   74  142  114 4409]]\n",
      "\n",
      " Confusion matrix LR (normalized)   \n",
      " \n",
      " [[0.82 0.   0.01 0.01 0.04 0.04 0.01 0.03 0.02 0.02]\n",
      " [0.01 0.68 0.07 0.02 0.04 0.01 0.06 0.01 0.02 0.08]\n",
      " [0.   0.05 0.58 0.03 0.04 0.02 0.14 0.03 0.07 0.05]\n",
      " [0.01 0.02 0.04 0.76 0.02 0.06 0.01 0.01 0.05 0.01]\n",
      " [0.03 0.05 0.04 0.03 0.65 0.01 0.05 0.03 0.02 0.09]\n",
      " [0.02 0.02 0.05 0.05 0.01 0.76 0.03 0.02 0.02 0.01]\n",
      " [0.01 0.06 0.08 0.02 0.04 0.02 0.7  0.02 0.03 0.03]\n",
      " [0.03 0.01 0.01 0.03 0.03 0.03 0.03 0.78 0.02 0.02]\n",
      " [0.02 0.06 0.11 0.02 0.01 0.01 0.06 0.01 0.68 0.03]\n",
      " [0.02 0.05 0.06 0.01 0.04 0.01 0.01 0.02 0.02 0.76]]\n"
     ]
    }
   ],
   "source": [
    "np.set_printoptions(precision=2, suppress=True) # for better aligned printing of confusion matrix use floatmode='fixed'\n",
    "\n",
    "u, counts = np.unique(y_test, return_counts=True)\n",
    "print(\"Labels and frequencies in test set: \", counts)\n",
    "\n",
    "confusion_SVM = sklearn.metrics.confusion_matrix(y_test, svm_xy)\n",
    "print(\"\\n Confusion matrix SVM  \\n \\n\", confusion_SVM)\n",
    "print(\"\\n Confusion matrix SVM (normalized)   \\n \\n\", confusion_SVM/counts[:,None])\n",
    "\n",
    "confusion_LR =  sklearn.metrics.confusion_matrix(y_test, lr_xy)\n",
    "print(\"\\n Confusion matrix LR  \\n \\n\", confusion_LR)\n",
    "print(\"\\n Confusion matrix LR (normalized)   \\n \\n\", confusion_LR/counts[:,None] )"
   ]
  },
  {
   "cell_type": "code",
   "execution_count": 24,
   "metadata": {},
   "outputs": [
    {
     "name": "stdout",
     "output_type": "stream",
     "text": [
      "Normalized Confusion Matrix SVM \n",
      "\n",
      "[[1.   0.   0.   0.   0.02 0.01 0.   0.02 0.01 0.  ]\n",
      " [0.01 0.94 0.03 0.01 0.02 0.   0.03 0.   0.01 0.03]\n",
      " [0.   0.02 0.88 0.02 0.02 0.01 0.09 0.   0.03 0.01]\n",
      " [0.   0.02 0.04 0.97 0.01 0.01 0.   0.01 0.02 0.  ]\n",
      " [0.03 0.02 0.02 0.01 0.92 0.   0.02 0.01 0.01 0.03]\n",
      " [0.01 0.02 0.03 0.03 0.01 0.96 0.01 0.   0.01 0.  ]\n",
      " [0.   0.02 0.06 0.   0.03 0.   0.94 0.01 0.01 0.  ]\n",
      " [0.01 0.   0.01 0.01 0.02 0.   0.01 0.99 0.01 0.01]\n",
      " [0.01 0.03 0.02 0.01 0.   0.01 0.03 0.   0.97 0.01]\n",
      " [0.   0.03 0.03 0.   0.02 0.   0.   0.01 0.01 0.97]] \n",
      "\n",
      "Normalized Confusion Matrix LR \n",
      "\n",
      "[[1.   0.   0.01 0.01 0.05 0.05 0.01 0.04 0.03 0.03]\n",
      " [0.01 0.83 0.09 0.02 0.05 0.01 0.07 0.01 0.03 0.1 ]\n",
      " [0.   0.06 0.71 0.03 0.05 0.03 0.17 0.03 0.08 0.06]\n",
      " [0.01 0.03 0.05 0.93 0.02 0.07 0.01 0.02 0.06 0.02]\n",
      " [0.04 0.06 0.05 0.04 0.79 0.01 0.06 0.04 0.02 0.11]\n",
      " [0.02 0.03 0.06 0.06 0.01 0.93 0.03 0.03 0.03 0.01]\n",
      " [0.01 0.07 0.1  0.02 0.05 0.03 0.85 0.03 0.04 0.03]\n",
      " [0.04 0.01 0.02 0.03 0.04 0.03 0.04 0.95 0.03 0.03]\n",
      " [0.02 0.07 0.14 0.03 0.01 0.01 0.07 0.01 0.84 0.03]\n",
      " [0.03 0.06 0.07 0.01 0.05 0.01 0.02 0.03 0.02 0.93]]\n"
     ]
    }
   ],
   "source": [
    "confusion_SVM = confusion_SVM/confusion_SVM.max() # ...confusion_matrix(y_test, svm_xy, normalize='true')\n",
    "confusion_LR = confusion_LR/confusion_LR.max()\n",
    "print('Normalized Confusion Matrix SVM \\n' )\n",
    "print(confusion_SVM,'\\n')\n",
    "print('Normalized Confusion Matrix LR \\n' )\n",
    "print(confusion_LR)"
   ]
  },
  {
   "cell_type": "markdown",
   "metadata": {},
   "source": [
    "## QUESTION 4\n",
    "Have a look at the confusion matrices and comment on the obtained accuracies. Why some classes have lower accuracies and\n",
    "others a higher one ? Make some guesses on the possible causes.\n"
   ]
  },
  {
   "cell_type": "code",
   "execution_count": null,
   "metadata": {},
   "outputs": [],
   "source": []
  }
 ],
 "metadata": {
  "kernelspec": {
   "display_name": "Python 3 (ipykernel)",
   "language": "python",
   "name": "python3"
  },
  "language_info": {
   "codemirror_mode": {
    "name": "ipython",
    "version": 3
   },
   "file_extension": ".py",
   "mimetype": "text/x-python",
   "name": "python",
   "nbconvert_exporter": "python",
   "pygments_lexer": "ipython3",
   "version": "3.8.8"
  }
 },
 "nbformat": 4,
 "nbformat_minor": 4
}
