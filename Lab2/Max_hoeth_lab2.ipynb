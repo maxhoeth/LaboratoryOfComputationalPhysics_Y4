{
 "cells": [
  {
   "cell_type": "markdown",
   "metadata": {},
   "source": [
    "# Kuzushiji Classification with Support Vector Machines\n",
    "\n",
    "In this notebook we are going to explore the use of Support Vector Machines (SVM) for image classification.\n",
    "We will use a variant of the famous MNIST dataset (the original is a dataset of handwritten digits).\n",
    "The version we are going to use is called Kuzushiji-MNIST or K-MNIST for short (https://github.com/rois-codh/kmnist)\n",
    "and is a dataset of traditional japanese handwritten kana.\n",
    "\n",
    "\n",
    "\n",
    "The dataset labels are the following:\n",
    "\n",
    "| Label | Hiragana Character | Romanji (Pronunciation) |\n",
    "| :-: | :-: | :-: |\n",
    "|   0   | お | o |\n",
    "| 1 | き | ki |\n",
    "| 2 | す | su |\n",
    "| 3 | つ | tsu |\n",
    "| 4 | な | na |\n",
    "| 5 | は | ha |\n",
    "| 6 | ま | ma |\n",
    "| 7 | や | ya |\n",
    "| 8 | れ | re |\n",
    "| 9 | を | wo |"
   ]
  },
  {
   "cell_type": "markdown",
   "metadata": {},
   "source": [
    "## TODO: Insert your surname, name and ID number\n",
    "\n",
    "Student surname: Hoeth\n",
    "\n",
    "Student name: Max\n",
    "    \n",
    "ID: 2055977"
   ]
  },
  {
   "cell_type": "code",
   "execution_count": 1,
   "metadata": {},
   "outputs": [],
   "source": [
    "#load the required packages\n",
    "\n",
    "%matplotlib inline  \n",
    "\n",
    "import numpy as np\n",
    "import scipy as sp\n",
    "import matplotlib.pyplot as plt\n",
    "from pprintpp import pprint as pp\n",
    "import pandas as pd\n",
    "\n",
    "import sklearn\n",
    "from sklearn.datasets import fetch_openml\n",
    "from sklearn.neural_network import MLPClassifier\n",
    "from sklearn.decomposition import PCA\n",
    "import sklearn.metrics as skm"
   ]
  },
  {
   "cell_type": "code",
   "execution_count": 2,
   "metadata": {},
   "outputs": [],
   "source": [
    "import os\n",
    "import gzip\n",
    "\n",
    "\n",
    "# helper function to load Kuzushiji-MNIST dataset\n",
    "def load_mnist(path, kind='train'):\n",
    "    labels_path = os.path.join(path, 'K%s-labels-idx1-ubyte.gz' % kind)\n",
    "    images_path = os.path.join(path, 'K%s-images-idx3-ubyte.gz' % kind)\n",
    "    with gzip.open(labels_path, 'rb') as lbpath:\n",
    "        labels = np.frombuffer(lbpath.read(), dtype=np.uint8,offset=8)\n",
    "    with gzip.open(images_path, 'rb') as imgpath:\n",
    "        images = np.frombuffer(imgpath.read(), dtype=np.uint8,offset=16).reshape(len(labels), 784)\n",
    "    return images, labels\n"
   ]
  },
  {
   "cell_type": "code",
   "execution_count": 3,
   "metadata": {},
   "outputs": [],
   "source": [
    "import time\n",
    "\n",
    "\n",
    "#fix your ID (\"numero di matricola\") and the seed for random generator (as usual you can try different seeds)\n",
    "ID = 2055977\n",
    "np.random.seed(ID)"
   ]
  },
  {
   "cell_type": "code",
   "execution_count": 4,
   "metadata": {},
   "outputs": [
    {
     "name": "stdout",
     "output_type": "stream",
     "text": [
      "(60000, 784) (60000,)\n"
     ]
    }
   ],
   "source": [
    "#load the K-MNIST dataset from the 'data' folder and let's normalize the features so that each value is in [0,1] \n",
    "\n",
    "X, y = load_mnist('data', kind='train')\n",
    "# rescale the data\n",
    "X, y = X / 255., y # original pixel values are between 0 and 255\n",
    "print(X.shape, y.shape)"
   ]
  },
  {
   "cell_type": "markdown",
   "metadata": {},
   "source": [
    "Now split into training and test. Make sure that each label is present at least 10 times\n",
    "in training. If it is not, then keep adding permutations to the initial data until this \n",
    "happens."
   ]
  },
  {
   "cell_type": "code",
   "execution_count": 5,
   "metadata": {},
   "outputs": [
    {
     "name": "stdout",
     "output_type": "stream",
     "text": [
      "Labels in training dataset:  [0 1 2 3 4 5 6 7 8 9]\n",
      "Frequencies in training dataset:  [62 60 61 79 58 62 47 53 56 62]\n"
     ]
    }
   ],
   "source": [
    "# Random permute the data and split into training and test taking the first 600\n",
    "# data samples as training and 4000 samples as test\n",
    "permutation = np.random.permutation(X.shape[0])\n",
    "\n",
    "X = X[permutation]\n",
    "y = y[permutation]\n",
    "\n",
    "m_training = 600\n",
    "m_test = 4000\n",
    "\n",
    "X_train, X_test = X[:m_training], X[m_training:m_training+m_test:]\n",
    "y_train, y_test = y[:m_training], y[m_training:m_training+m_test:]\n",
    "\n",
    "labels, freqs = np.unique(y_train, return_counts=True)\n",
    "print(\"Labels in training dataset: \", labels)\n",
    "print(\"Frequencies in training dataset: \", freqs)\n"
   ]
  },
  {
   "cell_type": "code",
   "execution_count": 6,
   "metadata": {},
   "outputs": [],
   "source": [
    "#function for plotting a image and printing the corresponding label\n",
    "def plot_input(X_matrix, labels, index):\n",
    "    print(\"INPUT:\")\n",
    "    plt.imshow(\n",
    "        X_matrix[index].reshape(28,28),\n",
    "        cmap          = plt.cm.gray_r,\n",
    "        interpolation = \"nearest\"\n",
    "    )\n",
    "    plt.show()\n",
    "    print(\"LABEL: %i\"%labels[index])\n",
    "    return"
   ]
  },
  {
   "cell_type": "code",
   "execution_count": 7,
   "metadata": {},
   "outputs": [
    {
     "name": "stdout",
     "output_type": "stream",
     "text": [
      "INPUT:\n"
     ]
    },
    {
     "data": {
      "image/png": "[encoded data removed]",
      "text/plain": [
       "<Figure size 432x288 with 1 Axes>"
      ]
     },
     "metadata": {
      "needs_background": "light"
     },
     "output_type": "display_data"
    },
    {
     "name": "stdout",
     "output_type": "stream",
     "text": [
      "LABEL: 4\n",
      "INPUT:\n"
     ]
    },
    {
     "data": {
      "image/png": "[encoded data removed]",
      "text/plain": [
       "<Figure size 432x288 with 1 Axes>"
      ]
     },
     "metadata": {
      "needs_background": "light"
     },
     "output_type": "display_data"
    },
    {
     "name": "stdout",
     "output_type": "stream",
     "text": [
      "LABEL: 5\n",
      "INPUT:\n"
     ]
    },
    {
     "data": {
      "image/png": "[encoded data removed]",
      "text/plain": [
       "<Figure size 432x288 with 1 Axes>"
      ]
     },
     "metadata": {
      "needs_background": "light"
     },
     "output_type": "display_data"
    },
    {
     "name": "stdout",
     "output_type": "stream",
     "text": [
      "LABEL: 0\n",
      "INPUT:\n"
     ]
    },
    {
     "data": {
      "image/png": "[encoded data removed]",
      "text/plain": [
       "<Figure size 432x288 with 1 Axes>"
      ]
     },
     "metadata": {
      "needs_background": "light"
     },
     "output_type": "display_data"
    },
    {
     "name": "stdout",
     "output_type": "stream",
     "text": [
      "LABEL: 3\n"
     ]
    }
   ],
   "source": [
    "#let's try the plotting function\n",
    "plot_input(X_train,y_train,5)\n",
    "plot_input(X_test,y_test,50)\n",
    "plot_input(X_test,y_test,500)\n",
    "plot_input(X_test,y_test,700)"
   ]
  },
  {
   "cell_type": "markdown",
   "metadata": {},
   "source": [
    "## TO DO 1\n",
    "Use an SVM classifier with cross validation to pick a model. Use a 4-fold cross-validation.\n",
    "Let's start with a Linear kernel:"
   ]
  },
  {
   "cell_type": "code",
   "execution_count": 8,
   "metadata": {},
   "outputs": [
    {
     "name": "stdout",
     "output_type": "stream",
     "text": [
      "RESULTS FOR LINEAR KERNEL\n",
      "7 7\n",
      "7 4\n",
      "7 8\n",
      "9 9\n",
      "1 1\n",
      "9 9\n",
      "4 4\n",
      "6 2\n",
      "5 5\n",
      "0 0\n",
      "4 4\n",
      "2 2\n",
      "1 6\n",
      "9 9\n",
      "4 4\n",
      "8 8\n",
      "9 9\n",
      "9 9\n",
      "1 1\n",
      "9 9\n",
      "Best parameters set found:\n",
      "{'C': 1.0, 'break_ties': False, 'cache_size': 200, 'class_weight': None, 'coef0': 0.0, 'decision_function_shape': 'ovr', 'degree': 3, 'gamma': 'scale', 'kernel': 'linear', 'max_iter': -1, 'probability': False, 'random_state': None, 'shrinking': True, 'tol': 0.001, 'verbose': False}\n",
      "Score with best parameters on Test set:\n",
      "0.76375\n",
      "All scores on the grid:\n",
      "{\n",
      "    'mean_fit_time': array([0.0488354]),\n",
      "    'mean_score_time': array([0.01102799]),\n",
      "    'mean_test_score': array([0.78166667]),\n",
      "    'param_kernel': masked_array(data=['linear'],\n",
      "                 mask=[False],\n",
      "           fill_value='?',\n",
      "                dtype=object),\n",
      "    'params': [{'kernel': 'linear'}],\n",
      "    'rank_test_score': array([1], dtype=int32),\n",
      "    'split0_test_score': array([0.76666667]),\n",
      "    'split1_test_score': array([0.81333333]),\n",
      "    'split2_test_score': array([0.76]),\n",
      "    'split3_test_score': array([0.78666667]),\n",
      "    'std_fit_time': array([0.00065636]),\n",
      "    'std_score_time': array([0.00015909]),\n",
      "    'std_test_score': array([0.02074983]),\n",
      "}\n"
     ]
    }
   ],
   "source": [
    "#import SVC\n",
    "from sklearn.svm import SVC\n",
    "#import for Cross-Validation\n",
    "from sklearn.model_selection import GridSearchCV\n",
    "\n",
    "\n",
    "m = SVC()\n",
    "parameters = {'kernel':('linear')}\n",
    "svm = GridSearchCV(m, {'kernel':['linear']}, cv = 4, n_jobs=-1).fit(X_train, y_train)\n",
    "\n",
    "print ('RESULTS FOR LINEAR KERNEL')\n",
    "\n",
    "for x,y in zip(y_test[:20], svm.predict(X_test)[:20]):\n",
    "    print(x, y)\n",
    "\n",
    "print(\"Best parameters set found:\")\n",
    "print(svm.best_estimator_.get_params())\n",
    "\n",
    "print(\"Score with best parameters on Test set:\")\n",
    "print(svm.best_estimator_.score(X_test, y_test))\n",
    "\n",
    "print(\"All scores on the grid:\")\n",
    "pp(svm.cv_results_)"
   ]
  },
  {
   "cell_type": "markdown",
   "metadata": {},
   "source": [
    "## TO DO 2\n",
    "Pick a model for the Polynomial kernel with degree=2:"
   ]
  },
  {
   "cell_type": "code",
   "execution_count": 9,
   "metadata": {},
   "outputs": [
    {
     "name": "stdout",
     "output_type": "stream",
     "text": [
      "RESULTS FOR POLY DEGREE=2 KERNEL\n",
      "7 7\n",
      "7 4\n",
      "7 8\n",
      "9 9\n",
      "1 1\n",
      "9 9\n",
      "4 4\n",
      "6 2\n",
      "5 5\n",
      "0 0\n",
      "4 4\n",
      "2 2\n",
      "1 6\n",
      "9 9\n",
      "4 4\n",
      "8 8\n",
      "9 9\n",
      "9 9\n",
      "1 1\n",
      "9 9\n",
      "Best parameters set found:\n",
      "{'C': 0.1, 'break_ties': False, 'cache_size': 200, 'class_weight': None, 'coef0': 0.0, 'decision_function_shape': 'ovr', 'degree': 2, 'gamma': 0.01, 'kernel': 'linear', 'max_iter': -1, 'probability': False, 'random_state': None, 'shrinking': True, 'tol': 0.001, 'verbose': False}\n",
      "Score with best parameters on Test set:\n",
      "0.763\n",
      "All scores on the grid:\n",
      "{\n",
      "    'mean_fit_time': array([0.06003577, 0.05084693, 0.0539313 , 0.05825192, 0.06405109,\n",
      "           0.05996954, 0.07072675, 0.05998474, 0.05592507]),\n",
      "    'mean_score_time': array([0.01407999, 0.01076233, 0.01202375, 0.0120765 , 0.01346767,\n",
      "           0.01455241, 0.01717108, 0.0156523 , 0.01236242]),\n",
      "    'mean_test_score': array([0.76333333, 0.76333333, 0.76333333, 0.78166667, 0.78166667,\n",
      "           0.78166667, 0.78166667, 0.78166667, 0.78166667]),\n",
      "    'param_C': masked_array(data=[0.01, 0.01, 0.01, 0.1, 0.1, 0.1, 1, 1, 1],\n",
      "                 mask=[False, False, False, False, False, False, False, False,\n",
      "                       False],\n",
      "           fill_value='?',\n",
      "                dtype=object),\n",
      "    'param_gamma': masked_array(data=[0.01, 0.1, 1, 0.01, 0.1, 1, 0.01, 0.1, 1],\n",
      "                 mask=[False, False, False, False, False, False, False, False,\n",
      "                       False],\n",
      "           fill_value='?',\n",
      "                dtype=object),\n",
      "    'params': [\n",
      "        {'C': 0.01, 'gamma': 0.01},\n",
      "        {'C': 0.01, 'gamma': 0.1},\n",
      "        {'C': 0.01, 'gamma': 1},\n",
      "        {'C': 0.1, 'gamma': 0.01},\n",
      "        {'C': 0.1, 'gamma': 0.1},\n",
      "        {'C': 0.1, 'gamma': 1},\n",
      "        {'C': 1, 'gamma': 0.01},\n",
      "        {'C': 1, 'gamma': 0.1},\n",
      "        {'C': 1, 'gamma': 1},\n",
      "    ],\n",
      "    'rank_test_score': array([7, 7, 7, 1, 1, 1, 1, 1, 1], dtype=int32),\n",
      "    'split0_test_score': array([0.73333333, 0.73333333, 0.73333333, 0.76666667, 0.76666667,\n",
      "           0.76666667, 0.76666667, 0.76666667, 0.76666667]),\n",
      "    'split1_test_score': array([0.76666667, 0.76666667, 0.76666667, 0.81333333, 0.81333333,\n",
      "           0.81333333, 0.81333333, 0.81333333, 0.81333333]),\n",
      "    'split2_test_score': array([0.78, 0.78, 0.78, 0.76, 0.76, 0.76, 0.76, 0.76, 0.76]),\n",
      "    'split3_test_score': array([0.77333333, 0.77333333, 0.77333333, 0.78666667, 0.78666667,\n",
      "           0.78666667, 0.78666667, 0.78666667, 0.78666667]),\n",
      "    'std_fit_time': array([0.00237389, 0.00805748, 0.00340762, 0.00487482, 0.00423216,\n",
      "           0.00436376, 0.00999413, 0.0090925 , 0.00361975]),\n",
      "    'std_score_time': array([0.00301583, 0.00127783, 0.00255759, 0.00168438, 0.00282653,\n",
      "           0.00405131, 0.00482896, 0.00452681, 0.00274129]),\n",
      "    'std_test_score': array([0.01795055, 0.01795055, 0.01795055, 0.02074983, 0.02074983,\n",
      "           0.02074983, 0.02074983, 0.02074983, 0.02074983]),\n",
      "}\n"
     ]
    }
   ],
   "source": [
    "# parameters for poly with degree 2 kernel\n",
    "parameters = {'C': [0.01, 0.1, 1],'gamma':[0.01,0.1,1]}\n",
    "\n",
    "#run SVM with poly of degree 2 kernel\n",
    "m = SVC(kernel='linear', degree=2)\n",
    "svm = GridSearchCV(m, parameters ,n_jobs=-1, cv=4).fit(X_train, y_train)\n",
    "\n",
    "print ('RESULTS FOR POLY DEGREE=2 KERNEL')\n",
    "\n",
    "for x,y in zip(y_test[:20], svm.predict(X_test)[:20]):\n",
    "    print(x, y)\n",
    "\n",
    "print(\"Best parameters set found:\")\n",
    "print(svm.best_estimator_.get_params())\n",
    "\n",
    "print(\"Score with best parameters on Test set:\")\n",
    "print(svm.best_estimator_.score(X_test, y_test))\n",
    "\n",
    "print(\"All scores on the grid:\")\n",
    "pp((svm.cv_results_))"
   ]
  },
  {
   "cell_type": "markdown",
   "metadata": {},
   "source": [
    "## TO DO 3\n",
    "\n",
    "Now let's try a higher degree for the polynomial kernel (e.g., 3rd degree)."
   ]
  },
  {
   "cell_type": "code",
   "execution_count": 10,
   "metadata": {},
   "outputs": [
    {
     "name": "stdout",
     "output_type": "stream",
     "text": [
      "RESULTS FOR POLY DEGREE=3 KERNEL\n",
      "7 7\n",
      "7 4\n",
      "7 8\n",
      "9 9\n",
      "1 1\n",
      "9 9\n",
      "4 4\n",
      "6 2\n",
      "5 5\n",
      "0 0\n",
      "4 4\n",
      "2 2\n",
      "1 6\n",
      "9 9\n",
      "4 4\n",
      "8 8\n",
      "9 9\n",
      "9 9\n",
      "1 1\n",
      "9 9\n",
      "Best parameters set found:\n",
      "{'C': 0.1, 'break_ties': False, 'cache_size': 200, 'class_weight': None, 'coef0': 0.0, 'decision_function_shape': 'ovr', 'degree': 3, 'gamma': 0.01, 'kernel': 'linear', 'max_iter': -1, 'probability': False, 'random_state': None, 'shrinking': True, 'tol': 0.001, 'verbose': False}\n",
      "Score with best parameters on Test set:\n",
      "0.763\n",
      "All scores on the grid:\n",
      "{\n",
      "    'mean_fit_time': array([0.08271372, 0.08048338, 0.06554914, 0.06536508, 0.07001418,\n",
      "           0.06538552, 0.06609893, 0.06254679, 0.0484817 ]),\n",
      "    'mean_score_time': array([0.0199787 , 0.01622623, 0.01824981, 0.01571149, 0.01198536,\n",
      "           0.01625621, 0.01517695, 0.01388973, 0.00991601]),\n",
      "    'mean_test_score': array([0.76333333, 0.76333333, 0.76333333, 0.78166667, 0.78166667,\n",
      "           0.78166667, 0.78166667, 0.78166667, 0.78166667]),\n",
      "    'param_C': masked_array(data=[0.01, 0.01, 0.01, 0.1, 0.1, 0.1, 1, 1, 1],\n",
      "                 mask=[False, False, False, False, False, False, False, False,\n",
      "                       False],\n",
      "           fill_value='?',\n",
      "                dtype=object),\n",
      "    'param_gamma': masked_array(data=[0.01, 0.1, 1, 0.01, 0.1, 1, 0.01, 0.1, 1],\n",
      "                 mask=[False, False, False, False, False, False, False, False,\n",
      "                       False],\n",
      "           fill_value='?',\n",
      "                dtype=object),\n",
      "    'params': [\n",
      "        {'C': 0.01, 'gamma': 0.01},\n",
      "        {'C': 0.01, 'gamma': 0.1},\n",
      "        {'C': 0.01, 'gamma': 1},\n",
      "        {'C': 0.1, 'gamma': 0.01},\n",
      "        {'C': 0.1, 'gamma': 0.1},\n",
      "        {'C': 0.1, 'gamma': 1},\n",
      "        {'C': 1, 'gamma': 0.01},\n",
      "        {'C': 1, 'gamma': 0.1},\n",
      "        {'C': 1, 'gamma': 1},\n",
      "    ],\n",
      "    'rank_test_score': array([7, 7, 7, 1, 1, 1, 1, 1, 1], dtype=int32),\n",
      "    'split0_test_score': array([0.73333333, 0.73333333, 0.73333333, 0.76666667, 0.76666667,\n",
      "           0.76666667, 0.76666667, 0.76666667, 0.76666667]),\n",
      "    'split1_test_score': array([0.76666667, 0.76666667, 0.76666667, 0.81333333, 0.81333333,\n",
      "           0.81333333, 0.81333333, 0.81333333, 0.81333333]),\n",
      "    'split2_test_score': array([0.78, 0.78, 0.78, 0.76, 0.76, 0.76, 0.76, 0.76, 0.76]),\n",
      "    'split3_test_score': array([0.77333333, 0.77333333, 0.77333333, 0.78666667, 0.78666667,\n",
      "           0.78666667, 0.78666667, 0.78666667, 0.78666667]),\n",
      "    'std_fit_time': array([0.00491289, 0.00485048, 0.00392697, 0.00185276, 0.00456688,\n",
      "           0.00441118, 0.00523572, 0.00218336, 0.00208727]),\n",
      "    'std_score_time': array([0.00338305, 0.00262348, 0.00116395, 0.00309934, 0.00103903,\n",
      "           0.00227903, 0.00332202, 0.00234765, 0.00026028]),\n",
      "    'std_test_score': array([0.01795055, 0.01795055, 0.01795055, 0.02074983, 0.02074983,\n",
      "           0.02074983, 0.02074983, 0.02074983, 0.02074983]),\n",
      "}\n"
     ]
    }
   ],
   "source": [
    "# parameters for poly with higher degree kernel\n",
    "parameters = {'C': [0.01, 0.1, 1],'gamma':[0.01,0.1,1]}\n",
    "\n",
    "#run SVM with poly of degree 2 kernel\n",
    "m = SVC(kernel='linear', degree=3)\n",
    "svm = GridSearchCV(m, parameters ,n_jobs=-1, cv=4).fit(X_train, y_train)\n",
    "\n",
    "print ('RESULTS FOR POLY DEGREE=3 KERNEL')\n",
    "\n",
    "for x,y in zip(y_test[:20], svm.predict(X_test)[:20]):\n",
    "    print(x, y)\n",
    "\n",
    "print(\"Best parameters set found:\")\n",
    "print(svm.best_estimator_.get_params())\n",
    "\n",
    "print(\"Score with best parameters on Test set:\")\n",
    "print(svm.best_estimator_.score(X_test, y_test))\n",
    "\n",
    "print(\"All scores on the grid:\")\n",
    "pp((svm.cv_results_))"
   ]
  },
  {
   "cell_type": "markdown",
   "metadata": {},
   "source": [
    "\n",
    "## TO DO 4\n",
    "Pick a model for the Radial Basis Function kernel:"
   ]
  },
  {
   "cell_type": "code",
   "execution_count": 11,
   "metadata": {},
   "outputs": [
    {
     "name": "stdout",
     "output_type": "stream",
     "text": [
      "RESULTS FOR RFB KERNEL\n",
      "7 7\n",
      "7 4\n",
      "7 8\n",
      "9 9\n",
      "1 1\n",
      "9 9\n",
      "4 4\n",
      "6 2\n",
      "5 5\n",
      "0 0\n",
      "4 4\n",
      "2 2\n",
      "1 6\n",
      "9 9\n",
      "4 4\n",
      "8 8\n",
      "9 9\n",
      "9 9\n",
      "1 1\n",
      "9 9\n",
      "Best parameters set found:\n",
      "{'C': 10, 'break_ties': False, 'cache_size': 200, 'class_weight': None, 'coef0': 0.0, 'decision_function_shape': 'ovr', 'degree': 3, 'gamma': 0.01, 'kernel': 'rbf', 'max_iter': -1, 'probability': False, 'random_state': None, 'shrinking': True, 'tol': 0.001, 'verbose': False}\n",
      "Score with best parameters on Test set:\n",
      "0.8385\n",
      "All scores on the grid:\n",
      "{\n",
      "    'mean_fit_time': array([0.12777251, 0.1224885 , 0.11843532, 0.1170851 , 0.09699571,\n",
      "           0.10804397, 0.11617279, 0.11055887, 0.07438391, 0.10982025,\n",
      "           0.11640191, 0.11714333, 0.07986277, 0.11364079, 0.09769475,\n",
      "           0.11017966]),\n",
      "    'mean_score_time': array([0.03717613, 0.03594309, 0.03646582, 0.0399186 , 0.04233974,\n",
      "           0.03487933, 0.03411567, 0.03786284, 0.02816349, 0.03497416,\n",
      "           0.03572011, 0.03627199, 0.03450817, 0.02878922, 0.02791905,\n",
      "           0.02645355]),\n",
      "    'mean_test_score': array([0.13166667, 0.225     , 0.13166667, 0.13166667, 0.62833333,\n",
      "           0.805     , 0.14166667, 0.13166667, 0.78666667, 0.82333333,\n",
      "           0.14833333, 0.13166667, 0.79333333, 0.82333333, 0.14833333,\n",
      "           0.13166667]),\n",
      "    'param_C': masked_array(data=[0.1, 0.1, 0.1, 0.1, 1, 1, 1, 1, 10, 10, 10, 10, 100,\n",
      "                       100, 100, 100],\n",
      "                 mask=[False, False, False, False, False, False, False, False,\n",
      "                       False, False, False, False, False, False, False, False],\n",
      "           fill_value='?',\n",
      "                dtype=object),\n",
      "    'param_gamma': masked_array(data=[0.001, 0.01, 0.1, 1, 0.001, 0.01, 0.1, 1, 0.001, 0.01,\n",
      "                       0.1, 1, 0.001, 0.01, 0.1, 1],\n",
      "                 mask=[False, False, False, False, False, False, False, False,\n",
      "                       False, False, False, False, False, False, False, False],\n",
      "           fill_value='?',\n",
      "                dtype=object),\n",
      "    'params': [\n",
      "        {'C': 0.1, 'gamma': 0.001},\n",
      "        {'C': 0.1, 'gamma': 0.01},\n",
      "        {'C': 0.1, 'gamma': 0.1},\n",
      "        {'C': 0.1, 'gamma': 1},\n",
      "        {'C': 1, 'gamma': 0.001},\n",
      "        {'C': 1, 'gamma': 0.01},\n",
      "        {'C': 1, 'gamma': 0.1},\n",
      "        {'C': 1, 'gamma': 1},\n",
      "        {'C': 10, 'gamma': 0.001},\n",
      "        {'C': 10, 'gamma': 0.01},\n",
      "        {'C': 10, 'gamma': 0.1},\n",
      "        {'C': 10, 'gamma': 1},\n",
      "        {'C': 100, 'gamma': 0.001},\n",
      "        {'C': 100, 'gamma': 0.01},\n",
      "        {'C': 100, 'gamma': 0.1},\n",
      "        {'C': 100, 'gamma': 1},\n",
      "    ],\n",
      "    'rank_test_score': array([11,  7, 11, 11,  6,  3, 10, 11,  5,  1,  8, 11,  4,  1,  8, 11],\n",
      "          dtype=int32),\n",
      "    'split0_test_score': array([0.13333333, 0.21333333, 0.13333333, 0.13333333, 0.64      ,\n",
      "           0.78666667, 0.14      , 0.13333333, 0.76      , 0.80666667,\n",
      "           0.14      , 0.13333333, 0.78666667, 0.80666667, 0.14      ,\n",
      "           0.13333333]),\n",
      "    'split1_test_score': array([0.13333333, 0.22666667, 0.13333333, 0.13333333, 0.64      ,\n",
      "           0.79333333, 0.14666667, 0.13333333, 0.79333333, 0.82      ,\n",
      "           0.15333333, 0.13333333, 0.82      , 0.82      , 0.15333333,\n",
      "           0.13333333]),\n",
      "    'split2_test_score': array([0.13333333, 0.24666667, 0.13333333, 0.13333333, 0.59333333,\n",
      "           0.82      , 0.14      , 0.13333333, 0.78666667, 0.80666667,\n",
      "           0.15333333, 0.13333333, 0.76      , 0.80666667, 0.15333333,\n",
      "           0.13333333]),\n",
      "    'split3_test_score': array([0.12666667, 0.21333333, 0.12666667, 0.12666667, 0.64      ,\n",
      "           0.82      , 0.14      , 0.12666667, 0.80666667, 0.86      ,\n",
      "           0.14666667, 0.12666667, 0.80666667, 0.86      , 0.14666667,\n",
      "           0.12666667]),\n",
      "    'std_fit_time': array([0.00439802, 0.00752092, 0.00835169, 0.00336383, 0.00542825,\n",
      "           0.00580301, 0.00141998, 0.00316625, 0.00182981, 0.00313721,\n",
      "           0.00091014, 0.00178233, 0.00270051, 0.01794571, 0.01137735,\n",
      "           0.0212297 ]),\n",
      "    'std_score_time': array([0.00154654, 0.00206721, 0.00239444, 0.00562817, 0.00839441,\n",
      "           0.00434991, 0.00394172, 0.00224266, 0.0005126 , 0.00177997,\n",
      "           0.00202661, 0.00193833, 0.0027786 , 0.00394308, 0.00401961,\n",
      "           0.00260629]),\n",
      "    'std_test_score': array([0.00288675, 0.01364225, 0.00288675, 0.00288675, 0.02020726,\n",
      "           0.01518406, 0.00288675, 0.00288675, 0.01699673, 0.02185813,\n",
      "           0.00552771, 0.00288675, 0.02260777, 0.02185813, 0.00552771,\n",
      "           0.00288675]),\n",
      "}\n"
     ]
    }
   ],
   "source": [
    "# parameters for rbf SVM\n",
    "parameters = {'C': [0.1, 1, 10, 100],'gamma':[0.001, 0.01, 0.1,1]}\n",
    "\n",
    "#run SVM with poly of degree 2 kernel\n",
    "m = SVC(kernel='rbf')\n",
    "svm = GridSearchCV(m, parameters ,n_jobs=-1, cv=4).fit(X_train, y_train)\n",
    "\n",
    "print ('RESULTS FOR RFB KERNEL')\n",
    "\n",
    "for x,y in zip(y_test[:20], svm.predict(X_test)[:20]):\n",
    "    print(x, y)\n",
    "\n",
    "print(\"Best parameters set found:\")\n",
    "print(svm.best_estimator_.get_params())\n",
    "\n",
    "print(\"Score with best parameters on Test set:\")\n",
    "print(svm.best_estimator_.score(X_test, y_test))\n",
    "\n",
    "print(\"All scores on the grid:\")\n",
    "pp((svm.cv_results_))"
   ]
  },
  {
   "cell_type": "markdown",
   "metadata": {},
   "source": [
    "## QUESTION 1\n",
    "What do you observe when using linear, polynomial and RBF kernels on this dataset ?\n",
    "\n",
    "The linear kernel and the poly kernel's are having almost the same score. Only the RFB kernel is way better but in timing there is no big difference between all of them."
   ]
  },
  {
   "cell_type": "markdown",
   "metadata": {},
   "source": [
    "## TO DO 5\n",
    "Report here the best SVM kernel and parameters"
   ]
  },
  {
   "cell_type": "code",
   "execution_count": 15,
   "metadata": {},
   "outputs": [
    {
     "name": "stdout",
     "output_type": "stream",
     "text": [
      "Best SVM training error: 0.000000\n",
      "Best SVM test error: 0.161500\n"
     ]
    }
   ],
   "source": [
    "#get training and test error for the best SVM model from CV\n",
    "best_params = {'C':[10], 'gamma':[0.01]}\n",
    "\n",
    "best_ = SVC(kernel='rbf')\n",
    "best_SVM = GridSearchCV(best_, best_params ,n_jobs=-1, cv=4).fit(X_train, y_train)\n",
    "\n",
    "# (error is 1 - svm.score)\n",
    "\n",
    "training_error = 1 - best_SVM.best_estimator_.score(X_train, y_train)\n",
    "test_error = 1- best_SVM.best_estimator_.score(X_test, y_test)\n",
    "\n",
    "print (\"Best SVM training error: %f\" % training_error)\n",
    "print (\"Best SVM test error: %f\" % test_error)"
   ]
  },
  {
   "cell_type": "markdown",
   "metadata": {},
   "source": [
    "## TO DO 6\n",
    "\n",
    "Analyze how the gamma parameter (inversely proportional to standard deviation of Gaussian Kernel)\n",
    "impact the performances of the classifier"
   ]
  },
  {
   "cell_type": "code",
   "execution_count": 16,
   "metadata": {},
   "outputs": [
    {
     "name": "stdout",
     "output_type": "stream",
     "text": [
      "[1.e-05 1.e-04 1.e-03 1.e-02 1.e-01 1.e+00 1.e+01 1.e+02]\n"
     ]
    }
   ],
   "source": [
    "#Test with different values of gamma\n",
    "\n",
    "# Set gamma values\n",
    "gamma_values = np.logspace(-5,2,8)\n",
    "print(gamma_values)\n"
   ]
  },
  {
   "cell_type": "code",
   "execution_count": 17,
   "metadata": {},
   "outputs": [
    {
     "data": {
      "image/png": "[encoded data removed]",
      "text/plain": [
       "<Figure size 1080x360 with 2 Axes>"
      ]
     },
     "metadata": {
      "needs_background": "light"
     },
     "output_type": "display_data"
    }
   ],
   "source": [
    "# Try the SVM with the previously set values of gamma\n",
    "# use rbf kernel and C=1\n",
    "\n",
    "train_acc_list, test_acc_list = [], []\n",
    "\n",
    "for i in gamma_values:\n",
    "    parameters = {'C':[1], 'gamma':[i]}\n",
    "    m = SVC(kernel='rbf')\n",
    "    svm = GridSearchCV(m, parameters, n_jobs=-1, cv=4).fit(X_train, y_train)\n",
    "\n",
    "    train_acc_list.append(svm.best_estimator_.score(X_train, y_train))\n",
    "    test_acc_list.append(svm.best_estimator_.score(X_test, y_test))\n",
    "\n",
    "\n",
    "# ADD YOUR CODE TO TRAIN THE SVM MULTIPLE TIMES WITH THE DIFFERENT VALUES OF GAMMA\n",
    "# PLACE THE TRAIN AND TEST ACCURACY FOR EACH TEST IN THE TRAIN AND TEST ACCURACY LISTS\n",
    "\n",
    "# Plot\n",
    "fig, ax = plt.subplots(1,2, figsize=(15,5))\n",
    "\n",
    "ax[0].plot(gamma_values, train_acc_list)\n",
    "ax[0].set_xscale('log')\n",
    "ax[0].set_xlabel('gamma')\n",
    "ax[0].set_ylabel('Train accuracy')\n",
    "ax[0].grid(True)\n",
    "\n",
    "ax[1].plot(gamma_values, test_acc_list)\n",
    "ax[1].set_xscale('log')\n",
    "ax[1].set_xlabel('gamma')\n",
    "ax[1].set_ylabel('Test accuracy')\n",
    "ax[1].grid(True)\n",
    "\n",
    "\n",
    "plt.show()"
   ]
  },
  {
   "cell_type": "markdown",
   "metadata": {},
   "source": [
    "## QUESTION 2\n",
    "How do the train and test error change when changing gamma ? Which is the best value of gamma ? \n",
    "Connect your answers to the discussion about the overfitting issue.\n",
    "\n",
    "The error of the training set is getting better with higher gamma but not the accuracy of the test set. Thats the problem of overfitting, with too high gamma we are overfitting the model. The error for the training set is the best for a specific value of gamma and we need this value for perfect balance between over- and underfitting"
   ]
  },
  {
   "cell_type": "markdown",
   "metadata": {},
   "source": [
    "## More data\n",
    "Now let's do the same but using more data points for training.\n",
    "\n",
    "\n",
    "Choose a new number of data points."
   ]
  },
  {
   "cell_type": "code",
   "execution_count": 18,
   "metadata": {},
   "outputs": [
    {
     "name": "stdout",
     "output_type": "stream",
     "text": [
      "Labels in training dataset:  [0 1 2 3 4 5 6 7 8 9]\n",
      "Frequencies in training dataset:  [195 194 204 204 186 204 175 205 225 208]\n"
     ]
    }
   ],
   "source": [
    "X, y = load_mnist('data', kind='train')\n",
    "X, y = X / 255., y\n",
    "\n",
    "permutation = np.random.permutation(X.shape[0])\n",
    "\n",
    "X = X[permutation]\n",
    "y = y[permutation]\n",
    "\n",
    "m_training = 2000 # TODO number of data points, adjust depending on the capabilities of your PC\n",
    "\n",
    "X_train, X_test = X[:m_training], X[m_training:]\n",
    "y_train, y_test = y[:m_training], y[m_training:]\n",
    "\n",
    "\n",
    "labels, freqs = np.unique(y_train, return_counts=True)\n",
    "print(\"Labels in training dataset: \", labels)\n",
    "print(\"Frequencies in training dataset: \", freqs)"
   ]
  },
  {
   "cell_type": "markdown",
   "metadata": {},
   "source": [
    "## TO DO 7\n",
    "\n",
    "Let's try to use SVM with parameters obtained from the best model for $m_{training} =  2000$. Since it may take a long\n",
    "time to run, you can decide to just let it run for some time and stop it if it does not complete. If you decide to do\n",
    "this, report it in the cell below."
   ]
  },
  {
   "cell_type": "code",
   "execution_count": 19,
   "metadata": {
    "scrolled": true
   },
   "outputs": [
    {
     "name": "stdout",
     "output_type": "stream",
     "text": [
      "Best SVM training error: 0.000000\n",
      "Best SVM test error: 0.117086\n"
     ]
    }
   ],
   "source": [
    "#get training and test error for the best SVM model from CV\n",
    "\n",
    "parameters = {'C':[10], 'gamma':[0.01]}\n",
    "m = SVC(kernel='rbf')\n",
    "svm = GridSearchCV(m, parameters, n_jobs=-1, cv=4).fit(X_train, y_train)\n",
    "\n",
    "training_error = 1 - svm.best_estimator_.score(X_train, y_train)\n",
    "test_error = 1- svm.best_estimator_.score(X_test, y_test)\n",
    "print (\"Best SVM training error: %f\" % training_error)\n",
    "print (\"Best SVM test error: %f\" % test_error)\n",
    "\n",
    "# for 20000, Best SVM training error: 0.000050, Best SVM test error: 0.046850"
   ]
  },
  {
   "cell_type": "markdown",
   "metadata": {},
   "source": [
    "Just for comparison, let's also use logistic regression \n",
    "\n",
    "## TO DO 8 Try first without regularization (use a very large, large C)¶"
   ]
  },
  {
   "cell_type": "code",
   "execution_count": 20,
   "metadata": {},
   "outputs": [
    {
     "name": "stdout",
     "output_type": "stream",
     "text": [
      "Best logistic regression training error: 0.000000\n",
      "Best logistic regression test error: 0.282690\n"
     ]
    }
   ],
   "source": [
    "from sklearn import linear_model\n",
    "\n",
    "logreg = linear_model.LogisticRegression(C=10**64).fit(X_train, y_train)\n",
    "\n",
    "training_error = 1 - logreg.score(X_train, y_train)\n",
    "test_error = 1- logreg.score(X_test, y_test)\n",
    "\n",
    "print (\"Best logistic regression training error: %f\" % training_error)\n",
    "print (\"Best logistic regression test error: %f\" % test_error)"
   ]
  },
  {
   "cell_type": "markdown",
   "metadata": {},
   "source": [
    "## TO DO 9 Try  with regularization (use C=1)¶"
   ]
  },
  {
   "cell_type": "code",
   "execution_count": 21,
   "metadata": {},
   "outputs": [
    {
     "name": "stdout",
     "output_type": "stream",
     "text": [
      "Best logistic regression training error: 0.415000\n",
      "Best logistic regression test error: 0.452810\n"
     ]
    }
   ],
   "source": [
    "logreg = linear_model.LogisticRegressionCV(Cs=1, n_jobs=-1).fit(X_train, y_train)\n",
    "\n",
    "training_error = 1 - logreg.score(X_train, y_train)\n",
    "test_error = 1- logreg.score(X_test, y_test)\n",
    "\n",
    "print (\"Best logistic regression training error: %f\" % training_error)\n",
    "print (\"Best logistic regression test error: %f\" % test_error)"
   ]
  },
  {
   "cell_type": "markdown",
   "metadata": {},
   "source": [
    "## QUESTION 3\n",
    "Compare and discuss:\n",
    "- the results from SVM with m=600 and with m=2000 training data points. If you stopped the SVM,\n",
    "include such aspect in your comparison.\n",
    "- the results of SVM and of Logistic Regression\n",
    "\n",
    "The score is getting better with more data as expected but the time we need to compute also rises extremly. I did it for m = 20000 once and got of 4,7%. So we need to find a balance between running time and accuracy. The logisitc regression was very fast but als not very accurat, i got an error 30% without regularization and between 90% and 40% with regularization. So the error with regularization is very random."
   ]
  },
  {
   "cell_type": "markdown",
   "metadata": {},
   "source": [
    "## TO DO 10\n",
    "Plot an item of clothing that is missclassified by logistic regression and correctly classified by SVM."
   ]
  },
  {
   "cell_type": "code",
   "execution_count": 22,
   "metadata": {},
   "outputs": [],
   "source": [
    "LR_prediction = linear_model.LogisticRegression(C=10**64).fit(X_train, y_train)\n",
    "lr_xy = LR_prediction.predict(X_test)"
   ]
  },
  {
   "cell_type": "code",
   "execution_count": 23,
   "metadata": {},
   "outputs": [],
   "source": [
    "m = SVC(kernel='rbf')\n",
    "SVM_prediction = GridSearchCV(m, parameters, n_jobs=-1, cv=4).fit(X_train, y_train)\n",
    "svm_xy = SVM_prediction.predict(X_test)"
   ]
  },
  {
   "cell_type": "code",
   "execution_count": 80,
   "metadata": {},
   "outputs": [
    {
     "ename": "SyntaxError",
     "evalue": "invalid syntax (1401886256.py, line 3)",
     "output_type": "error",
     "traceback": [
      "\u001b[0;36m  File \u001b[0;32m\"/var/folders/0c/s31t6sbs7x92vc54xc4x32n40000gn/T/ipykernel_76992/1401886256.py\"\u001b[0;36m, line \u001b[0;32m3\u001b[0m\n\u001b[0;31m    int index = 0\u001b[0m\n\u001b[0m        ^\u001b[0m\n\u001b[0;31mSyntaxError\u001b[0m\u001b[0;31m:\u001b[0m invalid syntax\n"
     ]
    }
   ],
   "source": [
    "miss = np.array([])\n",
    "list_ind = np.array([])\n",
    "index = 0\n",
    "for lr,svm,y in zip(lr_xy, svm_xy, y_test):\n",
    "    index += 1\n",
    "    if y != lr & y == svm:\n",
    "        miss = np.append(miss, int(y))\n",
    "        list_ind = np.append(list_ind, index)\n",
    "        "
   ]
  },
  {
   "cell_type": "code",
   "execution_count": 71,
   "metadata": {},
   "outputs": [
    {
     "data": {
      "image/png": "[encoded data removed]",
      "text/plain": [
       "<Figure size 432x288 with 1 Axes>"
      ]
     },
     "metadata": {
      "needs_background": "light"
     },
     "output_type": "display_data"
    }
   ],
   "source": [
    "miss = pd.DataFrame(miss).astype(int)\n",
    "val = miss.value_counts().sort_index()\n",
    "labels = [i[0] for i in val.index] + [0]\n",
    "y = np.append(val.values, 0)\n",
    "\n",
    "plt.xlabel('Label')\n",
    "plt.ylabel('Number misclassified')\n",
    "plt.bar(labels, y, width=1, edgecolor=\"white\", linewidth=0.7)\n",
    "plt.xticks(np.arange(10))\n",
    "plt.show()"
   ]
  },
  {
   "cell_type": "code",
   "execution_count": 88,
   "metadata": {},
   "outputs": [
    {
     "name": "stdout",
     "output_type": "stream",
     "text": [
      "INPUT:\n"
     ]
    },
    {
     "data": {
      "image/png": "[encoded data removed]",
      "text/plain": [
       "<Figure size 432x288 with 1 Axes>"
      ]
     },
     "metadata": {
      "needs_background": "light"
     },
     "output_type": "display_data"
    },
    {
     "name": "stdout",
     "output_type": "stream",
     "text": [
      "LABEL: 1\n"
     ]
    }
   ],
   "source": [
    "plot_input(X_test, y_test, int(list_ind[0]))\n"
   ]
  },
  {
   "cell_type": "markdown",
   "metadata": {},
   "source": [
    "## TO DO 11\n",
    "Plot the confusion matrix for the SVM classifier and for logistic regression.\n",
    "The confusion matrix has one column for each predicted label and one row for each true label. \n",
    "It shows for each class in the corresponding row how many samples belonging to that class gets each possible output\n",
    "label. Notice that the diagonal contains the correctly classified samples, while the other cells correspond to errors.\n",
    "You can obtain it with the sklearn.metrics.confusion_matrix function (see the documentation).\n",
    "Try also to normalize the confusion matrix by the number of samples in each class in order to measure the accuracy on\n",
    "each single class.\n"
   ]
  },
  {
   "cell_type": "code",
   "execution_count": 89,
   "metadata": {},
   "outputs": [
    {
     "name": "stdout",
     "output_type": "stream",
     "text": [
      "Labels and frequencies in test set:  [5825 5813 5809 5795 5796 5790 5810 5779 5791 5792]\n",
      "\n",
      " Confusion matrix SVM  \n",
      " \n",
      " [[5405    2    6   26  117   50    7  104   45   63]\n",
      " [  28 4923  148   80  133   38   97    6  152  208]\n",
      " [   0   95 4683  187   71   38  408   31  215   81]\n",
      " [  11   67   75 5346   57   59   25   49   93   13]\n",
      " [ 156   98  138   43 5063   30   61   29   87   91]\n",
      " [  37   40   87  190   41 5235   27   26   91   16]\n",
      " [  12  154  381   52  220   34 4797   68   79   13]\n",
      " [  48   12   61   35  117    8   59 5330   77   32]\n",
      " [  47   99   74   78   35   40  106   11 5282   19]\n",
      " [  31  117  157   31  130   20   21   19   70 5196]]\n",
      "\n",
      " Confusion matrix SVM (normalized)   \n",
      " \n",
      " [[0.93 0.   0.   0.   0.02 0.01 0.   0.02 0.01 0.01]\n",
      " [0.   0.85 0.03 0.01 0.02 0.01 0.02 0.   0.03 0.04]\n",
      " [0.   0.02 0.81 0.03 0.01 0.01 0.07 0.01 0.04 0.01]\n",
      " [0.   0.01 0.01 0.92 0.01 0.01 0.   0.01 0.02 0.  ]\n",
      " [0.03 0.02 0.02 0.01 0.87 0.01 0.01 0.01 0.02 0.02]\n",
      " [0.01 0.01 0.02 0.03 0.01 0.9  0.   0.   0.02 0.  ]\n",
      " [0.   0.03 0.07 0.01 0.04 0.01 0.83 0.01 0.01 0.  ]\n",
      " [0.01 0.   0.01 0.01 0.02 0.   0.01 0.92 0.01 0.01]\n",
      " [0.01 0.02 0.01 0.01 0.01 0.01 0.02 0.   0.91 0.  ]\n",
      " [0.01 0.02 0.03 0.01 0.02 0.   0.   0.   0.01 0.9 ]]\n",
      "\n",
      " Confusion matrix LR  \n",
      " \n",
      " [[4666    6   28   50  325  139   74  207   97  233]\n",
      " [  13 3782  527  139  334  103  208   30  299  378]\n",
      " [   4  260 3225  223  269  262  689  119  567  191]\n",
      " [  30  125  127 4497  203  307  109  199  149   49]\n",
      " [ 194  294  245   95 4255  101  183  106  100  223]\n",
      " [ 172   82  126  428  114 4385   83  143  186   71]\n",
      " [  31  276  491  145  207  151 4084   81  271   73]\n",
      " [ 112   50  112  129  238  150  174 4569  141  104]\n",
      " [  68  349  445  149   94  116  222   21 4181  146]\n",
      " [ 109  262  391   43  387   58  108  149  152 4133]]\n",
      "\n",
      " Confusion matrix LR (normalized)   \n",
      " \n",
      " [[0.8  0.   0.   0.01 0.06 0.02 0.01 0.04 0.02 0.04]\n",
      " [0.   0.65 0.09 0.02 0.06 0.02 0.04 0.01 0.05 0.07]\n",
      " [0.   0.04 0.56 0.04 0.05 0.05 0.12 0.02 0.1  0.03]\n",
      " [0.01 0.02 0.02 0.78 0.04 0.05 0.02 0.03 0.03 0.01]\n",
      " [0.03 0.05 0.04 0.02 0.73 0.02 0.03 0.02 0.02 0.04]\n",
      " [0.03 0.01 0.02 0.07 0.02 0.76 0.01 0.02 0.03 0.01]\n",
      " [0.01 0.05 0.08 0.02 0.04 0.03 0.7  0.01 0.05 0.01]\n",
      " [0.02 0.01 0.02 0.02 0.04 0.03 0.03 0.79 0.02 0.02]\n",
      " [0.01 0.06 0.08 0.03 0.02 0.02 0.04 0.   0.72 0.03]\n",
      " [0.02 0.05 0.07 0.01 0.07 0.01 0.02 0.03 0.03 0.71]]\n"
     ]
    }
   ],
   "source": [
    "np.set_printoptions(precision=2, suppress=True) # for better aligned printing of confusion matrix use floatmode='fixed'\n",
    "\n",
    "u, counts = np.unique(y_test, return_counts=True)\n",
    "print(\"Labels and frequencies in test set: \", counts)\n",
    "\n",
    "confusion_SVM = sklearn.metrics.confusion_matrix(y_test, svm_xy)\n",
    "print(\"\\n Confusion matrix SVM  \\n \\n\", confusion_SVM)\n",
    "print(\"\\n Confusion matrix SVM (normalized)   \\n \\n\", confusion_SVM/counts[:,None])\n",
    "\n",
    "confusion_LR =  sklearn.metrics.confusion_matrix(y_test, lr_xy)\n",
    "print(\"\\n Confusion matrix LR  \\n \\n\", confusion_LR)\n",
    "print(\"\\n Confusion matrix LR (normalized)   \\n \\n\", confusion_LR/counts[:,None] )"
   ]
  },
  {
   "cell_type": "code",
   "execution_count": 90,
   "metadata": {},
   "outputs": [
    {
     "name": "stdout",
     "output_type": "stream",
     "text": [
      "Normalized Confusion Matrix SVM \n",
      "\n",
      "[[1.   0.   0.   0.   0.02 0.01 0.   0.02 0.01 0.01]\n",
      " [0.01 0.91 0.03 0.01 0.02 0.01 0.02 0.   0.03 0.04]\n",
      " [0.   0.02 0.87 0.03 0.01 0.01 0.08 0.01 0.04 0.01]\n",
      " [0.   0.01 0.01 0.99 0.01 0.01 0.   0.01 0.02 0.  ]\n",
      " [0.03 0.02 0.03 0.01 0.94 0.01 0.01 0.01 0.02 0.02]\n",
      " [0.01 0.01 0.02 0.04 0.01 0.97 0.   0.   0.02 0.  ]\n",
      " [0.   0.03 0.07 0.01 0.04 0.01 0.89 0.01 0.01 0.  ]\n",
      " [0.01 0.   0.01 0.01 0.02 0.   0.01 0.99 0.01 0.01]\n",
      " [0.01 0.02 0.01 0.01 0.01 0.01 0.02 0.   0.98 0.  ]\n",
      " [0.01 0.02 0.03 0.01 0.02 0.   0.   0.   0.01 0.96]] \n",
      "\n",
      "Normalized Confusion Matrix LR \n",
      "\n",
      "[[1.   0.   0.01 0.01 0.07 0.03 0.02 0.04 0.02 0.05]\n",
      " [0.   0.81 0.11 0.03 0.07 0.02 0.04 0.01 0.06 0.08]\n",
      " [0.   0.06 0.69 0.05 0.06 0.06 0.15 0.03 0.12 0.04]\n",
      " [0.01 0.03 0.03 0.96 0.04 0.07 0.02 0.04 0.03 0.01]\n",
      " [0.04 0.06 0.05 0.02 0.91 0.02 0.04 0.02 0.02 0.05]\n",
      " [0.04 0.02 0.03 0.09 0.02 0.94 0.02 0.03 0.04 0.02]\n",
      " [0.01 0.06 0.11 0.03 0.04 0.03 0.88 0.02 0.06 0.02]\n",
      " [0.02 0.01 0.02 0.03 0.05 0.03 0.04 0.98 0.03 0.02]\n",
      " [0.01 0.07 0.1  0.03 0.02 0.02 0.05 0.   0.9  0.03]\n",
      " [0.02 0.06 0.08 0.01 0.08 0.01 0.02 0.03 0.03 0.89]]\n"
     ]
    }
   ],
   "source": [
    "confusion_SVM = confusion_SVM/confusion_SVM.max() # ...confusion_matrix(y_test, svm_xy, normalize='true')\n",
    "confusion_LR = confusion_LR/confusion_LR.max()\n",
    "print('Normalized Confusion Matrix SVM \\n' )\n",
    "print(confusion_SVM,'\\n')\n",
    "print('Normalized Confusion Matrix LR \\n' )\n",
    "print(confusion_LR)"
   ]
  },
  {
   "cell_type": "markdown",
   "metadata": {},
   "source": [
    "## QUESTION 4\n",
    "Have a look at the confusion matrices and comment on the obtained accuracies. Why some classes have lower accuracies and\n",
    "others a higher one ? Make some guesses on the possible causes.\n",
    "\n",
    "The accuracy on the different labels could depend on similarity to other labels. If a label is very unique from the pattern, shapes, brightness, etc. it is maybe more easy to calculate the difference between this and other labels. On the other hand it is probably very hard to tell the difference between two labels which are looking very similiar. Even for the human brain it is hard sometimes to tell read handwriting from other people. It is probably the same for a Model."
   ]
  }
 ],
 "metadata": {
  "kernelspec": {
   "display_name": "Python 3 (ipykernel)",
   "language": "python",
   "name": "python3"
  },
  "language_info": {
   "codemirror_mode": {
    "name": "ipython",
    "version": 3
   },
   "file_extension": ".py",
   "mimetype": "text/x-python",
   "name": "python",
   "nbconvert_exporter": "python",
   "pygments_lexer": "ipython3",
   "version": "3.8.8"
  }
 },
 "nbformat": 4,
 "nbformat_minor": 4
}
